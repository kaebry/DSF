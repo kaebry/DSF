{
  "cells": [
    {
      "cell_type": "markdown",
      "metadata": {
        "id": "GwvJbNwm9EKP"
      },
      "source": [
        "# Create Daily Dataset\n",
        "\n",
        "this notebook creates a daily dataset, using the dataset with hourly data but using new hourly evaporation data from meteo suisse "
      ]
    },
    {
      "cell_type": "code",
      "execution_count": 1,
      "metadata": {
        "colab": {
          "base_uri": "https://localhost:8080/",
          "height": 399
        },
        "id": "jFOFG4MwwhPU",
        "outputId": "50780373-a495-4e64-9ca3-f36610905fc4"
      },
      "outputs": [],
      "source": [
        "import pandas as pd\n",
        "\n",
        "df = pd.read_csv(\"../../Data/clean_data/data_hourly_reduced_variables.csv\")\n",
        "\n",
        "eva =pd.read_csv(\"../../Data/raw_data/all_data_raw/evaporation_raw_data.txt\", sep=\";\")\n"
      ]
    },
    {
      "cell_type": "code",
      "execution_count": 4,
      "metadata": {},
      "outputs": [
        {
          "data": {
            "text/html": [
              "<div>\n",
              "<style scoped>\n",
              "    .dataframe tbody tr th:only-of-type {\n",
              "        vertical-align: middle;\n",
              "    }\n",
              "\n",
              "    .dataframe tbody tr th {\n",
              "        vertical-align: top;\n",
              "    }\n",
              "\n",
              "    .dataframe thead th {\n",
              "        text-align: right;\n",
              "    }\n",
              "</style>\n",
              "<table border=\"1\" class=\"dataframe\">\n",
              "  <thead>\n",
              "    <tr style=\"text-align: right;\">\n",
              "      <th></th>\n",
              "      <th>stn</th>\n",
              "      <th>time</th>\n",
              "      <th>ets150d0</th>\n",
              "      <th>erefaod0</th>\n",
              "    </tr>\n",
              "  </thead>\n",
              "  <tbody>\n",
              "    <tr>\n",
              "      <th>0</th>\n",
              "      <td>WAE</td>\n",
              "      <td>20120101</td>\n",
              "      <td>0.03</td>\n",
              "      <td>0.3</td>\n",
              "    </tr>\n",
              "    <tr>\n",
              "      <th>1</th>\n",
              "      <td>WAE</td>\n",
              "      <td>20120102</td>\n",
              "      <td>0.04</td>\n",
              "      <td>0.7</td>\n",
              "    </tr>\n",
              "    <tr>\n",
              "      <th>2</th>\n",
              "      <td>WAE</td>\n",
              "      <td>20120103</td>\n",
              "      <td>0.25</td>\n",
              "      <td>0.2</td>\n",
              "    </tr>\n",
              "    <tr>\n",
              "      <th>3</th>\n",
              "      <td>WAE</td>\n",
              "      <td>20120104</td>\n",
              "      <td>0.11</td>\n",
              "      <td>0.7</td>\n",
              "    </tr>\n",
              "    <tr>\n",
              "      <th>4</th>\n",
              "      <td>WAE</td>\n",
              "      <td>20120105</td>\n",
              "      <td>0.06</td>\n",
              "      <td>1.3</td>\n",
              "    </tr>\n",
              "    <tr>\n",
              "      <th>...</th>\n",
              "      <td>...</td>\n",
              "      <td>...</td>\n",
              "      <td>...</td>\n",
              "      <td>...</td>\n",
              "    </tr>\n",
              "    <tr>\n",
              "      <th>11925</th>\n",
              "      <td>SMA</td>\n",
              "      <td>20221115</td>\n",
              "      <td>0.13</td>\n",
              "      <td>0.4</td>\n",
              "    </tr>\n",
              "    <tr>\n",
              "      <th>11926</th>\n",
              "      <td>SMA</td>\n",
              "      <td>20221116</td>\n",
              "      <td>0.44</td>\n",
              "      <td>0.6</td>\n",
              "    </tr>\n",
              "    <tr>\n",
              "      <th>11927</th>\n",
              "      <td>SMA</td>\n",
              "      <td>20221117</td>\n",
              "      <td>0.34</td>\n",
              "      <td>1.2</td>\n",
              "    </tr>\n",
              "    <tr>\n",
              "      <th>11928</th>\n",
              "      <td>SMA</td>\n",
              "      <td>20221118</td>\n",
              "      <td>0.10</td>\n",
              "      <td>0.6</td>\n",
              "    </tr>\n",
              "    <tr>\n",
              "      <th>11929</th>\n",
              "      <td>SMA</td>\n",
              "      <td>20221119</td>\n",
              "      <td>0.27</td>\n",
              "      <td>0.4</td>\n",
              "    </tr>\n",
              "  </tbody>\n",
              "</table>\n",
              "<p>11930 rows × 4 columns</p>\n",
              "</div>"
            ],
            "text/plain": [
              "       stn      time ets150d0 erefaod0\n",
              "0      WAE  20120101     0.03      0.3\n",
              "1      WAE  20120102     0.04      0.7\n",
              "2      WAE  20120103     0.25      0.2\n",
              "3      WAE  20120104     0.11      0.7\n",
              "4      WAE  20120105     0.06      1.3\n",
              "...    ...       ...      ...      ...\n",
              "11925  SMA  20221115     0.13      0.4\n",
              "11926  SMA  20221116     0.44      0.6\n",
              "11927  SMA  20221117     0.34      1.2\n",
              "11928  SMA  20221118     0.10      0.6\n",
              "11929  SMA  20221119     0.27      0.4\n",
              "\n",
              "[11930 rows x 4 columns]"
            ]
          },
          "execution_count": 4,
          "metadata": {},
          "output_type": "execute_result"
        }
      ],
      "source": [
        "eva"
      ]
    },
    {
      "cell_type": "markdown",
      "metadata": {
        "id": "rVOCV-1F9EKX"
      },
      "source": [
        "# convert data_reduced_variables to daily format"
      ]
    },
    {
      "cell_type": "code",
      "execution_count": 30,
      "metadata": {
        "colab": {
          "base_uri": "https://localhost:8080/"
        },
        "id": "L8Ah3-Wl9EKY",
        "outputId": "ed494dc0-3e62-4090-f35c-debc47ded322"
      },
      "outputs": [
        {
          "name": "stdout",
          "output_type": "stream",
          "text": [
            "<class 'pandas.core.frame.DataFrame'>\n",
            "DatetimeIndex: 60754 entries, 2012-01-01 00:00:00+00:00 to 2019-11-27 04:00:00+00:00\n",
            "Data columns (total 12 columns):\n",
            " #   Column                   Non-Null Count  Dtype  \n",
            "---  ------                   --------------  -----  \n",
            " 0   suction_tension (20cm)   60754 non-null  float64\n",
            " 1   suction_tension (40cm)   60754 non-null  float64\n",
            " 2   suction_tension (70cm)   60754 non-null  float64\n",
            " 3   water_temperature        60754 non-null  float64\n",
            " 4   barometric_pressure_qfe  60754 non-null  float64\n",
            " 5   dew_point                60754 non-null  float64\n",
            " 6   water_level              60754 non-null  float64\n",
            " 7   precipitation (mm)       60754 non-null  float64\n",
            " 8   change_rate              60754 non-null  float64\n",
            " 9   inflow_linth (m3/s)      60754 non-null  float64\n",
            " 10  outflow_limmat (m3/s)    60754 non-null  float64\n",
            " 11  evaporation              60754 non-null  float64\n",
            "dtypes: float64(12)\n",
            "memory usage: 6.0 MB\n"
          ]
        }
      ],
      "source": [
        "df.info()"
      ]
    },
    {
      "cell_type": "code",
      "execution_count": 3,
      "metadata": {
        "id": "hZHWAngV9EKZ"
      },
      "outputs": [],
      "source": [
        "# convert DateTime column into datetime format\n",
        "df[\"datetime\"] = pd.to_datetime(df['datetime'], utc=True)\n",
        "\n",
        "# set DateTime as index\n",
        "df.set_index(\"datetime\", inplace=True)\n"
      ]
    },
    {
      "cell_type": "code",
      "execution_count": 4,
      "metadata": {
        "colab": {
          "base_uri": "https://localhost:8080/"
        },
        "id": "byZ-uDOm9EKa",
        "outputId": "c8471d66-e491-4f6a-9743-238b941f3e1b"
      },
      "outputs": [
        {
          "name": "stdout",
          "output_type": "stream",
          "text": [
            "<class 'pandas.core.frame.DataFrame'>\n",
            "DatetimeIndex: 60754 entries, 2012-01-01 00:00:00+00:00 to 2019-11-27 04:00:00+00:00\n",
            "Data columns (total 12 columns):\n",
            " #   Column                   Non-Null Count  Dtype  \n",
            "---  ------                   --------------  -----  \n",
            " 0   suction_tension (20cm)   60754 non-null  float64\n",
            " 1   suction_tension (40cm)   60754 non-null  float64\n",
            " 2   suction_tension (70cm)   60754 non-null  float64\n",
            " 3   water_temperature        60754 non-null  float64\n",
            " 4   barometric_pressure_qfe  60754 non-null  float64\n",
            " 5   dew_point                60754 non-null  float64\n",
            " 6   water_level              60754 non-null  float64\n",
            " 7   precipitation (mm)       60754 non-null  float64\n",
            " 8   change_rate              60754 non-null  float64\n",
            " 9   inflow_linth (m3/s)      60754 non-null  float64\n",
            " 10  outflow_limmat (m3/s)    60754 non-null  float64\n",
            " 11  evaporation              60754 non-null  float64\n",
            "dtypes: float64(12)\n",
            "memory usage: 6.0 MB\n"
          ]
        }
      ],
      "source": [
        "df.info()"
      ]
    },
    {
      "cell_type": "code",
      "execution_count": 5,
      "metadata": {
        "id": "ZmlDB47YxQte"
      },
      "outputs": [],
      "source": [
        "# resampling dataframe to daily data by subsetting original dataframe into dataframes where we have to sum the hourly data (dfDS) \n",
        "# and dataframes where we have to take the mean of hourly data\n",
        "dfDS = df[[\"precipitation (mm)\"]].resample(\"D\").sum()\n",
        "\n",
        "dfDM = df[['suction_tension (20cm)', 'suction_tension (40cm)',\n",
        "       'suction_tension (70cm)', 'water_temperature',\n",
        "       'barometric_pressure_qfe', 'dew_point',\n",
        "       'water_level', \"inflow_linth (m3/s)\", \"outflow_limmat (m3/s)\"]].resample(\"D\").mean()\n",
        "\n",
        "\n",
        "       # somehow when applying the the mean() method to the the resample() method we end up with quite some missing values compared to the\n",
        "       # sum() method applied to the resample() method,\n"
      ]
    },
    {
      "cell_type": "code",
      "execution_count": 6,
      "metadata": {
        "colab": {
          "base_uri": "https://localhost:8080/"
        },
        "id": "9seNUz_49EKb",
        "outputId": "481cd4f2-797f-4006-a4e4-a61ab5dca280"
      },
      "outputs": [
        {
          "name": "stdout",
          "output_type": "stream",
          "text": [
            "<class 'pandas.core.frame.DataFrame'>\n",
            "DatetimeIndex: 2888 entries, 2012-01-01 00:00:00+00:00 to 2019-11-27 00:00:00+00:00\n",
            "Freq: D\n",
            "Data columns (total 9 columns):\n",
            " #   Column                   Non-Null Count  Dtype  \n",
            "---  ------                   --------------  -----  \n",
            " 0   suction_tension (20cm)   2629 non-null   float64\n",
            " 1   suction_tension (40cm)   2629 non-null   float64\n",
            " 2   suction_tension (70cm)   2629 non-null   float64\n",
            " 3   water_temperature        2629 non-null   float64\n",
            " 4   barometric_pressure_qfe  2629 non-null   float64\n",
            " 5   dew_point                2629 non-null   float64\n",
            " 6   water_level              2629 non-null   float64\n",
            " 7   inflow_linth (m3/s)      2629 non-null   float64\n",
            " 8   outflow_limmat (m3/s)    2629 non-null   float64\n",
            "dtypes: float64(9)\n",
            "memory usage: 225.6 KB\n"
          ]
        }
      ],
      "source": [
        "dfDM.info()"
      ]
    },
    {
      "cell_type": "code",
      "execution_count": 9,
      "metadata": {
        "colab": {
          "base_uri": "https://localhost:8080/"
        },
        "id": "J-BEF14v4Hdc",
        "outputId": "f115a015-59bc-4530-a591-ec6525009fa4"
      },
      "outputs": [
        {
          "name": "stdout",
          "output_type": "stream",
          "text": [
            "<class 'pandas.core.frame.DataFrame'>\n",
            "Index: 2628 entries, 2012-01-02 to 2019-11-27\n",
            "Data columns (total 11 columns):\n",
            " #   Column                   Non-Null Count  Dtype  \n",
            "---  ------                   --------------  -----  \n",
            " 0   suction_tension (20cm)   2628 non-null   float64\n",
            " 1   suction_tension (40cm)   2628 non-null   float64\n",
            " 2   suction_tension (70cm)   2628 non-null   float64\n",
            " 3   water_temperature        2628 non-null   float64\n",
            " 4   barometric_pressure_qfe  2628 non-null   float64\n",
            " 5   dew_point                2628 non-null   float64\n",
            " 6   water_level              2628 non-null   float64\n",
            " 7   inflow_linth (m3/s)      2628 non-null   float64\n",
            " 8   outflow_limmat (m3/s)    2628 non-null   float64\n",
            " 9   precipitation (mm)       2628 non-null   float64\n",
            " 10  change_rate              2628 non-null   float64\n",
            "dtypes: float64(11)\n",
            "memory usage: 246.4+ KB\n"
          ]
        }
      ],
      "source": [
        "# merge the two datasets again \n",
        "dfD = pd.merge(dfDM, dfDS, how = 'inner', on=dfDM.index)#right_index = True, left_index = True)\n",
        "# set datetime as index\n",
        "dfD.set_index(\"key_0\", inplace=True)\n",
        "# change index name\n",
        "dfD.index.names = ['datetime']\n",
        "# create variable for change rate of water level since we didn´t want to use the one with hourly data and convert it to daily data\n",
        "dfD[\"change_rate\"] = dfD[\"water_level\"].pct_change()\n",
        "# convert datetime index in date only because the datetime index of eva and dfD are not exactly the same \n",
        "dfD.index = dfD.index.date\n",
        "# we drop missing rows\n",
        "dfD.dropna(inplace=True)\n",
        "\n",
        "dfD.info()"
      ]
    },
    {
      "cell_type": "code",
      "execution_count": 10,
      "metadata": {
        "colab": {
          "base_uri": "https://localhost:8080/",
          "height": 131
        },
        "id": "i0uQqLH49EKd",
        "outputId": "b7009b7d-4d04-4dbc-b607-b6403786fed4"
      },
      "outputs": [
        {
          "data": {
            "text/html": [
              "\n",
              "  <div id=\"df-e7d7660a-a176-46ec-88ff-d8adb52d66e5\">\n",
              "    <div class=\"colab-df-container\">\n",
              "      <div>\n",
              "<style scoped>\n",
              "    .dataframe tbody tr th:only-of-type {\n",
              "        vertical-align: middle;\n",
              "    }\n",
              "\n",
              "    .dataframe tbody tr th {\n",
              "        vertical-align: top;\n",
              "    }\n",
              "\n",
              "    .dataframe thead th {\n",
              "        text-align: right;\n",
              "    }\n",
              "</style>\n",
              "<table border=\"1\" class=\"dataframe\">\n",
              "  <thead>\n",
              "    <tr style=\"text-align: right;\">\n",
              "      <th></th>\n",
              "      <th>suction_tension (20cm)</th>\n",
              "      <th>suction_tension (40cm)</th>\n",
              "      <th>suction_tension (70cm)</th>\n",
              "      <th>water_temperature</th>\n",
              "      <th>barometric_pressure_qfe</th>\n",
              "      <th>dew_point</th>\n",
              "      <th>water_level</th>\n",
              "      <th>inflow_linth (m3/s)</th>\n",
              "      <th>outflow_limmat (m3/s)</th>\n",
              "      <th>precipitation (mm)</th>\n",
              "      <th>change_rate</th>\n",
              "    </tr>\n",
              "  </thead>\n",
              "  <tbody>\n",
              "  </tbody>\n",
              "</table>\n",
              "</div>\n",
              "      <button class=\"colab-df-convert\" onclick=\"convertToInteractive('df-e7d7660a-a176-46ec-88ff-d8adb52d66e5')\"\n",
              "              title=\"Convert this dataframe to an interactive table.\"\n",
              "              style=\"display:none;\">\n",
              "        \n",
              "  <svg xmlns=\"http://www.w3.org/2000/svg\" height=\"24px\"viewBox=\"0 0 24 24\"\n",
              "       width=\"24px\">\n",
              "    <path d=\"M0 0h24v24H0V0z\" fill=\"none\"/>\n",
              "    <path d=\"M18.56 5.44l.94 2.06.94-2.06 2.06-.94-2.06-.94-.94-2.06-.94 2.06-2.06.94zm-11 1L8.5 8.5l.94-2.06 2.06-.94-2.06-.94L8.5 2.5l-.94 2.06-2.06.94zm10 10l.94 2.06.94-2.06 2.06-.94-2.06-.94-.94-2.06-.94 2.06-2.06.94z\"/><path d=\"M17.41 7.96l-1.37-1.37c-.4-.4-.92-.59-1.43-.59-.52 0-1.04.2-1.43.59L10.3 9.45l-7.72 7.72c-.78.78-.78 2.05 0 2.83L4 21.41c.39.39.9.59 1.41.59.51 0 1.02-.2 1.41-.59l7.78-7.78 2.81-2.81c.8-.78.8-2.07 0-2.86zM5.41 20L4 18.59l7.72-7.72 1.47 1.35L5.41 20z\"/>\n",
              "  </svg>\n",
              "      </button>\n",
              "      \n",
              "  <style>\n",
              "    .colab-df-container {\n",
              "      display:flex;\n",
              "      flex-wrap:wrap;\n",
              "      gap: 12px;\n",
              "    }\n",
              "\n",
              "    .colab-df-convert {\n",
              "      background-color: #E8F0FE;\n",
              "      border: none;\n",
              "      border-radius: 50%;\n",
              "      cursor: pointer;\n",
              "      display: none;\n",
              "      fill: #1967D2;\n",
              "      height: 32px;\n",
              "      padding: 0 0 0 0;\n",
              "      width: 32px;\n",
              "    }\n",
              "\n",
              "    .colab-df-convert:hover {\n",
              "      background-color: #E2EBFA;\n",
              "      box-shadow: 0px 1px 2px rgba(60, 64, 67, 0.3), 0px 1px 3px 1px rgba(60, 64, 67, 0.15);\n",
              "      fill: #174EA6;\n",
              "    }\n",
              "\n",
              "    [theme=dark] .colab-df-convert {\n",
              "      background-color: #3B4455;\n",
              "      fill: #D2E3FC;\n",
              "    }\n",
              "\n",
              "    [theme=dark] .colab-df-convert:hover {\n",
              "      background-color: #434B5C;\n",
              "      box-shadow: 0px 1px 3px 1px rgba(0, 0, 0, 0.15);\n",
              "      filter: drop-shadow(0px 1px 2px rgba(0, 0, 0, 0.3));\n",
              "      fill: #FFFFFF;\n",
              "    }\n",
              "  </style>\n",
              "\n",
              "      <script>\n",
              "        const buttonEl =\n",
              "          document.querySelector('#df-e7d7660a-a176-46ec-88ff-d8adb52d66e5 button.colab-df-convert');\n",
              "        buttonEl.style.display =\n",
              "          google.colab.kernel.accessAllowed ? 'block' : 'none';\n",
              "\n",
              "        async function convertToInteractive(key) {\n",
              "          const element = document.querySelector('#df-e7d7660a-a176-46ec-88ff-d8adb52d66e5');\n",
              "          const dataTable =\n",
              "            await google.colab.kernel.invokeFunction('convertToInteractive',\n",
              "                                                     [key], {});\n",
              "          if (!dataTable) return;\n",
              "\n",
              "          const docLinkHtml = 'Like what you see? Visit the ' +\n",
              "            '<a target=\"_blank\" href=https://colab.research.google.com/notebooks/data_table.ipynb>data table notebook</a>'\n",
              "            + ' to learn more about interactive tables.';\n",
              "          element.innerHTML = '';\n",
              "          dataTable['output_type'] = 'display_data';\n",
              "          await google.colab.output.renderOutput(dataTable, element);\n",
              "          const docLink = document.createElement('div');\n",
              "          docLink.innerHTML = docLinkHtml;\n",
              "          element.appendChild(docLink);\n",
              "        }\n",
              "      </script>\n",
              "    </div>\n",
              "  </div>\n",
              "  "
            ],
            "text/plain": [
              "Empty DataFrame\n",
              "Columns: [suction_tension (20cm), suction_tension (40cm), suction_tension (70cm), water_temperature, barometric_pressure_qfe, dew_point, water_level, inflow_linth (m3/s), outflow_limmat (m3/s), precipitation (mm), change_rate]\n",
              "Index: []"
            ]
          },
          "execution_count": 10,
          "metadata": {},
          "output_type": "execute_result"
        }
      ],
      "source": [
        "dfD.loc[dfD[\"water_temperature\"].isna()]"
      ]
    },
    {
      "cell_type": "markdown",
      "metadata": {
        "id": "C2mtxlYI9EKf"
      },
      "source": [
        "# clean and prepare evaporation dataset"
      ]
    },
    {
      "cell_type": "code",
      "execution_count": 11,
      "metadata": {
        "colab": {
          "base_uri": "https://localhost:8080/"
        },
        "id": "aO2Ft1iX9EKg",
        "outputId": "efd1a64f-6cf3-41b2-a354-6aafe4968755"
      },
      "outputs": [
        {
          "name": "stderr",
          "output_type": "stream",
          "text": [
            "/usr/local/lib/python3.7/dist-packages/pandas/core/frame.py:4913: SettingWithCopyWarning: \n",
            "A value is trying to be set on a copy of a slice from a DataFrame\n",
            "\n",
            "See the caveats in the documentation: https://pandas.pydata.org/pandas-docs/stable/user_guide/indexing.html#returning-a-view-versus-a-copy\n",
            "  errors=errors,\n",
            "/usr/local/lib/python3.7/dist-packages/pandas/core/frame.py:5047: SettingWithCopyWarning: \n",
            "A value is trying to be set on a copy of a slice from a DataFrame\n",
            "\n",
            "See the caveats in the documentation: https://pandas.pydata.org/pandas-docs/stable/user_guide/indexing.html#returning-a-view-versus-a-copy\n",
            "  errors=errors,\n"
          ]
        }
      ],
      "source": [
        "# drop column we don´t need\n",
        "eva.drop(columns=\"erefaod0\", inplace=True)\n",
        "# select only observation from one station (Wädenswil)\n",
        "eva = eva.loc[eva[\"stn\"]==\"WAE\"]\n",
        "# drop the column for station names \n",
        "eva.drop(columns = \"stn\", inplace = True)\n",
        "# rename coumns\n",
        "eva.rename(columns={\"time\": \"datetime\",\"ets150d0\": \"Evapotranspiration (mm)\"}, inplace = True)"
      ]
    },
    {
      "cell_type": "code",
      "execution_count": 12,
      "metadata": {
        "colab": {
          "base_uri": "https://localhost:8080/",
          "height": 424
        },
        "id": "km2jxIky9EKh",
        "outputId": "3d2e9dbc-cac0-4cc1-a1f7-660d80dbf4e0"
      },
      "outputs": [
        {
          "data": {
            "text/html": [
              "\n",
              "  <div id=\"df-53f41449-9242-407e-ae0e-8a74958e36f7\">\n",
              "    <div class=\"colab-df-container\">\n",
              "      <div>\n",
              "<style scoped>\n",
              "    .dataframe tbody tr th:only-of-type {\n",
              "        vertical-align: middle;\n",
              "    }\n",
              "\n",
              "    .dataframe tbody tr th {\n",
              "        vertical-align: top;\n",
              "    }\n",
              "\n",
              "    .dataframe thead th {\n",
              "        text-align: right;\n",
              "    }\n",
              "</style>\n",
              "<table border=\"1\" class=\"dataframe\">\n",
              "  <thead>\n",
              "    <tr style=\"text-align: right;\">\n",
              "      <th></th>\n",
              "      <th>datetime</th>\n",
              "      <th>Evapotranspiration (mm)</th>\n",
              "    </tr>\n",
              "  </thead>\n",
              "  <tbody>\n",
              "    <tr>\n",
              "      <th>0</th>\n",
              "      <td>20120101</td>\n",
              "      <td>0.03</td>\n",
              "    </tr>\n",
              "    <tr>\n",
              "      <th>1</th>\n",
              "      <td>20120102</td>\n",
              "      <td>0.04</td>\n",
              "    </tr>\n",
              "    <tr>\n",
              "      <th>2</th>\n",
              "      <td>20120103</td>\n",
              "      <td>0.25</td>\n",
              "    </tr>\n",
              "    <tr>\n",
              "      <th>3</th>\n",
              "      <td>20120104</td>\n",
              "      <td>0.11</td>\n",
              "    </tr>\n",
              "    <tr>\n",
              "      <th>4</th>\n",
              "      <td>20120105</td>\n",
              "      <td>0.06</td>\n",
              "    </tr>\n",
              "    <tr>\n",
              "      <th>...</th>\n",
              "      <td>...</td>\n",
              "      <td>...</td>\n",
              "    </tr>\n",
              "    <tr>\n",
              "      <th>3971</th>\n",
              "      <td>20221115</td>\n",
              "      <td>0.14</td>\n",
              "    </tr>\n",
              "    <tr>\n",
              "      <th>3972</th>\n",
              "      <td>20221116</td>\n",
              "      <td>0.33</td>\n",
              "    </tr>\n",
              "    <tr>\n",
              "      <th>3973</th>\n",
              "      <td>20221117</td>\n",
              "      <td>0.31</td>\n",
              "    </tr>\n",
              "    <tr>\n",
              "      <th>3974</th>\n",
              "      <td>20221118</td>\n",
              "      <td>0.12</td>\n",
              "    </tr>\n",
              "    <tr>\n",
              "      <th>3975</th>\n",
              "      <td>20221119</td>\n",
              "      <td>0.24</td>\n",
              "    </tr>\n",
              "  </tbody>\n",
              "</table>\n",
              "<p>3976 rows × 2 columns</p>\n",
              "</div>\n",
              "      <button class=\"colab-df-convert\" onclick=\"convertToInteractive('df-53f41449-9242-407e-ae0e-8a74958e36f7')\"\n",
              "              title=\"Convert this dataframe to an interactive table.\"\n",
              "              style=\"display:none;\">\n",
              "        \n",
              "  <svg xmlns=\"http://www.w3.org/2000/svg\" height=\"24px\"viewBox=\"0 0 24 24\"\n",
              "       width=\"24px\">\n",
              "    <path d=\"M0 0h24v24H0V0z\" fill=\"none\"/>\n",
              "    <path d=\"M18.56 5.44l.94 2.06.94-2.06 2.06-.94-2.06-.94-.94-2.06-.94 2.06-2.06.94zm-11 1L8.5 8.5l.94-2.06 2.06-.94-2.06-.94L8.5 2.5l-.94 2.06-2.06.94zm10 10l.94 2.06.94-2.06 2.06-.94-2.06-.94-.94-2.06-.94 2.06-2.06.94z\"/><path d=\"M17.41 7.96l-1.37-1.37c-.4-.4-.92-.59-1.43-.59-.52 0-1.04.2-1.43.59L10.3 9.45l-7.72 7.72c-.78.78-.78 2.05 0 2.83L4 21.41c.39.39.9.59 1.41.59.51 0 1.02-.2 1.41-.59l7.78-7.78 2.81-2.81c.8-.78.8-2.07 0-2.86zM5.41 20L4 18.59l7.72-7.72 1.47 1.35L5.41 20z\"/>\n",
              "  </svg>\n",
              "      </button>\n",
              "      \n",
              "  <style>\n",
              "    .colab-df-container {\n",
              "      display:flex;\n",
              "      flex-wrap:wrap;\n",
              "      gap: 12px;\n",
              "    }\n",
              "\n",
              "    .colab-df-convert {\n",
              "      background-color: #E8F0FE;\n",
              "      border: none;\n",
              "      border-radius: 50%;\n",
              "      cursor: pointer;\n",
              "      display: none;\n",
              "      fill: #1967D2;\n",
              "      height: 32px;\n",
              "      padding: 0 0 0 0;\n",
              "      width: 32px;\n",
              "    }\n",
              "\n",
              "    .colab-df-convert:hover {\n",
              "      background-color: #E2EBFA;\n",
              "      box-shadow: 0px 1px 2px rgba(60, 64, 67, 0.3), 0px 1px 3px 1px rgba(60, 64, 67, 0.15);\n",
              "      fill: #174EA6;\n",
              "    }\n",
              "\n",
              "    [theme=dark] .colab-df-convert {\n",
              "      background-color: #3B4455;\n",
              "      fill: #D2E3FC;\n",
              "    }\n",
              "\n",
              "    [theme=dark] .colab-df-convert:hover {\n",
              "      background-color: #434B5C;\n",
              "      box-shadow: 0px 1px 3px 1px rgba(0, 0, 0, 0.15);\n",
              "      filter: drop-shadow(0px 1px 2px rgba(0, 0, 0, 0.3));\n",
              "      fill: #FFFFFF;\n",
              "    }\n",
              "  </style>\n",
              "\n",
              "      <script>\n",
              "        const buttonEl =\n",
              "          document.querySelector('#df-53f41449-9242-407e-ae0e-8a74958e36f7 button.colab-df-convert');\n",
              "        buttonEl.style.display =\n",
              "          google.colab.kernel.accessAllowed ? 'block' : 'none';\n",
              "\n",
              "        async function convertToInteractive(key) {\n",
              "          const element = document.querySelector('#df-53f41449-9242-407e-ae0e-8a74958e36f7');\n",
              "          const dataTable =\n",
              "            await google.colab.kernel.invokeFunction('convertToInteractive',\n",
              "                                                     [key], {});\n",
              "          if (!dataTable) return;\n",
              "\n",
              "          const docLinkHtml = 'Like what you see? Visit the ' +\n",
              "            '<a target=\"_blank\" href=https://colab.research.google.com/notebooks/data_table.ipynb>data table notebook</a>'\n",
              "            + ' to learn more about interactive tables.';\n",
              "          element.innerHTML = '';\n",
              "          dataTable['output_type'] = 'display_data';\n",
              "          await google.colab.output.renderOutput(dataTable, element);\n",
              "          const docLink = document.createElement('div');\n",
              "          docLink.innerHTML = docLinkHtml;\n",
              "          element.appendChild(docLink);\n",
              "        }\n",
              "      </script>\n",
              "    </div>\n",
              "  </div>\n",
              "  "
            ],
            "text/plain": [
              "      datetime Evapotranspiration (mm)\n",
              "0     20120101                    0.03\n",
              "1     20120102                    0.04\n",
              "2     20120103                    0.25\n",
              "3     20120104                    0.11\n",
              "4     20120105                    0.06\n",
              "...        ...                     ...\n",
              "3971  20221115                    0.14\n",
              "3972  20221116                    0.33\n",
              "3973  20221117                    0.31\n",
              "3974  20221118                    0.12\n",
              "3975  20221119                    0.24\n",
              "\n",
              "[3976 rows x 2 columns]"
            ]
          },
          "execution_count": 12,
          "metadata": {},
          "output_type": "execute_result"
        }
      ],
      "source": [
        "eva"
      ]
    },
    {
      "cell_type": "code",
      "execution_count": 13,
      "metadata": {
        "id": "qMGn3N8b9EKh"
      },
      "outputs": [],
      "source": [
        "# import pytz package for handling timezones\n",
        "import pytz\n",
        "# convert DateTime column into datetime format\n",
        "eva[\"datetime\"] = pd.to_datetime(eva['datetime'], utc=True)\n",
        "# function that converts datetime column into CET timezone and accounts for Daylight saving\n",
        "def add_timezone(df):\n",
        "    timeZone = pytz.timezone(\"CET\")\n",
        "    df['datetime'] = df['datetime'].dt.tz_convert(timeZone)\n",
        "    return df\n",
        "\n",
        "add_timezone(eva)\n",
        "\n",
        "# set DateTime as index\n",
        "eva.set_index(\"datetime\", inplace=True)\n",
        "# convert datetime index in date only because the datetime index of eva and dfD are not exactly the same \n",
        "eva.index = eva.index.date"
      ]
    },
    {
      "cell_type": "code",
      "execution_count": 14,
      "metadata": {
        "colab": {
          "base_uri": "https://localhost:8080/"
        },
        "id": "ccfqVf8F9EKi",
        "outputId": "09db81cd-2e92-404c-ba5a-ec766dbf0817"
      },
      "outputs": [
        {
          "name": "stdout",
          "output_type": "stream",
          "text": [
            "<class 'pandas.core.frame.DataFrame'>\n",
            "Index: 3976 entries, 2012-01-01 to 2022-11-19\n",
            "Data columns (total 1 columns):\n",
            " #   Column                   Non-Null Count  Dtype \n",
            "---  ------                   --------------  ----- \n",
            " 0   Evapotranspiration (mm)  3976 non-null   object\n",
            "dtypes: object(1)\n",
            "memory usage: 62.1+ KB\n"
          ]
        }
      ],
      "source": [
        "\n",
        "eva.info()\n"
      ]
    },
    {
      "cell_type": "markdown",
      "metadata": {
        "id": "LQQiLqaw9EKi"
      },
      "source": [
        "# Merge the two Datasets\n"
      ]
    },
    {
      "cell_type": "code",
      "execution_count": 15,
      "metadata": {
        "colab": {
          "base_uri": "https://localhost:8080/",
          "height": 678
        },
        "id": "_Rg423iZ-gxu",
        "outputId": "c952be02-3f9f-4067-e808-5f22f195a999"
      },
      "outputs": [
        {
          "data": {
            "text/html": [
              "\n",
              "  <div id=\"df-15924fe0-1a99-4b0d-8d24-122d3e088208\">\n",
              "    <div class=\"colab-df-container\">\n",
              "      <div>\n",
              "<style scoped>\n",
              "    .dataframe tbody tr th:only-of-type {\n",
              "        vertical-align: middle;\n",
              "    }\n",
              "\n",
              "    .dataframe tbody tr th {\n",
              "        vertical-align: top;\n",
              "    }\n",
              "\n",
              "    .dataframe thead th {\n",
              "        text-align: right;\n",
              "    }\n",
              "</style>\n",
              "<table border=\"1\" class=\"dataframe\">\n",
              "  <thead>\n",
              "    <tr style=\"text-align: right;\">\n",
              "      <th></th>\n",
              "      <th>suction_tension (20cm)</th>\n",
              "      <th>suction_tension (40cm)</th>\n",
              "      <th>suction_tension (70cm)</th>\n",
              "      <th>water_temperature</th>\n",
              "      <th>barometric_pressure_qfe</th>\n",
              "      <th>dew_point</th>\n",
              "      <th>water_level</th>\n",
              "      <th>inflow_linth (m3/s)</th>\n",
              "      <th>outflow_limmat (m3/s)</th>\n",
              "      <th>precipitation (mm)</th>\n",
              "      <th>change_rate</th>\n",
              "      <th>Evapotranspiration (mm)</th>\n",
              "    </tr>\n",
              "  </thead>\n",
              "  <tbody>\n",
              "    <tr>\n",
              "      <th>2012-01-02</th>\n",
              "      <td>2.039583</td>\n",
              "      <td>1.566667</td>\n",
              "      <td>1.750000</td>\n",
              "      <td>6.046528</td>\n",
              "      <td>969.340278</td>\n",
              "      <td>4.945139</td>\n",
              "      <td>405.913889</td>\n",
              "      <td>36.147875</td>\n",
              "      <td>121.737083</td>\n",
              "      <td>8.0</td>\n",
              "      <td>0.000004</td>\n",
              "      <td>0.04</td>\n",
              "    </tr>\n",
              "    <tr>\n",
              "      <th>2012-01-03</th>\n",
              "      <td>2.233333</td>\n",
              "      <td>1.737500</td>\n",
              "      <td>1.666667</td>\n",
              "      <td>5.955556</td>\n",
              "      <td>976.234028</td>\n",
              "      <td>0.836111</td>\n",
              "      <td>405.923611</td>\n",
              "      <td>38.953083</td>\n",
              "      <td>120.771542</td>\n",
              "      <td>1.1</td>\n",
              "      <td>0.000024</td>\n",
              "      <td>0.25</td>\n",
              "    </tr>\n",
              "    <tr>\n",
              "      <th>2012-01-04</th>\n",
              "      <td>1.716667</td>\n",
              "      <td>1.354167</td>\n",
              "      <td>1.593750</td>\n",
              "      <td>5.911806</td>\n",
              "      <td>974.570833</td>\n",
              "      <td>1.220833</td>\n",
              "      <td>405.927083</td>\n",
              "      <td>39.505792</td>\n",
              "      <td>122.752875</td>\n",
              "      <td>9.9</td>\n",
              "      <td>0.000009</td>\n",
              "      <td>0.11</td>\n",
              "    </tr>\n",
              "    <tr>\n",
              "      <th>2012-01-05</th>\n",
              "      <td>1.381250</td>\n",
              "      <td>1.139583</td>\n",
              "      <td>1.522917</td>\n",
              "      <td>5.722917</td>\n",
              "      <td>960.572917</td>\n",
              "      <td>1.400694</td>\n",
              "      <td>405.925972</td>\n",
              "      <td>41.539500</td>\n",
              "      <td>139.602042</td>\n",
              "      <td>21.7</td>\n",
              "      <td>-0.000003</td>\n",
              "      <td>0.06</td>\n",
              "    </tr>\n",
              "    <tr>\n",
              "      <th>2012-01-06</th>\n",
              "      <td>1.862500</td>\n",
              "      <td>1.425000</td>\n",
              "      <td>1.533333</td>\n",
              "      <td>5.533333</td>\n",
              "      <td>972.211806</td>\n",
              "      <td>0.190278</td>\n",
              "      <td>405.949028</td>\n",
              "      <td>47.129458</td>\n",
              "      <td>140.766375</td>\n",
              "      <td>1.2</td>\n",
              "      <td>0.000057</td>\n",
              "      <td>0.05</td>\n",
              "    </tr>\n",
              "    <tr>\n",
              "      <th>...</th>\n",
              "      <td>...</td>\n",
              "      <td>...</td>\n",
              "      <td>...</td>\n",
              "      <td>...</td>\n",
              "      <td>...</td>\n",
              "      <td>...</td>\n",
              "      <td>...</td>\n",
              "      <td>...</td>\n",
              "      <td>...</td>\n",
              "      <td>...</td>\n",
              "      <td>...</td>\n",
              "      <td>...</td>\n",
              "    </tr>\n",
              "    <tr>\n",
              "      <th>2019-11-23</th>\n",
              "      <td>4.266042</td>\n",
              "      <td>3.035208</td>\n",
              "      <td>3.251667</td>\n",
              "      <td>10.308333</td>\n",
              "      <td>949.404167</td>\n",
              "      <td>3.454861</td>\n",
              "      <td>405.948681</td>\n",
              "      <td>45.504083</td>\n",
              "      <td>73.408667</td>\n",
              "      <td>0.0</td>\n",
              "      <td>-0.000026</td>\n",
              "      <td>0.16</td>\n",
              "    </tr>\n",
              "    <tr>\n",
              "      <th>2019-11-24</th>\n",
              "      <td>4.538542</td>\n",
              "      <td>3.249375</td>\n",
              "      <td>4.019792</td>\n",
              "      <td>10.232639</td>\n",
              "      <td>958.418056</td>\n",
              "      <td>4.811111</td>\n",
              "      <td>405.941667</td>\n",
              "      <td>43.116500</td>\n",
              "      <td>72.780958</td>\n",
              "      <td>0.0</td>\n",
              "      <td>-0.000017</td>\n",
              "      <td>0.11</td>\n",
              "    </tr>\n",
              "    <tr>\n",
              "      <th>2019-11-25</th>\n",
              "      <td>4.732708</td>\n",
              "      <td>3.417917</td>\n",
              "      <td>4.296042</td>\n",
              "      <td>10.204861</td>\n",
              "      <td>962.489306</td>\n",
              "      <td>5.956667</td>\n",
              "      <td>405.942153</td>\n",
              "      <td>41.917542</td>\n",
              "      <td>63.847000</td>\n",
              "      <td>0.0</td>\n",
              "      <td>0.000001</td>\n",
              "      <td>0.06</td>\n",
              "    </tr>\n",
              "    <tr>\n",
              "      <th>2019-11-26</th>\n",
              "      <td>4.847292</td>\n",
              "      <td>3.544375</td>\n",
              "      <td>4.295208</td>\n",
              "      <td>10.215694</td>\n",
              "      <td>960.428194</td>\n",
              "      <td>6.743333</td>\n",
              "      <td>405.950972</td>\n",
              "      <td>41.814917</td>\n",
              "      <td>66.054125</td>\n",
              "      <td>0.0</td>\n",
              "      <td>0.000022</td>\n",
              "      <td>0.07</td>\n",
              "    </tr>\n",
              "    <tr>\n",
              "      <th>2019-11-27</th>\n",
              "      <td>4.499000</td>\n",
              "      <td>3.403000</td>\n",
              "      <td>3.832000</td>\n",
              "      <td>10.140000</td>\n",
              "      <td>952.616667</td>\n",
              "      <td>6.026667</td>\n",
              "      <td>405.949667</td>\n",
              "      <td>41.164600</td>\n",
              "      <td>73.302800</td>\n",
              "      <td>0.0</td>\n",
              "      <td>-0.000003</td>\n",
              "      <td>0.17</td>\n",
              "    </tr>\n",
              "  </tbody>\n",
              "</table>\n",
              "<p>2628 rows × 12 columns</p>\n",
              "</div>\n",
              "      <button class=\"colab-df-convert\" onclick=\"convertToInteractive('df-15924fe0-1a99-4b0d-8d24-122d3e088208')\"\n",
              "              title=\"Convert this dataframe to an interactive table.\"\n",
              "              style=\"display:none;\">\n",
              "        \n",
              "  <svg xmlns=\"http://www.w3.org/2000/svg\" height=\"24px\"viewBox=\"0 0 24 24\"\n",
              "       width=\"24px\">\n",
              "    <path d=\"M0 0h24v24H0V0z\" fill=\"none\"/>\n",
              "    <path d=\"M18.56 5.44l.94 2.06.94-2.06 2.06-.94-2.06-.94-.94-2.06-.94 2.06-2.06.94zm-11 1L8.5 8.5l.94-2.06 2.06-.94-2.06-.94L8.5 2.5l-.94 2.06-2.06.94zm10 10l.94 2.06.94-2.06 2.06-.94-2.06-.94-.94-2.06-.94 2.06-2.06.94z\"/><path d=\"M17.41 7.96l-1.37-1.37c-.4-.4-.92-.59-1.43-.59-.52 0-1.04.2-1.43.59L10.3 9.45l-7.72 7.72c-.78.78-.78 2.05 0 2.83L4 21.41c.39.39.9.59 1.41.59.51 0 1.02-.2 1.41-.59l7.78-7.78 2.81-2.81c.8-.78.8-2.07 0-2.86zM5.41 20L4 18.59l7.72-7.72 1.47 1.35L5.41 20z\"/>\n",
              "  </svg>\n",
              "      </button>\n",
              "      \n",
              "  <style>\n",
              "    .colab-df-container {\n",
              "      display:flex;\n",
              "      flex-wrap:wrap;\n",
              "      gap: 12px;\n",
              "    }\n",
              "\n",
              "    .colab-df-convert {\n",
              "      background-color: #E8F0FE;\n",
              "      border: none;\n",
              "      border-radius: 50%;\n",
              "      cursor: pointer;\n",
              "      display: none;\n",
              "      fill: #1967D2;\n",
              "      height: 32px;\n",
              "      padding: 0 0 0 0;\n",
              "      width: 32px;\n",
              "    }\n",
              "\n",
              "    .colab-df-convert:hover {\n",
              "      background-color: #E2EBFA;\n",
              "      box-shadow: 0px 1px 2px rgba(60, 64, 67, 0.3), 0px 1px 3px 1px rgba(60, 64, 67, 0.15);\n",
              "      fill: #174EA6;\n",
              "    }\n",
              "\n",
              "    [theme=dark] .colab-df-convert {\n",
              "      background-color: #3B4455;\n",
              "      fill: #D2E3FC;\n",
              "    }\n",
              "\n",
              "    [theme=dark] .colab-df-convert:hover {\n",
              "      background-color: #434B5C;\n",
              "      box-shadow: 0px 1px 3px 1px rgba(0, 0, 0, 0.15);\n",
              "      filter: drop-shadow(0px 1px 2px rgba(0, 0, 0, 0.3));\n",
              "      fill: #FFFFFF;\n",
              "    }\n",
              "  </style>\n",
              "\n",
              "      <script>\n",
              "        const buttonEl =\n",
              "          document.querySelector('#df-15924fe0-1a99-4b0d-8d24-122d3e088208 button.colab-df-convert');\n",
              "        buttonEl.style.display =\n",
              "          google.colab.kernel.accessAllowed ? 'block' : 'none';\n",
              "\n",
              "        async function convertToInteractive(key) {\n",
              "          const element = document.querySelector('#df-15924fe0-1a99-4b0d-8d24-122d3e088208');\n",
              "          const dataTable =\n",
              "            await google.colab.kernel.invokeFunction('convertToInteractive',\n",
              "                                                     [key], {});\n",
              "          if (!dataTable) return;\n",
              "\n",
              "          const docLinkHtml = 'Like what you see? Visit the ' +\n",
              "            '<a target=\"_blank\" href=https://colab.research.google.com/notebooks/data_table.ipynb>data table notebook</a>'\n",
              "            + ' to learn more about interactive tables.';\n",
              "          element.innerHTML = '';\n",
              "          dataTable['output_type'] = 'display_data';\n",
              "          await google.colab.output.renderOutput(dataTable, element);\n",
              "          const docLink = document.createElement('div');\n",
              "          docLink.innerHTML = docLinkHtml;\n",
              "          element.appendChild(docLink);\n",
              "        }\n",
              "      </script>\n",
              "    </div>\n",
              "  </div>\n",
              "  "
            ],
            "text/plain": [
              "            suction_tension (20cm)  suction_tension (40cm)  \\\n",
              "2012-01-02                2.039583                1.566667   \n",
              "2012-01-03                2.233333                1.737500   \n",
              "2012-01-04                1.716667                1.354167   \n",
              "2012-01-05                1.381250                1.139583   \n",
              "2012-01-06                1.862500                1.425000   \n",
              "...                            ...                     ...   \n",
              "2019-11-23                4.266042                3.035208   \n",
              "2019-11-24                4.538542                3.249375   \n",
              "2019-11-25                4.732708                3.417917   \n",
              "2019-11-26                4.847292                3.544375   \n",
              "2019-11-27                4.499000                3.403000   \n",
              "\n",
              "            suction_tension (70cm)  water_temperature  \\\n",
              "2012-01-02                1.750000           6.046528   \n",
              "2012-01-03                1.666667           5.955556   \n",
              "2012-01-04                1.593750           5.911806   \n",
              "2012-01-05                1.522917           5.722917   \n",
              "2012-01-06                1.533333           5.533333   \n",
              "...                            ...                ...   \n",
              "2019-11-23                3.251667          10.308333   \n",
              "2019-11-24                4.019792          10.232639   \n",
              "2019-11-25                4.296042          10.204861   \n",
              "2019-11-26                4.295208          10.215694   \n",
              "2019-11-27                3.832000          10.140000   \n",
              "\n",
              "            barometric_pressure_qfe  dew_point  water_level  \\\n",
              "2012-01-02               969.340278   4.945139   405.913889   \n",
              "2012-01-03               976.234028   0.836111   405.923611   \n",
              "2012-01-04               974.570833   1.220833   405.927083   \n",
              "2012-01-05               960.572917   1.400694   405.925972   \n",
              "2012-01-06               972.211806   0.190278   405.949028   \n",
              "...                             ...        ...          ...   \n",
              "2019-11-23               949.404167   3.454861   405.948681   \n",
              "2019-11-24               958.418056   4.811111   405.941667   \n",
              "2019-11-25               962.489306   5.956667   405.942153   \n",
              "2019-11-26               960.428194   6.743333   405.950972   \n",
              "2019-11-27               952.616667   6.026667   405.949667   \n",
              "\n",
              "            inflow_linth (m3/s)  outflow_limmat (m3/s)  precipitation (mm)  \\\n",
              "2012-01-02            36.147875             121.737083                 8.0   \n",
              "2012-01-03            38.953083             120.771542                 1.1   \n",
              "2012-01-04            39.505792             122.752875                 9.9   \n",
              "2012-01-05            41.539500             139.602042                21.7   \n",
              "2012-01-06            47.129458             140.766375                 1.2   \n",
              "...                         ...                    ...                 ...   \n",
              "2019-11-23            45.504083              73.408667                 0.0   \n",
              "2019-11-24            43.116500              72.780958                 0.0   \n",
              "2019-11-25            41.917542              63.847000                 0.0   \n",
              "2019-11-26            41.814917              66.054125                 0.0   \n",
              "2019-11-27            41.164600              73.302800                 0.0   \n",
              "\n",
              "            change_rate  Evapotranspiration (mm)  \n",
              "2012-01-02     0.000004                     0.04  \n",
              "2012-01-03     0.000024                     0.25  \n",
              "2012-01-04     0.000009                     0.11  \n",
              "2012-01-05    -0.000003                     0.06  \n",
              "2012-01-06     0.000057                     0.05  \n",
              "...                 ...                      ...  \n",
              "2019-11-23    -0.000026                     0.16  \n",
              "2019-11-24    -0.000017                     0.11  \n",
              "2019-11-25     0.000001                     0.06  \n",
              "2019-11-26     0.000022                     0.07  \n",
              "2019-11-27    -0.000003                     0.17  \n",
              "\n",
              "[2628 rows x 12 columns]"
            ]
          },
          "execution_count": 15,
          "metadata": {},
          "output_type": "execute_result"
        }
      ],
      "source": [
        "# merge the dfD dataframe with the evaporation dataframe on the index\n",
        "merged_df = pd.merge(dfD, eva, how = 'inner', right_index = True, left_index = True)\n",
        "\n",
        "merged_df[\"Evapotranspiration (mm)\"] = merged_df[\"Evapotranspiration (mm)\"].astype(float)\n",
        "merged_df"
      ]
    },
    {
      "cell_type": "code",
      "execution_count": 18,
      "metadata": {
        "colab": {
          "base_uri": "https://localhost:8080/"
        },
        "id": "Rj9mmG9p9EKk",
        "outputId": "8af01806-dc0d-4fd9-be48-3a1b780d74f2"
      },
      "outputs": [
        {
          "name": "stdout",
          "output_type": "stream",
          "text": [
            "<class 'pandas.core.frame.DataFrame'>\n",
            "Index: 2628 entries, 2012-01-02 to 2019-11-27\n",
            "Data columns (total 12 columns):\n",
            " #   Column                   Non-Null Count  Dtype  \n",
            "---  ------                   --------------  -----  \n",
            " 0   suction_tension (20cm)   2628 non-null   float64\n",
            " 1   suction_tension (40cm)   2628 non-null   float64\n",
            " 2   suction_tension (70cm)   2628 non-null   float64\n",
            " 3   water_temperature        2628 non-null   float64\n",
            " 4   barometric_pressure_qfe  2628 non-null   float64\n",
            " 5   dew_point                2628 non-null   float64\n",
            " 6   water_level              2628 non-null   float64\n",
            " 7   inflow_linth (m3/s)      2628 non-null   float64\n",
            " 8   outflow_limmat (m3/s)    2628 non-null   float64\n",
            " 9   precipitation (mm)       2628 non-null   float64\n",
            " 10  change_rate              2628 non-null   float64\n",
            " 11  Evapotranspiration (mm)  2628 non-null   float64\n",
            "dtypes: float64(12)\n",
            "memory usage: 266.9+ KB\n"
          ]
        }
      ],
      "source": [
        "merged_df.info()"
      ]
    },
    {
      "cell_type": "code",
      "execution_count": 51,
      "metadata": {
        "id": "Zvl01i7CAvsz"
      },
      "outputs": [],
      "source": [
        "import matplotlib.pyplot as plt"
      ]
    },
    {
      "cell_type": "code",
      "execution_count": 25,
      "metadata": {
        "colab": {
          "base_uri": "https://localhost:8080/",
          "height": 282
        },
        "id": "AzIXbwbX9EKk",
        "outputId": "749e7124-dcd9-48d7-e3ca-8653838ca2c0"
      },
      "outputs": [
        {
          "data": {
            "text/plain": [
              "[<matplotlib.lines.Line2D at 0x7f893976fe90>]"
            ]
          },
          "execution_count": 25,
          "metadata": {},
          "output_type": "execute_result"
        },
        {
          "data": {
            "image/png": "[encoded data removed]",
            "text/plain": [
              "<Figure size 432x288 with 1 Axes>"
            ]
          },
          "metadata": {
            "needs_background": "light"
          },
          "output_type": "display_data"
        }
      ],
      "source": [
        "plt.plot(merged_df[\"water_level\"])"
      ]
    },
    {
      "cell_type": "code",
      "execution_count": 49,
      "metadata": {
        "id": "NoGuMTfVA5ms"
      },
      "outputs": [],
      "source": [
        "startdate = pd.to_datetime(\"2013-06-06\").date()\n",
        "\n",
        "final_df = merged_df.loc[merged_df.index>startdate]"
      ]
    },
    {
      "cell_type": "code",
      "execution_count": 50,
      "metadata": {
        "colab": {
          "base_uri": "https://localhost:8080/",
          "height": 282
        },
        "id": "5AURa09_D2jT",
        "outputId": "5b4055b3-e577-4ce9-a945-65a265098905"
      },
      "outputs": [
        {
          "data": {
            "text/plain": [
              "[<matplotlib.lines.Line2D at 0x7f89362baed0>]"
            ]
          },
          "execution_count": 50,
          "metadata": {},
          "output_type": "execute_result"
        },
        {
          "data": {
            "image/png": "[encoded data removed]",
            "text/plain": [
              "<Figure size 432x288 with 1 Axes>"
            ]
          },
          "metadata": {
            "needs_background": "light"
          },
          "output_type": "display_data"
        }
      ],
      "source": [
        "plt.plot(final_df[\"water_level\"])"
      ]
    },
    {
      "cell_type": "code",
      "execution_count": 52,
      "metadata": {
        "id": "QW0mGwQBEiZi"
      },
      "outputs": [],
      "source": [
        "# safe dataframe as csv\n",
        "final_df.to_csv(\"../data/daily_data.csv\", index=True)\n"
      ]
    }
  ],
  "metadata": {
    "colab": {
      "provenance": []
    },
    "kernelspec": {
      "display_name": "Python 3.10.6 ('dsf')",
      "language": "python",
      "name": "python3"
    },
    "language_info": {
      "codemirror_mode": {
        "name": "ipython",
        "version": 3
      },
      "file_extension": ".py",
      "mimetype": "text/x-python",
      "name": "python",
      "nbconvert_exporter": "python",
      "pygments_lexer": "ipython3",
      "version": "3.10.6"
    },
    "vscode": {
      "interpreter": {
        "hash": "33dbeeb1e0acb46a7865d1331f999416a9ee3844dbf7752d63c1fb0c04927faa"
      }
    }
  },
  "nbformat": 4,
  "nbformat_minor": 0
}
