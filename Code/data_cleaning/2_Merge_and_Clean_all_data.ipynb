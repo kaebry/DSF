{
  "cells": [
    {
      "cell_type": "code",
      "execution_count": 1,
      "metadata": {
        "id": "b3u6wn7yOakj"
      },
      "outputs": [],
      "source": [
        "import pandas as pd\n",
        "import numpy as np"
      ]
    },
    {
      "cell_type": "markdown",
      "metadata": {},
      "source": [
        "# Merge and Clean the Water, Soil, Radiation and Weather Data "
      ]
    },
    {
      "cell_type": "code",
      "execution_count": 37,
      "metadata": {},
      "outputs": [],
      "source": [
        "# read in files\n",
        "weather = pd.read_csv(\"../../Data/raw_data/mythenquai_agg.csv\")\n",
        "soil = pd.read_csv(\"../../Data/raw_data/saugspannung_agg.csv\")\n",
        "water = pd.read_csv(\"../../Data/raw_data/waterdata_agg.csv\")"
      ]
    },
    {
      "cell_type": "code",
      "execution_count": 34,
      "metadata": {},
      "outputs": [
        {
          "data": {
            "text/html": [
              "<div>\n",
              "<style scoped>\n",
              "    .dataframe tbody tr th:only-of-type {\n",
              "        vertical-align: middle;\n",
              "    }\n",
              "\n",
              "    .dataframe tbody tr th {\n",
              "        vertical-align: top;\n",
              "    }\n",
              "\n",
              "    .dataframe thead th {\n",
              "        text-align: right;\n",
              "    }\n",
              "</style>\n",
              "<table border=\"1\" class=\"dataframe\">\n",
              "  <thead>\n",
              "    <tr style=\"text-align: right;\">\n",
              "      <th></th>\n",
              "      <th>datetime</th>\n",
              "      <th>Wädenswil (20cm)</th>\n",
              "      <th>Wädenswil (40cm)</th>\n",
              "      <th>Wädenswil (70cm)</th>\n",
              "      <th>air_temperature</th>\n",
              "      <th>water_temperature</th>\n",
              "      <th>wind_gust_max_10min</th>\n",
              "      <th>wind_speed_avg_10min</th>\n",
              "      <th>wind_force_avg_10min</th>\n",
              "      <th>wind_direction</th>\n",
              "      <th>...</th>\n",
              "      <th>precipitation</th>\n",
              "      <th>global_radiation</th>\n",
              "      <th>change_rate</th>\n",
              "      <th>Pegel Zurichsee</th>\n",
              "      <th>Pegel Obersee</th>\n",
              "      <th>Abfluss Linth</th>\n",
              "      <th>Pegel Linth</th>\n",
              "      <th>Wasser_temp Linth</th>\n",
              "      <th>Abfluss Limmat</th>\n",
              "      <th>Pegel Limmat</th>\n",
              "    </tr>\n",
              "  </thead>\n",
              "  <tbody>\n",
              "    <tr>\n",
              "      <th>0</th>\n",
              "      <td>2012-01-01 01:00:00+01:00</td>\n",
              "      <td>0.50</td>\n",
              "      <td>0.60</td>\n",
              "      <td>1.000</td>\n",
              "      <td>7.516667</td>\n",
              "      <td>5.9</td>\n",
              "      <td>4.783333</td>\n",
              "      <td>2.516667</td>\n",
              "      <td>2.516667</td>\n",
              "      <td>194.333333</td>\n",
              "      <td>...</td>\n",
              "      <td>0.1</td>\n",
              "      <td>0.0</td>\n",
              "      <td>0.000008</td>\n",
              "      <td>405.877</td>\n",
              "      <td>405.850</td>\n",
              "      <td>29.328</td>\n",
              "      <td>418.226</td>\n",
              "      <td>6.16</td>\n",
              "      <td>134.098</td>\n",
              "      <td>400.669</td>\n",
              "    </tr>\n",
              "    <tr>\n",
              "      <th>1</th>\n",
              "      <td>2012-01-01 02:00:00+01:00</td>\n",
              "      <td>0.60</td>\n",
              "      <td>0.70</td>\n",
              "      <td>1.000</td>\n",
              "      <td>7.333333</td>\n",
              "      <td>5.9</td>\n",
              "      <td>5.266667</td>\n",
              "      <td>3.266667</td>\n",
              "      <td>3.266667</td>\n",
              "      <td>179.666667</td>\n",
              "      <td>...</td>\n",
              "      <td>0.0</td>\n",
              "      <td>1.0</td>\n",
              "      <td>0.000016</td>\n",
              "      <td>405.883</td>\n",
              "      <td>405.855</td>\n",
              "      <td>29.543</td>\n",
              "      <td>418.231</td>\n",
              "      <td>6.17</td>\n",
              "      <td>143.515</td>\n",
              "      <td>400.732</td>\n",
              "    </tr>\n",
              "    <tr>\n",
              "      <th>2</th>\n",
              "      <td>2012-01-01 03:00:00+01:00</td>\n",
              "      <td>0.70</td>\n",
              "      <td>0.80</td>\n",
              "      <td>1.200</td>\n",
              "      <td>9.116667</td>\n",
              "      <td>5.9</td>\n",
              "      <td>6.316667</td>\n",
              "      <td>2.650000</td>\n",
              "      <td>2.650000</td>\n",
              "      <td>216.000000</td>\n",
              "      <td>...</td>\n",
              "      <td>0.0</td>\n",
              "      <td>9.0</td>\n",
              "      <td>0.000004</td>\n",
              "      <td>405.887</td>\n",
              "      <td>405.857</td>\n",
              "      <td>29.741</td>\n",
              "      <td>418.236</td>\n",
              "      <td>6.17</td>\n",
              "      <td>158.646</td>\n",
              "      <td>400.830</td>\n",
              "    </tr>\n",
              "    <tr>\n",
              "      <th>3</th>\n",
              "      <td>2012-01-01 04:00:00+01:00</td>\n",
              "      <td>0.80</td>\n",
              "      <td>0.80</td>\n",
              "      <td>1.200</td>\n",
              "      <td>9.716667</td>\n",
              "      <td>5.9</td>\n",
              "      <td>6.900000</td>\n",
              "      <td>2.900000</td>\n",
              "      <td>2.900000</td>\n",
              "      <td>216.000000</td>\n",
              "      <td>...</td>\n",
              "      <td>0.0</td>\n",
              "      <td>8.0</td>\n",
              "      <td>0.000016</td>\n",
              "      <td>405.891</td>\n",
              "      <td>405.858</td>\n",
              "      <td>30.058</td>\n",
              "      <td>418.243</td>\n",
              "      <td>6.18</td>\n",
              "      <td>165.654</td>\n",
              "      <td>400.874</td>\n",
              "    </tr>\n",
              "    <tr>\n",
              "      <th>4</th>\n",
              "      <td>2012-01-01 05:00:00+01:00</td>\n",
              "      <td>1.00</td>\n",
              "      <td>0.90</td>\n",
              "      <td>1.300</td>\n",
              "      <td>9.966667</td>\n",
              "      <td>5.9</td>\n",
              "      <td>8.050000</td>\n",
              "      <td>3.366667</td>\n",
              "      <td>3.366667</td>\n",
              "      <td>218.166667</td>\n",
              "      <td>...</td>\n",
              "      <td>0.0</td>\n",
              "      <td>2.0</td>\n",
              "      <td>0.000004</td>\n",
              "      <td>405.894</td>\n",
              "      <td>405.858</td>\n",
              "      <td>30.277</td>\n",
              "      <td>418.249</td>\n",
              "      <td>6.18</td>\n",
              "      <td>163.086</td>\n",
              "      <td>400.858</td>\n",
              "    </tr>\n",
              "    <tr>\n",
              "      <th>...</th>\n",
              "      <td>...</td>\n",
              "      <td>...</td>\n",
              "      <td>...</td>\n",
              "      <td>...</td>\n",
              "      <td>...</td>\n",
              "      <td>...</td>\n",
              "      <td>...</td>\n",
              "      <td>...</td>\n",
              "      <td>...</td>\n",
              "      <td>...</td>\n",
              "      <td>...</td>\n",
              "      <td>...</td>\n",
              "      <td>...</td>\n",
              "      <td>...</td>\n",
              "      <td>...</td>\n",
              "      <td>...</td>\n",
              "      <td>...</td>\n",
              "      <td>...</td>\n",
              "      <td>...</td>\n",
              "      <td>...</td>\n",
              "      <td>...</td>\n",
              "    </tr>\n",
              "    <tr>\n",
              "      <th>73844</th>\n",
              "      <td>2021-12-30 21:00:00+01:00</td>\n",
              "      <td>2.37</td>\n",
              "      <td>2.55</td>\n",
              "      <td>5.505</td>\n",
              "      <td>9.900000</td>\n",
              "      <td>NaN</td>\n",
              "      <td>1.883333</td>\n",
              "      <td>1.416667</td>\n",
              "      <td>1.333333</td>\n",
              "      <td>168.500000</td>\n",
              "      <td>...</td>\n",
              "      <td>0.0</td>\n",
              "      <td>0.0</td>\n",
              "      <td>0.000000</td>\n",
              "      <td>405.953</td>\n",
              "      <td>405.926</td>\n",
              "      <td>49.147</td>\n",
              "      <td>418.675</td>\n",
              "      <td>6.96</td>\n",
              "      <td>149.153</td>\n",
              "      <td>400.736</td>\n",
              "    </tr>\n",
              "    <tr>\n",
              "      <th>73845</th>\n",
              "      <td>2021-12-30 22:00:00+01:00</td>\n",
              "      <td>2.40</td>\n",
              "      <td>2.58</td>\n",
              "      <td>5.525</td>\n",
              "      <td>9.216667</td>\n",
              "      <td>NaN</td>\n",
              "      <td>2.500000</td>\n",
              "      <td>2.016667</td>\n",
              "      <td>2.000000</td>\n",
              "      <td>168.500000</td>\n",
              "      <td>...</td>\n",
              "      <td>0.0</td>\n",
              "      <td>0.0</td>\n",
              "      <td>0.000000</td>\n",
              "      <td>405.954</td>\n",
              "      <td>405.928</td>\n",
              "      <td>49.756</td>\n",
              "      <td>418.687</td>\n",
              "      <td>6.93</td>\n",
              "      <td>149.750</td>\n",
              "      <td>400.740</td>\n",
              "    </tr>\n",
              "    <tr>\n",
              "      <th>73846</th>\n",
              "      <td>2021-12-30 23:00:00+01:00</td>\n",
              "      <td>2.44</td>\n",
              "      <td>2.61</td>\n",
              "      <td>5.535</td>\n",
              "      <td>8.583333</td>\n",
              "      <td>NaN</td>\n",
              "      <td>2.366667</td>\n",
              "      <td>1.850000</td>\n",
              "      <td>2.000000</td>\n",
              "      <td>161.500000</td>\n",
              "      <td>...</td>\n",
              "      <td>0.0</td>\n",
              "      <td>0.0</td>\n",
              "      <td>0.000000</td>\n",
              "      <td>405.955</td>\n",
              "      <td>405.927</td>\n",
              "      <td>50.410</td>\n",
              "      <td>418.700</td>\n",
              "      <td>6.91</td>\n",
              "      <td>149.250</td>\n",
              "      <td>400.737</td>\n",
              "    </tr>\n",
              "    <tr>\n",
              "      <th>73847</th>\n",
              "      <td>2021-12-31 00:00:00+01:00</td>\n",
              "      <td>2.50</td>\n",
              "      <td>2.64</td>\n",
              "      <td>5.560</td>\n",
              "      <td>8.750000</td>\n",
              "      <td>NaN</td>\n",
              "      <td>2.250000</td>\n",
              "      <td>1.750000</td>\n",
              "      <td>1.666667</td>\n",
              "      <td>152.666667</td>\n",
              "      <td>...</td>\n",
              "      <td>0.0</td>\n",
              "      <td>0.0</td>\n",
              "      <td>0.000000</td>\n",
              "      <td>405.956</td>\n",
              "      <td>405.924</td>\n",
              "      <td>51.048</td>\n",
              "      <td>418.713</td>\n",
              "      <td>6.89</td>\n",
              "      <td>147.866</td>\n",
              "      <td>400.728</td>\n",
              "    </tr>\n",
              "    <tr>\n",
              "      <th>73848</th>\n",
              "      <td>2021-12-31 01:00:00+01:00</td>\n",
              "      <td>2.56</td>\n",
              "      <td>2.67</td>\n",
              "      <td>5.595</td>\n",
              "      <td>8.300000</td>\n",
              "      <td>NaN</td>\n",
              "      <td>2.583333</td>\n",
              "      <td>1.916667</td>\n",
              "      <td>1.833333</td>\n",
              "      <td>160.666667</td>\n",
              "      <td>...</td>\n",
              "      <td>0.0</td>\n",
              "      <td>0.0</td>\n",
              "      <td>0.000000</td>\n",
              "      <td>405.957</td>\n",
              "      <td>405.923</td>\n",
              "      <td>51.640</td>\n",
              "      <td>418.724</td>\n",
              "      <td>6.88</td>\n",
              "      <td>145.627</td>\n",
              "      <td>400.713</td>\n",
              "    </tr>\n",
              "  </tbody>\n",
              "</table>\n",
              "<p>73849 rows × 25 columns</p>\n",
              "</div>"
            ],
            "text/plain": [
              "                        datetime  Wädenswil (20cm)  Wädenswil (40cm)  \\\n",
              "0      2012-01-01 01:00:00+01:00              0.50              0.60   \n",
              "1      2012-01-01 02:00:00+01:00              0.60              0.70   \n",
              "2      2012-01-01 03:00:00+01:00              0.70              0.80   \n",
              "3      2012-01-01 04:00:00+01:00              0.80              0.80   \n",
              "4      2012-01-01 05:00:00+01:00              1.00              0.90   \n",
              "...                          ...               ...               ...   \n",
              "73844  2021-12-30 21:00:00+01:00              2.37              2.55   \n",
              "73845  2021-12-30 22:00:00+01:00              2.40              2.58   \n",
              "73846  2021-12-30 23:00:00+01:00              2.44              2.61   \n",
              "73847  2021-12-31 00:00:00+01:00              2.50              2.64   \n",
              "73848  2021-12-31 01:00:00+01:00              2.56              2.67   \n",
              "\n",
              "       Wädenswil (70cm)  air_temperature  water_temperature  \\\n",
              "0                 1.000         7.516667                5.9   \n",
              "1                 1.000         7.333333                5.9   \n",
              "2                 1.200         9.116667                5.9   \n",
              "3                 1.200         9.716667                5.9   \n",
              "4                 1.300         9.966667                5.9   \n",
              "...                 ...              ...                ...   \n",
              "73844             5.505         9.900000                NaN   \n",
              "73845             5.525         9.216667                NaN   \n",
              "73846             5.535         8.583333                NaN   \n",
              "73847             5.560         8.750000                NaN   \n",
              "73848             5.595         8.300000                NaN   \n",
              "\n",
              "       wind_gust_max_10min  wind_speed_avg_10min  wind_force_avg_10min  \\\n",
              "0                 4.783333              2.516667              2.516667   \n",
              "1                 5.266667              3.266667              3.266667   \n",
              "2                 6.316667              2.650000              2.650000   \n",
              "3                 6.900000              2.900000              2.900000   \n",
              "4                 8.050000              3.366667              3.366667   \n",
              "...                    ...                   ...                   ...   \n",
              "73844             1.883333              1.416667              1.333333   \n",
              "73845             2.500000              2.016667              2.000000   \n",
              "73846             2.366667              1.850000              2.000000   \n",
              "73847             2.250000              1.750000              1.666667   \n",
              "73848             2.583333              1.916667              1.833333   \n",
              "\n",
              "       wind_direction  ...  precipitation  global_radiation  change_rate  \\\n",
              "0          194.333333  ...            0.1               0.0     0.000008   \n",
              "1          179.666667  ...            0.0               1.0     0.000016   \n",
              "2          216.000000  ...            0.0               9.0     0.000004   \n",
              "3          216.000000  ...            0.0               8.0     0.000016   \n",
              "4          218.166667  ...            0.0               2.0     0.000004   \n",
              "...               ...  ...            ...               ...          ...   \n",
              "73844      168.500000  ...            0.0               0.0     0.000000   \n",
              "73845      168.500000  ...            0.0               0.0     0.000000   \n",
              "73846      161.500000  ...            0.0               0.0     0.000000   \n",
              "73847      152.666667  ...            0.0               0.0     0.000000   \n",
              "73848      160.666667  ...            0.0               0.0     0.000000   \n",
              "\n",
              "       Pegel Zurichsee  Pegel Obersee  Abfluss Linth  Pegel Linth  \\\n",
              "0              405.877        405.850         29.328      418.226   \n",
              "1              405.883        405.855         29.543      418.231   \n",
              "2              405.887        405.857         29.741      418.236   \n",
              "3              405.891        405.858         30.058      418.243   \n",
              "4              405.894        405.858         30.277      418.249   \n",
              "...                ...            ...            ...          ...   \n",
              "73844          405.953        405.926         49.147      418.675   \n",
              "73845          405.954        405.928         49.756      418.687   \n",
              "73846          405.955        405.927         50.410      418.700   \n",
              "73847          405.956        405.924         51.048      418.713   \n",
              "73848          405.957        405.923         51.640      418.724   \n",
              "\n",
              "       Wasser_temp Linth  Abfluss Limmat  Pegel Limmat  \n",
              "0                   6.16         134.098       400.669  \n",
              "1                   6.17         143.515       400.732  \n",
              "2                   6.17         158.646       400.830  \n",
              "3                   6.18         165.654       400.874  \n",
              "4                   6.18         163.086       400.858  \n",
              "...                  ...             ...           ...  \n",
              "73844               6.96         149.153       400.736  \n",
              "73845               6.93         149.750       400.740  \n",
              "73846               6.91         149.250       400.737  \n",
              "73847               6.89         147.866       400.728  \n",
              "73848               6.88         145.627       400.713  \n",
              "\n",
              "[73849 rows x 25 columns]"
            ]
          },
          "execution_count": 34,
          "metadata": {},
          "output_type": "execute_result"
        }
      ],
      "source": [
        "# Merge the three datasets\n",
        "df_merged = pd.merge(pd.merge(soil, weather, how=\"left\", on=\"datetime\"), water, how=\"left\", on=\"datetime\")\n",
        "df_merged"
      ]
    },
    {
      "cell_type": "code",
      "execution_count": 35,
      "metadata": {},
      "outputs": [
        {
          "name": "stdout",
          "output_type": "stream",
          "text": [
            "<class 'pandas.core.frame.DataFrame'>\n",
            "Int64Index: 73849 entries, 0 to 73848\n",
            "Data columns (total 25 columns):\n",
            " #   Column                   Non-Null Count  Dtype  \n",
            "---  ------                   --------------  -----  \n",
            " 0   datetime                 73849 non-null  object \n",
            " 1   Wädenswil (20cm)         73622 non-null  float64\n",
            " 2   Wädenswil (40cm)         73737 non-null  float64\n",
            " 3   Wädenswil (70cm)         73454 non-null  float64\n",
            " 4   air_temperature          73398 non-null  float64\n",
            " 5   water_temperature        60619 non-null  float64\n",
            " 6   wind_gust_max_10min      73398 non-null  float64\n",
            " 7   wind_speed_avg_10min     73398 non-null  float64\n",
            " 8   wind_force_avg_10min     73398 non-null  float64\n",
            " 9   wind_direction           73398 non-null  float64\n",
            " 10  windchill                73398 non-null  float64\n",
            " 11  barometric_pressure_qfe  73394 non-null  float64\n",
            " 12  dew_point                73398 non-null  float64\n",
            " 13  humidity                 73398 non-null  float64\n",
            " 14  water_level              60619 non-null  float64\n",
            " 15  precipitation            73849 non-null  float64\n",
            " 16  global_radiation         73849 non-null  float64\n",
            " 17  change_rate              73849 non-null  float64\n",
            " 18  Pegel Zurichsee          73848 non-null  float64\n",
            " 19  Pegel Obersee            73848 non-null  float64\n",
            " 20  Abfluss Linth            73848 non-null  float64\n",
            " 21  Pegel Linth              73848 non-null  float64\n",
            " 22  Wasser_temp Linth        73848 non-null  float64\n",
            " 23  Abfluss Limmat           73847 non-null  float64\n",
            " 24  Pegel Limmat             73847 non-null  float64\n",
            "dtypes: float64(24), object(1)\n",
            "memory usage: 14.6+ MB\n"
          ]
        }
      ],
      "source": [
        "df_merged.info()"
      ]
    },
    {
      "cell_type": "code",
      "execution_count": 40,
      "metadata": {
        "id": "S-dDHvFfLNZK"
      },
      "outputs": [
        {
          "name": "stderr",
          "output_type": "stream",
          "text": [
            "C:\\Users\\lucal\\AppData\\Local\\Temp\\ipykernel_8812\\2382665581.py:3: SettingWithCopyWarning: \n",
            "A value is trying to be set on a copy of a slice from a DataFrame\n",
            "\n",
            "See the caveats in the documentation: https://pandas.pydata.org/pandas-docs/stable/user_guide/indexing.html#returning-a-view-versus-a-copy\n",
            "  df.drop(columns=[\"wind_direction\", \"wind_gust_max_10min\", \"wind_force_avg_10min\", \"windchill\", \"Pegel Zurichsee\", \"Pegel Obersee\", \"Pegel Zurichsee\", \"Pegel Linth\", \"Pegel Limmat\", \"Wasser_temp Linth\"], inplace=True)\n",
            "C:\\Users\\lucal\\AppData\\Local\\Temp\\ipykernel_8812\\2382665581.py:5: SettingWithCopyWarning: \n",
            "A value is trying to be set on a copy of a slice from a DataFrame\n",
            "\n",
            "See the caveats in the documentation: https://pandas.pydata.org/pandas-docs/stable/user_guide/indexing.html#returning-a-view-versus-a-copy\n",
            "  df.rename(columns={\"Wädenswil (20cm)\": \"suction_tension (20cm)\", \"Wädenswil (40cm)\": \"suction_tension (40cm)\", \"Wädenswil (70cm)\": \"suction_tension (70cm)\",\n"
          ]
        }
      ],
      "source": [
        "# select all observation until the end of 2019, from 2020 onwards there are no water level and water temperature data anymore furthermore we only have solar radiation Data\n",
        "# until the end of 2019 (we will read in that dataset further down) \n",
        "df = df_merged.loc[df_merged[\"datetime\"]<\"2019-12-31 23:00:00+01:00\"]\n",
        "df.drop(columns=[\"wind_direction\", \"wind_gust_max_10min\", \"wind_force_avg_10min\", \"windchill\", \"Pegel Zurichsee\", \"Pegel Obersee\", \"Pegel Zurichsee\", \"Pegel Linth\", \"Pegel Limmat\", \"Wasser_temp Linth\"], inplace=True)\n",
        "\n",
        "# rename the columns\n",
        "df.rename(columns={\"Wädenswil (20cm)\": \"suction_tension (20cm)\", \"Wädenswil (40cm)\": \"suction_tension (40cm)\", \"Wädenswil (70cm)\": \"suction_tension (70cm)\",\n",
        " \"wind_speed_avg_10min\": \"wind_speed (m/s)\", \"precipitation\": \"precipitation (mm)\",\"Abfluss Linth\": \"inflow_linth (m3/s)\",\n",
        "                   \"Abfluss Limmat\": \"outflow_limmat (m3/s)\"}, inplace=True)\n"
      ]
    },
    {
      "cell_type": "code",
      "execution_count": 46,
      "metadata": {},
      "outputs": [
        {
          "name": "stderr",
          "output_type": "stream",
          "text": [
            "C:\\Users\\lucal\\AppData\\Local\\Temp\\ipykernel_8812\\736777462.py:5: SettingWithCopyWarning: \n",
            "A value is trying to be set on a copy of a slice from a DataFrame.\n",
            "Try using .loc[row_indexer,col_indexer] = value instead\n",
            "\n",
            "See the caveats in the documentation: https://pandas.pydata.org/pandas-docs/stable/user_guide/indexing.html#returning-a-view-versus-a-copy\n",
            "  df[[\"suction_tension (20cm)\", \"suction_tension (40cm)\", \"suction_tension (70cm)\", \"air_temperature\", \"water_temperature\", \"wind_speed (m/s)\",\n"
          ]
        }
      ],
      "source": [
        "\n",
        "# impute the missing values of the dataset using spline interpolate imputation. We are taking the mean of the two values before and after the \n",
        "# observation with the missing value to get the best possible approximation. The interpolate imputation is the best method to impute \n",
        "# and we chose the spline method because that way we can smooth the estimations since we don´t have linear data\n",
        "# source: https://www.section.io/engineering-education/missing-values-in-time-series/ \n",
        "\n",
        "df[[\"suction_tension (20cm)\", \"suction_tension (40cm)\", \"suction_tension (70cm)\", \"air_temperature\", \"water_temperature\", \"wind_speed (m/s)\", \n",
        "\"barometric_pressure_qfe\", \"dew_point\", \"humidity\",\"water_level\", \"inflow_linth (m3/s)\",\"outflow_limmat (m3/s)\"]]= df[[\"suction_tension (20cm)\", \n",
        "\"suction_tension (40cm)\", \"suction_tension (70cm)\", \"air_temperature\", \"water_temperature\", \"wind_speed (m/s)\", \"barometric_pressure_qfe\", \n",
        "\"dew_point\", \"humidity\",\"water_level\", \"inflow_linth (m3/s)\",\"outflow_limmat (m3/s)\"]].interpolate(option='spline')\n"
      ]
    },
    {
      "cell_type": "code",
      "execution_count": 47,
      "metadata": {},
      "outputs": [
        {
          "name": "stderr",
          "output_type": "stream",
          "text": [
            "C:\\Users\\lucal\\AppData\\Local\\Temp\\ipykernel_8812\\132330667.py:2: SettingWithCopyWarning: \n",
            "A value is trying to be set on a copy of a slice from a DataFrame.\n",
            "Try using .loc[row_indexer,col_indexer] = value instead\n",
            "\n",
            "See the caveats in the documentation: https://pandas.pydata.org/pandas-docs/stable/user_guide/indexing.html#returning-a-view-versus-a-copy\n",
            "  df[\"change_rate\"] = df[\"water_level\"].pct_change()\n"
          ]
        }
      ],
      "source": [
        "# update the change rate variable after imputing the water level variable\n",
        "df[\"change_rate\"] = df[\"water_level\"].pct_change()"
      ]
    },
    {
      "cell_type": "code",
      "execution_count": 52,
      "metadata": {},
      "outputs": [
        {
          "name": "stdout",
          "output_type": "stream",
          "text": [
            "<class 'pandas.core.frame.DataFrame'>\n",
            "Int64Index: 60754 entries, 0 to 60753\n",
            "Data columns (total 16 columns):\n",
            " #   Column                   Non-Null Count  Dtype  \n",
            "---  ------                   --------------  -----  \n",
            " 0   datetime                 60754 non-null  object \n",
            " 1   suction_tension (20cm)   60754 non-null  float64\n",
            " 2   suction_tension (40cm)   60754 non-null  float64\n",
            " 3   suction_tension (70cm)   60754 non-null  float64\n",
            " 4   air_temperature          60754 non-null  float64\n",
            " 5   water_temperature        60754 non-null  float64\n",
            " 6   wind_speed (m/s)         60754 non-null  float64\n",
            " 7   barometric_pressure_qfe  60754 non-null  float64\n",
            " 8   dew_point                60754 non-null  float64\n",
            " 9   humidity                 60754 non-null  float64\n",
            " 10  water_level              60754 non-null  float64\n",
            " 11  precipitation (mm)       60754 non-null  float64\n",
            " 12  global_radiation         60754 non-null  float64\n",
            " 13  change_rate              60753 non-null  float64\n",
            " 14  inflow_linth (m3/s)      60754 non-null  float64\n",
            " 15  outflow_limmat (m3/s)    60754 non-null  float64\n",
            "dtypes: float64(15), object(1)\n",
            "memory usage: 7.9+ MB\n"
          ]
        }
      ],
      "source": [
        "df.info()"
      ]
    },
    {
      "cell_type": "markdown",
      "metadata": {},
      "source": [
        "# Clean radiation dataset and merge with the other dataset"
      ]
    },
    {
      "cell_type": "code",
      "execution_count": 53,
      "metadata": {},
      "outputs": [],
      "source": [
        "# read in dataset\n",
        "RA = pd.read_csv(\"../../Data/raw_data/extrater_radiation_agg.csv\")"
      ]
    },
    {
      "cell_type": "code",
      "execution_count": 54,
      "metadata": {
        "id": "D1B0IxpZVBuP"
      },
      "outputs": [],
      "source": [
        "# rename column and merge the two dataframes\n",
        "RA.rename(columns={\"Irradiance (W/m2)\": \"extraterrestial_radiation\"}, inplace=True)\n",
        "df_RA = pd.merge(df, RA, how=\"inner\", on=\"datetime\")"
      ]
    },
    {
      "cell_type": "code",
      "execution_count": 55,
      "metadata": {
        "colab": {
          "base_uri": "https://localhost:8080/"
        },
        "id": "HlU_b9FwVejs",
        "outputId": "d120daa0-5423-42b7-a242-92cd6821f74f"
      },
      "outputs": [
        {
          "data": {
            "text/plain": [
              "array([False])"
            ]
          },
          "execution_count": 55,
          "metadata": {},
          "output_type": "execute_result"
        }
      ],
      "source": [
        "# check if there are any missing values after the merge\n",
        "df_RA[\"extraterrestial_radiation\"].isna().unique()"
      ]
    },
    {
      "cell_type": "code",
      "execution_count": 56,
      "metadata": {
        "colab": {
          "base_uri": "https://localhost:8080/"
        },
        "id": "0_5jbxa6WisX",
        "outputId": "eec39ad3-8f3b-47a9-cc5e-ee4b0a4cef80"
      },
      "outputs": [
        {
          "name": "stdout",
          "output_type": "stream",
          "text": [
            "<class 'pandas.core.frame.DataFrame'>\n",
            "Int64Index: 60754 entries, 0 to 60753\n",
            "Data columns (total 17 columns):\n",
            " #   Column                     Non-Null Count  Dtype  \n",
            "---  ------                     --------------  -----  \n",
            " 0   datetime                   60754 non-null  object \n",
            " 1   suction_tension (20cm)     60754 non-null  float64\n",
            " 2   suction_tension (40cm)     60754 non-null  float64\n",
            " 3   suction_tension (70cm)     60754 non-null  float64\n",
            " 4   air_temperature            60754 non-null  float64\n",
            " 5   water_temperature          60754 non-null  float64\n",
            " 6   wind_speed (m/s)           60754 non-null  float64\n",
            " 7   barometric_pressure_qfe    60754 non-null  float64\n",
            " 8   dew_point                  60754 non-null  float64\n",
            " 9   humidity                   60754 non-null  float64\n",
            " 10  water_level                60754 non-null  float64\n",
            " 11  precipitation (mm)         60754 non-null  float64\n",
            " 12  global_radiation           60754 non-null  float64\n",
            " 13  change_rate                60753 non-null  float64\n",
            " 14  inflow_linth (m3/s)        60754 non-null  float64\n",
            " 15  outflow_limmat (m3/s)      60754 non-null  float64\n",
            " 16  extraterrestial_radiation  60754 non-null  float64\n",
            "dtypes: float64(16), object(1)\n",
            "memory usage: 8.3+ MB\n"
          ]
        }
      ],
      "source": [
        "df_RA.info()"
      ]
    },
    {
      "cell_type": "code",
      "execution_count": 57,
      "metadata": {
        "id": "fLtpt0oDkpSM"
      },
      "outputs": [],
      "source": [
        "# this is the simplified version of the penman equation to compute evaporation based on global radiation (RS), air teperature (T), extraterrestial radiation (RA), \n",
        "# humidity (RH), and wind speed (U)\n",
        "# we derived this formula from the following source: Valiantzas, J.D. (2006). Simplified versions for the Penman evaporation equation using routine weather data, \n",
        "# Journal of Hydrology, 331(3–4), 690-702. https://doi.org/10.1016/j.jhydrol.2006.06.012.\n",
        " \n",
        "def evaporation(RS,T,RA,RH,U, alpha=0.08, au=0.5):\n",
        "  Epen = (0.051*(1-alpha)*RS*np.sqrt(T+9.5))-(2.4*(RS/RA)**2)+(0.052*(T+20)*(1-(RH/100))*(au-0.38+0.54*U))\n",
        "  return Epen"
      ]
    },
    {
      "cell_type": "code",
      "execution_count": 58,
      "metadata": {
        "colab": {
          "base_uri": "https://localhost:8080/"
        },
        "id": "K2cbWj_q3lUE",
        "outputId": "f73696f6-0a4a-4163-c67c-79e4d3361c7a"
      },
      "outputs": [
        {
          "name": "stderr",
          "output_type": "stream",
          "text": [
            "c:\\Users\\lucal\\miniconda3\\envs\\dsf\\lib\\site-packages\\pandas\\core\\arraylike.py:402: RuntimeWarning: invalid value encountered in sqrt\n",
            "  result = getattr(ufunc, method)(*inputs, **kwargs)\n"
          ]
        }
      ],
      "source": [
        "# create new variable evaporation by applying the evaporation function\n",
        "df_RA[\"evaporation\"] = evaporation(df_RA[\"global_radiation\"], df_RA[\"air_temperature\"], df_RA[\"extraterrestial_radiation\"], df_RA[\"humidity\"], df_RA[\"wind_speed (m/s)\"])"
      ]
    },
    {
      "cell_type": "code",
      "execution_count": 59,
      "metadata": {},
      "outputs": [],
      "source": [
        "# set datetime as index\n",
        "df_RA.set_index(\"datetime\", inplace=True)"
      ]
    },
    {
      "cell_type": "code",
      "execution_count": 61,
      "metadata": {},
      "outputs": [],
      "source": [
        "# For the missing values of the evaporation we are using the KNNImputer to fill in the missing values.\n",
        "# we use the KNN imputer because it fills in the value based of the mean values of observations with variable values most similar to the observation\n",
        "# with the missing value. \n",
        "# The NaNs occure for observations with a very low (ca. below -9 degrees Celsius) temperature because then the argument in the square root\n",
        "# turn negative. Because of this we often have missing values for many consecutive observations in a row and because we have all other values\n",
        "# for of one observation the KNN imputer makes more sense than interpolation \n",
        "\n",
        "# We are standardizing the values before we apply the KNN imputer and destandardize them afterwards again. That way we circumvent biases for the\n",
        "# imputed values\n",
        "# source: Htoon, K. S. (2020).  A Guide To KNN Imputation. retrieved from: \n",
        "# https://medium.com/@kyawsawhtoon/a-guide-to-knn-imputation-95e2dc496e\n",
        "\n",
        "# import KNN imputer\n",
        "from sklearn.impute import KNNImputer\n",
        "# import MinMaxScaler \n",
        "from sklearn.preprocessing import MinMaxScaler\n",
        "scaler = MinMaxScaler()\n",
        "# standardize data\n",
        "data_scaled = pd.DataFrame(scaler.fit_transform(df_RA), columns = df_RA.columns)\n",
        "\n",
        "imputer = KNNImputer()\n",
        "# impute missing values with KNN imputer and convert them to floats\n",
        "data_imputed = pd.DataFrame(imputer.fit_transform(data_scaled), columns=df_RA.columns, index = df_RA.index).astype(float)\n",
        "# de standardize the imputed dataframe to get original unit of measurement\n",
        "data_imputed = pd.DataFrame(scaler.inverse_transform(data_imputed), columns = df_RA.columns, index = df_RA.index)\n"
      ]
    },
    {
      "cell_type": "code",
      "execution_count": 64,
      "metadata": {},
      "outputs": [
        {
          "name": "stdout",
          "output_type": "stream",
          "text": [
            "<class 'pandas.core.frame.DataFrame'>\n",
            "Index: 60754 entries, 2012-01-01 01:00:00+01:00 to 2019-11-27 05:00:00+01:00\n",
            "Data columns (total 17 columns):\n",
            " #   Column                     Non-Null Count  Dtype  \n",
            "---  ------                     --------------  -----  \n",
            " 0   suction_tension (20cm)     60754 non-null  float64\n",
            " 1   suction_tension (40cm)     60754 non-null  float64\n",
            " 2   suction_tension (70cm)     60754 non-null  float64\n",
            " 3   air_temperature            60754 non-null  float64\n",
            " 4   water_temperature          60754 non-null  float64\n",
            " 5   wind_speed (m/s)           60754 non-null  float64\n",
            " 6   barometric_pressure_qfe    60754 non-null  float64\n",
            " 7   dew_point                  60754 non-null  float64\n",
            " 8   humidity                   60754 non-null  float64\n",
            " 9   water_level                60754 non-null  float64\n",
            " 10  precipitation (mm)         60754 non-null  float64\n",
            " 11  global_radiation           60754 non-null  float64\n",
            " 12  change_rate                60754 non-null  float64\n",
            " 13  inflow_linth (m3/s)        60754 non-null  float64\n",
            " 14  outflow_limmat (m3/s)      60754 non-null  float64\n",
            " 15  extraterrestial_radiation  60754 non-null  float64\n",
            " 16  evaporation                60754 non-null  float64\n",
            "dtypes: float64(17)\n",
            "memory usage: 8.3+ MB\n"
          ]
        }
      ],
      "source": [
        "data_imputed.info()"
      ]
    },
    {
      "cell_type": "code",
      "execution_count": 69,
      "metadata": {},
      "outputs": [],
      "source": [
        "# safe dataframe with all variables as csv\n",
        "data_imputed.to_csv(\"../../Data/clean_data/data_hourly_all_variables.csv\", index=True)"
      ]
    },
    {
      "cell_type": "code",
      "execution_count": 65,
      "metadata": {
        "colab": {
          "base_uri": "https://localhost:8080/",
          "height": 329
        },
        "id": "FOaO2Kv-coC2",
        "outputId": "77a06796-dd62-408d-9cc5-2c79c637cf07"
      },
      "outputs": [],
      "source": [
        "# drop variables that are included in the evaporation\n",
        "df_reduced = data_imputed.drop(columns=[\"air_temperature\", \"wind_speed (m/s)\", \"global_radiation\", \"humidity\", \"extraterrestial_radiation\"])\n"
      ]
    },
    {
      "cell_type": "code",
      "execution_count": 70,
      "metadata": {
        "colab": {
          "base_uri": "https://localhost:8080/",
          "height": 679
        },
        "id": "jvbB420XqLa0",
        "outputId": "531f3e41-a7b2-4ad2-a790-1dff408d00b9"
      },
      "outputs": [],
      "source": [
        "# safe dataframe with reduced variabels as csv\n",
        "df_reduced.to_csv(\"../../Data/clean_data/data_hourly_reduced_variables.csv\", index=True)"
      ]
    }
  ],
  "metadata": {
    "colab": {
      "provenance": []
    },
    "kernelspec": {
      "display_name": "Python 3.10.6 ('dsf')",
      "language": "python",
      "name": "python3"
    },
    "language_info": {
      "codemirror_mode": {
        "name": "ipython",
        "version": 3
      },
      "file_extension": ".py",
      "mimetype": "text/x-python",
      "name": "python",
      "nbconvert_exporter": "python",
      "pygments_lexer": "ipython3",
      "version": "3.10.6"
    },
    "vscode": {
      "interpreter": {
        "hash": "33dbeeb1e0acb46a7865d1331f999416a9ee3844dbf7752d63c1fb0c04927faa"
      }
    }
  },
  "nbformat": 4,
  "nbformat_minor": 0
}
