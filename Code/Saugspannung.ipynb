{
 "cells": [
  {
   "cell_type": "code",
   "execution_count": 2,
   "metadata": {},
   "outputs": [],
   "source": [
    "import pandas as pd"
   ]
  },
  {
   "cell_type": "code",
   "execution_count": 54,
   "metadata": {},
   "outputs": [],
   "source": [
    "# read in csv files \n",
    "Saugspannung_2012 = pd.read_csv(\"C:/Users/lucal/Documents/HSG/7._Semester/DSF/Project/13560_3922_2022-11-14_13-23-31 (1) - Copia/saugspannung 2012.csv\",sep=\",\")\n",
    "Saugspannung_2013 = pd.read_csv(\"C:/Users/lucal/Documents/HSG/7._Semester/DSF/Project/13560_3922_2022-11-14_13-23-31 (1) - Copia/saugspannung 2013.csv\",sep=\",\")\n",
    "Saugspannung_2014 = pd.read_csv(\"C:/Users/lucal/Documents/HSG/7._Semester/DSF/Project/13560_3922_2022-11-14_13-23-31 (1) - Copia/saugspannung 2014.csv\",sep=\",\")\n",
    "Saugspannung_2015 = pd.read_csv(\"C:/Users/lucal/Documents/HSG/7._Semester/DSF/Project/13560_3922_2022-11-14_13-23-31 (1) - Copia/saugspannung 2015.csv\",sep=\",\")\n",
    "Saugspannung_2016 = pd.read_csv(\"C:/Users/lucal/Documents/HSG/7._Semester/DSF/Project/13560_3922_2022-11-14_13-23-31 (1) - Copia/saugspannung 2016.csv\",sep=\",\")\n",
    "Saugspannung_2017 = pd.read_csv(\"C:/Users/lucal/Documents/HSG/7._Semester/DSF/Project/13560_3922_2022-11-14_13-23-31 (1) - Copia/saugspannung 2017.csv\",sep=\",\")\n",
    "Saugspannung_2018 = pd.read_csv(\"C:/Users/lucal/Documents/HSG/7._Semester/DSF/Project/13560_3922_2022-11-14_13-23-31 (1) - Copia/saugspannung 2018.csv\",sep=\",\")\n",
    "Saugspannung_2019 = pd.read_csv(\"C:/Users/lucal/Documents/HSG/7._Semester/DSF/Project/13560_3922_2022-11-14_13-23-31 (1) - Copia/saugspannung 2019.csv\",sep=\",\")\n",
    "Saugspannung_2020 = pd.read_csv(\"C:/Users/lucal/Documents/HSG/7._Semester/DSF/Project/13560_3922_2022-11-14_13-23-31 (1) - Copia/saugspannung 2020.csv\",sep=\",\")\n",
    "Saugspannung_2021 = pd.read_csv(\"C:/Users/lucal/Documents/HSG/7._Semester/DSF/Project/13560_3922_2022-11-14_13-23-31 (1) - Copia/saugspannung 2021.csv\",sep=\",\")\n"
   ]
  },
  {
   "cell_type": "code",
   "execution_count": 68,
   "metadata": {},
   "outputs": [],
   "source": [
    "# concatenate the csv files from each year to one dataframe\n",
    "saugspannung = pd.concat([Saugspannung_2012,Saugspannung_2013,Saugspannung_2014,Saugspannung_2015,Saugspannung_2016,Saugspannung_2017,Saugspannung_2018,\n",
    "Saugspannung_2019,Saugspannung_2020,Saugspannung_2021])\n",
    "# rename column\n",
    "saugspannung = saugspannung.rename(columns={\"DateTime\": \"datetime\"})"
   ]
  },
  {
   "cell_type": "code",
   "execution_count": 70,
   "metadata": {},
   "outputs": [],
   "source": [
    "# import pytz package for handling timezones\n",
    "import pytz\n",
    "# convert DateTime column into datetime format\n",
    "saugspannung[\"datetime\"] = pd.to_datetime(saugspannung['datetime'])\n",
    "# function that converts datetime column into CET timezone and accounts for Daylight saving\n",
    "def add_timezone(df):\n",
    "    timeZone = pytz.timezone(\"CET\")\n",
    "    df['datetime'] = df['datetime'].dt.tz_localize('UTC')\n",
    "    df['datetime'] = df['datetime'].dt.tz_convert(timeZone)\n",
    "    return df\n",
    "\n",
    "add_timezone(saugspannung)\n",
    "\n",
    "# set DateTime as index\n",
    "saugspannung.set_index(\"datetime\", inplace=True)"
   ]
  },
  {
   "cell_type": "code",
   "execution_count": 71,
   "metadata": {},
   "outputs": [
    {
     "name": "stdout",
     "output_type": "stream",
     "text": [
      "<class 'pandas.core.frame.DataFrame'>\n",
      "DatetimeIndex: 73849 entries, 2012-01-01 01:00:00+01:00 to 2021-12-31 01:00:00+01:00\n",
      "Data columns (total 3 columns):\n",
      " #   Column            Non-Null Count  Dtype  \n",
      "---  ------            --------------  -----  \n",
      " 0   Wädenswil (20cm)  73622 non-null  float64\n",
      " 1   Wädenswil (40cm)  73737 non-null  float64\n",
      " 2   Wädenswil (70cm)  73454 non-null  float64\n",
      "dtypes: float64(3)\n",
      "memory usage: 2.3 MB\n"
     ]
    }
   ],
   "source": [
    "saugspannung.info()"
   ]
  },
  {
   "cell_type": "code",
   "execution_count": 72,
   "metadata": {},
   "outputs": [],
   "source": [
    "saugspannung.to_csv(\"saugspannung_agg.csv\", index=True)"
   ]
  },
  {
   "cell_type": "code",
   "execution_count": 73,
   "metadata": {},
   "outputs": [
    {
     "data": {
      "text/html": [
       "<div>\n",
       "<style scoped>\n",
       "    .dataframe tbody tr th:only-of-type {\n",
       "        vertical-align: middle;\n",
       "    }\n",
       "\n",
       "    .dataframe tbody tr th {\n",
       "        vertical-align: top;\n",
       "    }\n",
       "\n",
       "    .dataframe thead th {\n",
       "        text-align: right;\n",
       "    }\n",
       "</style>\n",
       "<table border=\"1\" class=\"dataframe\">\n",
       "  <thead>\n",
       "    <tr style=\"text-align: right;\">\n",
       "      <th></th>\n",
       "      <th>datetime</th>\n",
       "      <th>Wädenswil (20cm)</th>\n",
       "      <th>Wädenswil (40cm)</th>\n",
       "      <th>Wädenswil (70cm)</th>\n",
       "    </tr>\n",
       "  </thead>\n",
       "  <tbody>\n",
       "    <tr>\n",
       "      <th>0</th>\n",
       "      <td>2012-01-01 01:00:00+01:00</td>\n",
       "      <td>0.50</td>\n",
       "      <td>0.60</td>\n",
       "      <td>1.000</td>\n",
       "    </tr>\n",
       "    <tr>\n",
       "      <th>1</th>\n",
       "      <td>2012-01-01 02:00:00+01:00</td>\n",
       "      <td>0.60</td>\n",
       "      <td>0.70</td>\n",
       "      <td>1.000</td>\n",
       "    </tr>\n",
       "    <tr>\n",
       "      <th>2</th>\n",
       "      <td>2012-01-01 03:00:00+01:00</td>\n",
       "      <td>0.70</td>\n",
       "      <td>0.80</td>\n",
       "      <td>1.200</td>\n",
       "    </tr>\n",
       "    <tr>\n",
       "      <th>3</th>\n",
       "      <td>2012-01-01 04:00:00+01:00</td>\n",
       "      <td>0.80</td>\n",
       "      <td>0.80</td>\n",
       "      <td>1.200</td>\n",
       "    </tr>\n",
       "    <tr>\n",
       "      <th>4</th>\n",
       "      <td>2012-01-01 05:00:00+01:00</td>\n",
       "      <td>1.00</td>\n",
       "      <td>0.90</td>\n",
       "      <td>1.300</td>\n",
       "    </tr>\n",
       "    <tr>\n",
       "      <th>...</th>\n",
       "      <td>...</td>\n",
       "      <td>...</td>\n",
       "      <td>...</td>\n",
       "      <td>...</td>\n",
       "    </tr>\n",
       "    <tr>\n",
       "      <th>73844</th>\n",
       "      <td>2021-12-30 21:00:00+01:00</td>\n",
       "      <td>2.37</td>\n",
       "      <td>2.55</td>\n",
       "      <td>5.505</td>\n",
       "    </tr>\n",
       "    <tr>\n",
       "      <th>73845</th>\n",
       "      <td>2021-12-30 22:00:00+01:00</td>\n",
       "      <td>2.40</td>\n",
       "      <td>2.58</td>\n",
       "      <td>5.525</td>\n",
       "    </tr>\n",
       "    <tr>\n",
       "      <th>73846</th>\n",
       "      <td>2021-12-30 23:00:00+01:00</td>\n",
       "      <td>2.44</td>\n",
       "      <td>2.61</td>\n",
       "      <td>5.535</td>\n",
       "    </tr>\n",
       "    <tr>\n",
       "      <th>73847</th>\n",
       "      <td>2021-12-31 00:00:00+01:00</td>\n",
       "      <td>2.50</td>\n",
       "      <td>2.64</td>\n",
       "      <td>5.560</td>\n",
       "    </tr>\n",
       "    <tr>\n",
       "      <th>73848</th>\n",
       "      <td>2021-12-31 01:00:00+01:00</td>\n",
       "      <td>2.56</td>\n",
       "      <td>2.67</td>\n",
       "      <td>5.595</td>\n",
       "    </tr>\n",
       "  </tbody>\n",
       "</table>\n",
       "<p>73849 rows × 4 columns</p>\n",
       "</div>"
      ],
      "text/plain": [
       "                        datetime  Wädenswil (20cm)  Wädenswil (40cm)  \\\n",
       "0      2012-01-01 01:00:00+01:00              0.50              0.60   \n",
       "1      2012-01-01 02:00:00+01:00              0.60              0.70   \n",
       "2      2012-01-01 03:00:00+01:00              0.70              0.80   \n",
       "3      2012-01-01 04:00:00+01:00              0.80              0.80   \n",
       "4      2012-01-01 05:00:00+01:00              1.00              0.90   \n",
       "...                          ...               ...               ...   \n",
       "73844  2021-12-30 21:00:00+01:00              2.37              2.55   \n",
       "73845  2021-12-30 22:00:00+01:00              2.40              2.58   \n",
       "73846  2021-12-30 23:00:00+01:00              2.44              2.61   \n",
       "73847  2021-12-31 00:00:00+01:00              2.50              2.64   \n",
       "73848  2021-12-31 01:00:00+01:00              2.56              2.67   \n",
       "\n",
       "       Wädenswil (70cm)  \n",
       "0                 1.000  \n",
       "1                 1.000  \n",
       "2                 1.200  \n",
       "3                 1.200  \n",
       "4                 1.300  \n",
       "...                 ...  \n",
       "73844             5.505  \n",
       "73845             5.525  \n",
       "73846             5.535  \n",
       "73847             5.560  \n",
       "73848             5.595  \n",
       "\n",
       "[73849 rows x 4 columns]"
      ]
     },
     "execution_count": 73,
     "metadata": {},
     "output_type": "execute_result"
    }
   ],
   "source": [
    "pd.read_csv(\"saugspannung_agg.csv\")"
   ]
  },
  {
   "cell_type": "code",
   "execution_count": null,
   "metadata": {},
   "outputs": [],
   "source": []
  }
 ],
 "metadata": {
  "kernelspec": {
   "display_name": "Python 3.10.6 ('dsf')",
   "language": "python",
   "name": "python3"
  },
  "language_info": {
   "codemirror_mode": {
    "name": "ipython",
    "version": 3
   },
   "file_extension": ".py",
   "mimetype": "text/x-python",
   "name": "python",
   "nbconvert_exporter": "python",
   "pygments_lexer": "ipython3",
   "version": "3.10.6"
  },
  "orig_nbformat": 4,
  "vscode": {
   "interpreter": {
    "hash": "33dbeeb1e0acb46a7865d1331f999416a9ee3844dbf7752d63c1fb0c04927faa"
   }
  }
 },
 "nbformat": 4,
 "nbformat_minor": 2
}
