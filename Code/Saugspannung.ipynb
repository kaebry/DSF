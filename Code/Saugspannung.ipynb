{
 "cells": [
  {
   "cell_type": "code",
   "execution_count": 4,
   "metadata": {},
   "outputs": [],
   "source": [
    "import pandas as pd\n",
    "path = \"C:/Users/lucal/Documents/HSG/7._Semester/DSF/Project/\""
   ]
  },
  {
   "cell_type": "code",
   "execution_count": 21,
   "metadata": {},
   "outputs": [],
   "source": [
    "Saugspannung_2012 = pd.read_csv(\"C:/Users/lucal/Documents/HSG/7._Semester/DSF/Project/13560_3922_2022-11-14_13-23-31 (1) - Copia/saugspannung 2012.csv\",sep=\",\")\n",
    "Saugspannung_2013 = pd.read_csv(\"C:/Users/lucal/Documents/HSG/7._Semester/DSF/Project/13560_3922_2022-11-14_13-23-31 (1) - Copia/saugspannung 2013.csv\",sep=\",\")\n",
    "Saugspannung_2014 = pd.read_csv(\"C:/Users/lucal/Documents/HSG/7._Semester/DSF/Project/13560_3922_2022-11-14_13-23-31 (1) - Copia/saugspannung 2014.csv\",sep=\",\")\n",
    "Saugspannung_2015 = pd.read_csv(\"C:/Users/lucal/Documents/HSG/7._Semester/DSF/Project/13560_3922_2022-11-14_13-23-31 (1) - Copia/saugspannung 2015.csv\",sep=\",\")\n",
    "Saugspannung_2016 = pd.read_csv(\"C:/Users/lucal/Documents/HSG/7._Semester/DSF/Project/13560_3922_2022-11-14_13-23-31 (1) - Copia/saugspannung 2016.csv\",sep=\",\")\n",
    "Saugspannung_2017 = pd.read_csv(\"C:/Users/lucal/Documents/HSG/7._Semester/DSF/Project/13560_3922_2022-11-14_13-23-31 (1) - Copia/saugspannung 2017.csv\",sep=\",\")\n",
    "Saugspannung_2018 = pd.read_csv(\"C:/Users/lucal/Documents/HSG/7._Semester/DSF/Project/13560_3922_2022-11-14_13-23-31 (1) - Copia/saugspannung 2018.csv\",sep=\",\")\n",
    "Saugspannung_2019 = pd.read_csv(\"C:/Users/lucal/Documents/HSG/7._Semester/DSF/Project/13560_3922_2022-11-14_13-23-31 (1) - Copia/saugspannung 2019.csv\",sep=\",\")\n",
    "Saugspannung_2020 = pd.read_csv(\"C:/Users/lucal/Documents/HSG/7._Semester/DSF/Project/13560_3922_2022-11-14_13-23-31 (1) - Copia/saugspannung 2020.csv\",sep=\",\")\n",
    "Saugspannung_2021 = pd.read_csv(\"C:/Users/lucal/Documents/HSG/7._Semester/DSF/Project/13560_3922_2022-11-14_13-23-31 (1) - Copia/saugspannung 2021.csv\",sep=\",\")\n"
   ]
  },
  {
   "cell_type": "code",
   "execution_count": 22,
   "metadata": {},
   "outputs": [],
   "source": [
    "saugspannung = pd.concat([Saugspannung_2012,Saugspannung_2013,Saugspannung_2014,Saugspannung_2015,Saugspannung_2016,Saugspannung_2017,Saugspannung_2018,\n",
    "Saugspannung_2019,Saugspannung_2020,Saugspannung_2021])"
   ]
  },
  {
   "cell_type": "code",
   "execution_count": 25,
   "metadata": {},
   "outputs": [],
   "source": [
    "saugspannung.to_csv(\"saugspannung_agg.csv\", index=False)"
   ]
  },
  {
   "cell_type": "code",
   "execution_count": 26,
   "metadata": {},
   "outputs": [
    {
     "data": {
      "text/html": [
       "<div>\n",
       "<style scoped>\n",
       "    .dataframe tbody tr th:only-of-type {\n",
       "        vertical-align: middle;\n",
       "    }\n",
       "\n",
       "    .dataframe tbody tr th {\n",
       "        vertical-align: top;\n",
       "    }\n",
       "\n",
       "    .dataframe thead th {\n",
       "        text-align: right;\n",
       "    }\n",
       "</style>\n",
       "<table border=\"1\" class=\"dataframe\">\n",
       "  <thead>\n",
       "    <tr style=\"text-align: right;\">\n",
       "      <th></th>\n",
       "      <th>DateTime</th>\n",
       "      <th>Wädenswil (20cm)</th>\n",
       "      <th>Wädenswil (40cm)</th>\n",
       "      <th>Wädenswil (70cm)</th>\n",
       "    </tr>\n",
       "  </thead>\n",
       "  <tbody>\n",
       "    <tr>\n",
       "      <th>0</th>\n",
       "      <td>2012-01-01 00:00:00</td>\n",
       "      <td>0.50</td>\n",
       "      <td>0.60</td>\n",
       "      <td>1.000</td>\n",
       "    </tr>\n",
       "    <tr>\n",
       "      <th>1</th>\n",
       "      <td>2012-01-01 01:00:00</td>\n",
       "      <td>0.60</td>\n",
       "      <td>0.70</td>\n",
       "      <td>1.000</td>\n",
       "    </tr>\n",
       "    <tr>\n",
       "      <th>2</th>\n",
       "      <td>2012-01-01 02:00:00</td>\n",
       "      <td>0.70</td>\n",
       "      <td>0.80</td>\n",
       "      <td>1.200</td>\n",
       "    </tr>\n",
       "    <tr>\n",
       "      <th>3</th>\n",
       "      <td>2012-01-01 03:00:00</td>\n",
       "      <td>0.80</td>\n",
       "      <td>0.80</td>\n",
       "      <td>1.200</td>\n",
       "    </tr>\n",
       "    <tr>\n",
       "      <th>4</th>\n",
       "      <td>2012-01-01 04:00:00</td>\n",
       "      <td>1.00</td>\n",
       "      <td>0.90</td>\n",
       "      <td>1.300</td>\n",
       "    </tr>\n",
       "    <tr>\n",
       "      <th>...</th>\n",
       "      <td>...</td>\n",
       "      <td>...</td>\n",
       "      <td>...</td>\n",
       "      <td>...</td>\n",
       "    </tr>\n",
       "    <tr>\n",
       "      <th>7903</th>\n",
       "      <td>2021-12-30 20:00:00</td>\n",
       "      <td>2.37</td>\n",
       "      <td>2.55</td>\n",
       "      <td>5.505</td>\n",
       "    </tr>\n",
       "    <tr>\n",
       "      <th>7904</th>\n",
       "      <td>2021-12-30 21:00:00</td>\n",
       "      <td>2.40</td>\n",
       "      <td>2.58</td>\n",
       "      <td>5.525</td>\n",
       "    </tr>\n",
       "    <tr>\n",
       "      <th>7905</th>\n",
       "      <td>2021-12-30 22:00:00</td>\n",
       "      <td>2.44</td>\n",
       "      <td>2.61</td>\n",
       "      <td>5.535</td>\n",
       "    </tr>\n",
       "    <tr>\n",
       "      <th>7906</th>\n",
       "      <td>2021-12-30 23:00:00</td>\n",
       "      <td>2.50</td>\n",
       "      <td>2.64</td>\n",
       "      <td>5.560</td>\n",
       "    </tr>\n",
       "    <tr>\n",
       "      <th>7907</th>\n",
       "      <td>2021-12-31 00:00:00</td>\n",
       "      <td>2.56</td>\n",
       "      <td>2.67</td>\n",
       "      <td>5.595</td>\n",
       "    </tr>\n",
       "  </tbody>\n",
       "</table>\n",
       "<p>73849 rows × 4 columns</p>\n",
       "</div>"
      ],
      "text/plain": [
       "                 DateTime  Wädenswil (20cm)  Wädenswil (40cm)  \\\n",
       "0     2012-01-01 00:00:00              0.50              0.60   \n",
       "1     2012-01-01 01:00:00              0.60              0.70   \n",
       "2     2012-01-01 02:00:00              0.70              0.80   \n",
       "3     2012-01-01 03:00:00              0.80              0.80   \n",
       "4     2012-01-01 04:00:00              1.00              0.90   \n",
       "...                   ...               ...               ...   \n",
       "7903  2021-12-30 20:00:00              2.37              2.55   \n",
       "7904  2021-12-30 21:00:00              2.40              2.58   \n",
       "7905  2021-12-30 22:00:00              2.44              2.61   \n",
       "7906  2021-12-30 23:00:00              2.50              2.64   \n",
       "7907  2021-12-31 00:00:00              2.56              2.67   \n",
       "\n",
       "      Wädenswil (70cm)  \n",
       "0                1.000  \n",
       "1                1.000  \n",
       "2                1.200  \n",
       "3                1.200  \n",
       "4                1.300  \n",
       "...                ...  \n",
       "7903             5.505  \n",
       "7904             5.525  \n",
       "7905             5.535  \n",
       "7906             5.560  \n",
       "7907             5.595  \n",
       "\n",
       "[73849 rows x 4 columns]"
      ]
     },
     "execution_count": 26,
     "metadata": {},
     "output_type": "execute_result"
    }
   ],
   "source": [
    "saugspannung"
   ]
  },
  {
   "cell_type": "code",
   "execution_count": null,
   "metadata": {},
   "outputs": [],
   "source": []
  }
 ],
 "metadata": {
  "kernelspec": {
   "display_name": "Python 3.10.7 64-bit",
   "language": "python",
   "name": "python3"
  },
  "language_info": {
   "codemirror_mode": {
    "name": "ipython",
    "version": 3
   },
   "file_extension": ".py",
   "mimetype": "text/x-python",
   "name": "python",
   "nbconvert_exporter": "python",
   "pygments_lexer": "ipython3",
   "version": "3.10.7"
  },
  "orig_nbformat": 4,
  "vscode": {
   "interpreter": {
    "hash": "e7246493e8e053d12de9fef8c1b7921da243343686ec644d29fa49dad6994531"
   }
  }
 },
 "nbformat": 4,
 "nbformat_minor": 2
}
