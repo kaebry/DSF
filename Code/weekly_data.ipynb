{
 "cells": [
  {
   "cell_type": "code",
   "execution_count": 1,
   "metadata": {},
   "outputs": [],
   "source": [
    "import pandas as pd\n",
    "\n",
    "df = pd.read_csv(\"../Data/daily_data.csv\")"
   ]
  },
  {
   "cell_type": "code",
   "execution_count": 3,
   "metadata": {},
   "outputs": [
    {
     "name": "stdout",
     "output_type": "stream",
     "text": [
      "<class 'pandas.core.frame.DataFrame'>\n",
      "RangeIndex: 2888 entries, 0 to 2887\n",
      "Data columns (total 13 columns):\n",
      " #   Column                   Non-Null Count  Dtype  \n",
      "---  ------                   --------------  -----  \n",
      " 0   datetime                 2888 non-null   object \n",
      " 1   suction_tension (20cm)   2631 non-null   float64\n",
      " 2   suction_tension (40cm)   2631 non-null   float64\n",
      " 3   suction_tension (70cm)   2631 non-null   float64\n",
      " 4   water_temperature        2631 non-null   float64\n",
      " 5   barometric_pressure_qfe  2631 non-null   float64\n",
      " 6   dew_point                2631 non-null   float64\n",
      " 7   water_level              2631 non-null   float64\n",
      " 8   inflow_linth (m3/s)      2631 non-null   float64\n",
      " 9   outflow_limmat (m3/s)    2631 non-null   float64\n",
      " 10  precipitation (mm)       2888 non-null   float64\n",
      " 11  change_rate              2887 non-null   float64\n",
      " 12  Evapotranspiration (mm)  0 non-null      float64\n",
      "dtypes: float64(12), object(1)\n",
      "memory usage: 293.4+ KB\n"
     ]
    }
   ],
   "source": [
    "df.info()"
   ]
  },
  {
   "cell_type": "code",
   "execution_count": 4,
   "metadata": {},
   "outputs": [],
   "source": [
    "# import pytz package for handling timezones\n",
    "import pytz\n",
    "# convert DateTime column into datetime format\n",
    "df[\"datetime\"] = pd.to_datetime(df['datetime'], utc=True)\n",
    "# function that converts datetime column into CET timezone and accounts for Daylight saving\n",
    "def add_timezone(df):\n",
    "    timeZone = pytz.timezone(\"CET\")\n",
    "    df['datetime'] = df['datetime'].dt.tz_convert(timeZone)\n",
    "    return df\n",
    "\n",
    "add_timezone(df)\n",
    "\n",
    "# set DateTime as index\n",
    "df.set_index(\"datetime\", inplace=True)"
   ]
  },
  {
   "cell_type": "code",
   "execution_count": 8,
   "metadata": {},
   "outputs": [
    {
     "name": "stdout",
     "output_type": "stream",
     "text": [
      "<class 'pandas.core.frame.DataFrame'>\n",
      "DatetimeIndex: 2888 entries, 2012-01-01 00:00:00+01:00 to 2019-11-27 00:00:00+01:00\n",
      "Data columns (total 12 columns):\n",
      " #   Column                   Non-Null Count  Dtype  \n",
      "---  ------                   --------------  -----  \n",
      " 0   suction_tension (20cm)   2631 non-null   float64\n",
      " 1   suction_tension (40cm)   2631 non-null   float64\n",
      " 2   suction_tension (70cm)   2631 non-null   float64\n",
      " 3   water_temperature        2631 non-null   float64\n",
      " 4   barometric_pressure_qfe  2631 non-null   float64\n",
      " 5   dew_point                2631 non-null   float64\n",
      " 6   water_level              2631 non-null   float64\n",
      " 7   inflow_linth (m3/s)      2631 non-null   float64\n",
      " 8   outflow_limmat (m3/s)    2631 non-null   float64\n",
      " 9   precipitation (mm)       2888 non-null   float64\n",
      " 10  change_rate              2887 non-null   float64\n",
      " 11  Evapotranspiration (mm)  0 non-null      float64\n",
      "dtypes: float64(12)\n",
      "memory usage: 293.3 KB\n"
     ]
    }
   ],
   "source": [
    "df.info()"
   ]
  },
  {
   "cell_type": "code",
   "execution_count": 9,
   "metadata": {},
   "outputs": [],
   "source": [
    "# resampling dataframe to weekly data by subsetting original dataframe into dataframes where we have to sum the daily (dfDS) \n",
    "# and dataframes where we have to take the mean of hourly data\n",
    "dfWS = df[[\"precipitation (mm)\", \"Evapotranspiration (mm)\"]].resample(\"W\").sum()\n",
    "\n",
    "dfWM = df[['suction_tension (20cm)', 'suction_tension (40cm)',\n",
    "       'suction_tension (70cm)', 'water_temperature',\n",
    "       'barometric_pressure_qfe', 'dew_point',\n",
    "       'water_level', \"inflow_linth (m3/s)\", \"outflow_limmat (m3/s)\"]].resample(\"W\").mean()"
   ]
  },
  {
   "cell_type": "code",
   "execution_count": 13,
   "metadata": {},
   "outputs": [
    {
     "name": "stdout",
     "output_type": "stream",
     "text": [
      "<class 'pandas.core.frame.DataFrame'>\n",
      "DatetimeIndex: 414 entries, 2012-01-01 00:00:00+01:00 to 2019-12-01 00:00:00+01:00\n",
      "Data columns (total 12 columns):\n",
      " #   Column                   Non-Null Count  Dtype  \n",
      "---  ------                   --------------  -----  \n",
      " 0   suction_tension (20cm)   385 non-null    float64\n",
      " 1   suction_tension (40cm)   385 non-null    float64\n",
      " 2   suction_tension (70cm)   385 non-null    float64\n",
      " 3   water_temperature        385 non-null    float64\n",
      " 4   barometric_pressure_qfe  385 non-null    float64\n",
      " 5   dew_point                385 non-null    float64\n",
      " 6   water_level              385 non-null    float64\n",
      " 7   inflow_linth (m3/s)      385 non-null    float64\n",
      " 8   outflow_limmat (m3/s)    385 non-null    float64\n",
      " 9   precipitation (mm)       414 non-null    float64\n",
      " 10  Evapotranspiration (mm)  414 non-null    float64\n",
      " 11  change_rate              413 non-null    float64\n",
      "dtypes: float64(12)\n",
      "memory usage: 42.0 KB\n"
     ]
    }
   ],
   "source": [
    "# merge the two datasets again \n",
    "dfW = pd.merge(dfWM, dfWS, on=dfWM.index)\n",
    "# set datetime as index\n",
    "dfW.set_index(\"key_0\", inplace=True)\n",
    "# change index name\n",
    "dfW.index.names = ['datetime']\n",
    "# create variable for change rate of water level since we didn´t want to use the one with hourly data and convert it to daily data\n",
    "dfW[\"change_rate\"] = dfW[\"water_level\"].pct_change()\n",
    "dfW.info()"
   ]
  },
  {
   "cell_type": "code",
   "execution_count": null,
   "metadata": {},
   "outputs": [],
   "source": []
  }
 ],
 "metadata": {
  "kernelspec": {
   "display_name": "Python 3.10.7 64-bit",
   "language": "python",
   "name": "python3"
  },
  "language_info": {
   "codemirror_mode": {
    "name": "ipython",
    "version": 3
   },
   "file_extension": ".py",
   "mimetype": "text/x-python",
   "name": "python",
   "nbconvert_exporter": "python",
   "pygments_lexer": "ipython3",
   "version": "3.10.7"
  },
  "orig_nbformat": 4,
  "vscode": {
   "interpreter": {
    "hash": "e7246493e8e053d12de9fef8c1b7921da243343686ec644d29fa49dad6994531"
   }
  }
 },
 "nbformat": 4,
 "nbformat_minor": 2
}
