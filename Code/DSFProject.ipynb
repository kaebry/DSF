{
  "cells": [
    {
      "cell_type": "code",
      "execution_count": 1,
      "metadata": {
        "id": "b3u6wn7yOakj"
      },
      "outputs": [],
      "source": [
        "import pandas as pd\n",
        "import numpy as np"
      ]
    },
    {
      "cell_type": "code",
      "execution_count": 49,
      "metadata": {
        "id": "yBhNdkLFT9SX"
      },
      "outputs": [],
      "source": [
        "# read dataset \n",
        "df = pd.read_csv(\"../Data/merged_data.csv\")\n",
        "RA = pd.read_csv(\"https://raw.githubusercontent.com/kaebry/DSF/main/Data/extrater_radiation.csv\")\n"
      ]
    },
    {
      "cell_type": "code",
      "execution_count": 50,
      "metadata": {
        "id": "S-dDHvFfLNZK"
      },
      "outputs": [],
      "source": [
        "# select all observation until the end of 2019\n",
        "df = df.loc[df[\"datetime\"]<\"2019-12-31 23:00:00+01:00\"]\n",
        "df.drop(columns=[\"wind_direction\", \"wind_gust_max_10min\", \"wind_force_avg_10min\", \"windchill\", \"Pegel Zurichsee\", \"Pegel Obersee\", \"Pegel Zurichsee\", \"Pegel Linth\", \"Pegel Limmat\", \"Wasser_temp Linth\"], inplace=True)\n",
        "\n",
        "df.rename(columns={\"Wädenswil (20cm)\": \"suction_tension (20cm)\", \"Wädenswil (40cm)\": \"suction_tension (40cm)\", \"Wädenswil (70cm)\": \"suction_tension (70cm)\",\n",
        " \"wind_speed_avg_10min\": \"wind_speed (m/s)\", \"precipitation\": \"precipitation (mm)\",\"Abfluss Linth\": \"inflow_linth (m3/s)\",\n",
        "                   \"Abfluss Limmat\": \"outflow_limmat (m3/s)\"}, inplace=True)\n"
      ]
    },
    {
      "cell_type": "code",
      "execution_count": 51,
      "metadata": {},
      "outputs": [
        {
          "name": "stdout",
          "output_type": "stream",
          "text": [
            "<class 'pandas.core.frame.DataFrame'>\n",
            "Int64Index: 60754 entries, 0 to 60753\n",
            "Data columns (total 16 columns):\n",
            " #   Column                   Non-Null Count  Dtype  \n",
            "---  ------                   --------------  -----  \n",
            " 0   datetime                 60754 non-null  object \n",
            " 1   suction_tension (20cm)   60666 non-null  float64\n",
            " 2   suction_tension (40cm)   60675 non-null  float64\n",
            " 3   suction_tension (70cm)   60673 non-null  float64\n",
            " 4   air_temperature          60619 non-null  float64\n",
            " 5   water_temperature        60619 non-null  float64\n",
            " 6   wind_speed (m/s)         60619 non-null  float64\n",
            " 7   barometric_pressure_qfe  60619 non-null  float64\n",
            " 8   dew_point                60619 non-null  float64\n",
            " 9   humidity                 60619 non-null  float64\n",
            " 10  water_level              60619 non-null  float64\n",
            " 11  precipitation (mm)       60754 non-null  float64\n",
            " 12  global_radiation         60754 non-null  float64\n",
            " 13  change_rate              60754 non-null  float64\n",
            " 14  inflow_linth (m3/s)      60753 non-null  float64\n",
            " 15  outflow_limmat (m3/s)    60752 non-null  float64\n",
            "dtypes: float64(15), object(1)\n",
            "memory usage: 7.9+ MB\n"
          ]
        }
      ],
      "source": [
        "df.info()"
      ]
    },
    {
      "cell_type": "code",
      "execution_count": 52,
      "metadata": {},
      "outputs": [],
      "source": [
        "\n",
        "# impute the missing values of the dataset using spline interpolate imputation. We are taking the mean of the two values before and after the \n",
        "# observation with the missing value to get the best possible approximation. The interpolate imputation is the best method to impute \n",
        "# and we chose the spline method because that way we can smooth the estimations since we don´t have linear data\n",
        "# source: https://www.section.io/engineering-education/missing-values-in-time-series/ \n",
        "df[[\"suction_tension (20cm)\", \"suction_tension (40cm)\", \"suction_tension (70cm)\", \"air_temperature\", \"water_temperature\", \"wind_speed (m/s)\", \n",
        "\"barometric_pressure_qfe\", \"dew_point\", \"humidity\",\"water_level\", \"inflow_linth (m3/s)\",\"outflow_limmat (m3/s)\"]]= df[[\"suction_tension (20cm)\", \n",
        "\"suction_tension (40cm)\", \"suction_tension (70cm)\", \"air_temperature\", \"water_temperature\", \"wind_speed (m/s)\", \"barometric_pressure_qfe\", \n",
        "\"dew_point\", \"humidity\",\"water_level\", \"inflow_linth (m3/s)\",\"outflow_limmat (m3/s)\"]].interpolate(option='spline')\n"
      ]
    },
    {
      "cell_type": "code",
      "execution_count": 53,
      "metadata": {},
      "outputs": [],
      "source": [
        "# update the change rate variable after imputing the water level variable\n",
        "df[\"change_rate\"] = df[\"water_level\"].pct_change()"
      ]
    },
    {
      "cell_type": "code",
      "execution_count": 54,
      "metadata": {},
      "outputs": [
        {
          "name": "stdout",
          "output_type": "stream",
          "text": [
            "<class 'pandas.core.frame.DataFrame'>\n",
            "Int64Index: 60754 entries, 0 to 60753\n",
            "Data columns (total 16 columns):\n",
            " #   Column                   Non-Null Count  Dtype  \n",
            "---  ------                   --------------  -----  \n",
            " 0   datetime                 60754 non-null  object \n",
            " 1   suction_tension (20cm)   60754 non-null  float64\n",
            " 2   suction_tension (40cm)   60754 non-null  float64\n",
            " 3   suction_tension (70cm)   60754 non-null  float64\n",
            " 4   air_temperature          60754 non-null  float64\n",
            " 5   water_temperature        60754 non-null  float64\n",
            " 6   wind_speed (m/s)         60754 non-null  float64\n",
            " 7   barometric_pressure_qfe  60754 non-null  float64\n",
            " 8   dew_point                60754 non-null  float64\n",
            " 9   humidity                 60754 non-null  float64\n",
            " 10  water_level              60754 non-null  float64\n",
            " 11  precipitation (mm)       60754 non-null  float64\n",
            " 12  global_radiation         60754 non-null  float64\n",
            " 13  inflow_linth (m3/s)      60754 non-null  float64\n",
            " 14  outflow_limmat (m3/s)    60754 non-null  float64\n",
            " 15  change_rate              60753 non-null  float64\n",
            "dtypes: float64(15), object(1)\n",
            "memory usage: 7.9+ MB\n"
          ]
        }
      ],
      "source": [
        "df.info()"
      ]
    },
    {
      "cell_type": "code",
      "execution_count": 55,
      "metadata": {},
      "outputs": [
        {
          "data": {
            "text/plain": [
              "<AxesSubplot: >"
            ]
          },
          "execution_count": 55,
          "metadata": {},
          "output_type": "execute_result"
        },
        {
          "data": {
            "image/png": "[encoded data removed]",
            "text/plain": [
              "<Figure size 1500x700 with 1 Axes>"
            ]
          },
          "metadata": {},
          "output_type": "display_data"
        }
      ],
      "source": [
        "df[\"change_rate\"].plot()"
      ]
    },
    {
      "cell_type": "code",
      "execution_count": 56,
      "metadata": {},
      "outputs": [
        {
          "data": {
            "text/html": [
              "<div>\n",
              "<style scoped>\n",
              "    .dataframe tbody tr th:only-of-type {\n",
              "        vertical-align: middle;\n",
              "    }\n",
              "\n",
              "    .dataframe tbody tr th {\n",
              "        vertical-align: top;\n",
              "    }\n",
              "\n",
              "    .dataframe thead th {\n",
              "        text-align: right;\n",
              "    }\n",
              "</style>\n",
              "<table border=\"1\" class=\"dataframe\">\n",
              "  <thead>\n",
              "    <tr style=\"text-align: right;\">\n",
              "      <th></th>\n",
              "      <th>datetime</th>\n",
              "      <th>suction_tension (20cm)</th>\n",
              "      <th>suction_tension (40cm)</th>\n",
              "      <th>suction_tension (70cm)</th>\n",
              "      <th>air_temperature</th>\n",
              "      <th>water_temperature</th>\n",
              "      <th>wind_speed (m/s)</th>\n",
              "      <th>barometric_pressure_qfe</th>\n",
              "      <th>dew_point</th>\n",
              "      <th>humidity</th>\n",
              "      <th>water_level</th>\n",
              "      <th>precipitation (mm)</th>\n",
              "      <th>global_radiation</th>\n",
              "      <th>inflow_linth (m3/s)</th>\n",
              "      <th>outflow_limmat (m3/s)</th>\n",
              "      <th>change_rate</th>\n",
              "    </tr>\n",
              "  </thead>\n",
              "  <tbody>\n",
              "    <tr>\n",
              "      <th>0</th>\n",
              "      <td>2012-01-01 01:00:00+01:00</td>\n",
              "      <td>0.500</td>\n",
              "      <td>0.600</td>\n",
              "      <td>1.000</td>\n",
              "      <td>7.516667</td>\n",
              "      <td>5.900000</td>\n",
              "      <td>2.516667</td>\n",
              "      <td>972.333333</td>\n",
              "      <td>6.833333</td>\n",
              "      <td>93.833333</td>\n",
              "      <td>405.893333</td>\n",
              "      <td>0.1</td>\n",
              "      <td>0.0</td>\n",
              "      <td>29.328</td>\n",
              "      <td>134.098</td>\n",
              "      <td>NaN</td>\n",
              "    </tr>\n",
              "    <tr>\n",
              "      <th>1</th>\n",
              "      <td>2012-01-01 02:00:00+01:00</td>\n",
              "      <td>0.600</td>\n",
              "      <td>0.700</td>\n",
              "      <td>1.000</td>\n",
              "      <td>7.333333</td>\n",
              "      <td>5.900000</td>\n",
              "      <td>3.266667</td>\n",
              "      <td>972.550000</td>\n",
              "      <td>6.400000</td>\n",
              "      <td>94.333333</td>\n",
              "      <td>405.900000</td>\n",
              "      <td>0.0</td>\n",
              "      <td>1.0</td>\n",
              "      <td>29.543</td>\n",
              "      <td>143.515</td>\n",
              "      <td>0.000016</td>\n",
              "    </tr>\n",
              "    <tr>\n",
              "      <th>2</th>\n",
              "      <td>2012-01-01 03:00:00+01:00</td>\n",
              "      <td>0.700</td>\n",
              "      <td>0.800</td>\n",
              "      <td>1.200</td>\n",
              "      <td>9.116667</td>\n",
              "      <td>5.900000</td>\n",
              "      <td>2.650000</td>\n",
              "      <td>972.616667</td>\n",
              "      <td>7.250000</td>\n",
              "      <td>88.166667</td>\n",
              "      <td>405.901667</td>\n",
              "      <td>0.0</td>\n",
              "      <td>9.0</td>\n",
              "      <td>29.741</td>\n",
              "      <td>158.646</td>\n",
              "      <td>0.000004</td>\n",
              "    </tr>\n",
              "    <tr>\n",
              "      <th>3</th>\n",
              "      <td>2012-01-01 04:00:00+01:00</td>\n",
              "      <td>0.800</td>\n",
              "      <td>0.800</td>\n",
              "      <td>1.200</td>\n",
              "      <td>9.716667</td>\n",
              "      <td>5.900000</td>\n",
              "      <td>2.900000</td>\n",
              "      <td>972.183333</td>\n",
              "      <td>7.483333</td>\n",
              "      <td>86.000000</td>\n",
              "      <td>405.908333</td>\n",
              "      <td>0.0</td>\n",
              "      <td>8.0</td>\n",
              "      <td>30.058</td>\n",
              "      <td>165.654</td>\n",
              "      <td>0.000016</td>\n",
              "    </tr>\n",
              "    <tr>\n",
              "      <th>4</th>\n",
              "      <td>2012-01-01 05:00:00+01:00</td>\n",
              "      <td>1.000</td>\n",
              "      <td>0.900</td>\n",
              "      <td>1.300</td>\n",
              "      <td>9.966667</td>\n",
              "      <td>5.900000</td>\n",
              "      <td>3.366667</td>\n",
              "      <td>972.216667</td>\n",
              "      <td>7.366667</td>\n",
              "      <td>83.833333</td>\n",
              "      <td>405.910000</td>\n",
              "      <td>0.0</td>\n",
              "      <td>2.0</td>\n",
              "      <td>30.277</td>\n",
              "      <td>163.086</td>\n",
              "      <td>0.000004</td>\n",
              "    </tr>\n",
              "    <tr>\n",
              "      <th>...</th>\n",
              "      <td>...</td>\n",
              "      <td>...</td>\n",
              "      <td>...</td>\n",
              "      <td>...</td>\n",
              "      <td>...</td>\n",
              "      <td>...</td>\n",
              "      <td>...</td>\n",
              "      <td>...</td>\n",
              "      <td>...</td>\n",
              "      <td>...</td>\n",
              "      <td>...</td>\n",
              "      <td>...</td>\n",
              "      <td>...</td>\n",
              "      <td>...</td>\n",
              "      <td>...</td>\n",
              "      <td>...</td>\n",
              "    </tr>\n",
              "    <tr>\n",
              "      <th>60749</th>\n",
              "      <td>2019-11-27 01:00:00+01:00</td>\n",
              "      <td>4.780</td>\n",
              "      <td>3.565</td>\n",
              "      <td>3.720</td>\n",
              "      <td>5.800000</td>\n",
              "      <td>10.166667</td>\n",
              "      <td>2.700000</td>\n",
              "      <td>953.483333</td>\n",
              "      <td>5.683333</td>\n",
              "      <td>99.166667</td>\n",
              "      <td>405.950000</td>\n",
              "      <td>0.0</td>\n",
              "      <td>0.0</td>\n",
              "      <td>41.555</td>\n",
              "      <td>73.187</td>\n",
              "      <td>0.000000</td>\n",
              "    </tr>\n",
              "    <tr>\n",
              "      <th>60750</th>\n",
              "      <td>2019-11-27 02:00:00+01:00</td>\n",
              "      <td>3.405</td>\n",
              "      <td>2.760</td>\n",
              "      <td>4.530</td>\n",
              "      <td>5.850000</td>\n",
              "      <td>10.100000</td>\n",
              "      <td>1.683333</td>\n",
              "      <td>953.100000</td>\n",
              "      <td>5.816667</td>\n",
              "      <td>100.000000</td>\n",
              "      <td>405.946667</td>\n",
              "      <td>0.0</td>\n",
              "      <td>0.0</td>\n",
              "      <td>41.411</td>\n",
              "      <td>73.130</td>\n",
              "      <td>-0.000008</td>\n",
              "    </tr>\n",
              "    <tr>\n",
              "      <th>60751</th>\n",
              "      <td>2019-11-27 03:00:00+01:00</td>\n",
              "      <td>4.730</td>\n",
              "      <td>3.540</td>\n",
              "      <td>3.695</td>\n",
              "      <td>6.116667</td>\n",
              "      <td>10.183333</td>\n",
              "      <td>0.900000</td>\n",
              "      <td>952.466667</td>\n",
              "      <td>6.050000</td>\n",
              "      <td>99.000000</td>\n",
              "      <td>405.953333</td>\n",
              "      <td>0.0</td>\n",
              "      <td>0.0</td>\n",
              "      <td>41.214</td>\n",
              "      <td>73.402</td>\n",
              "      <td>0.000016</td>\n",
              "    </tr>\n",
              "    <tr>\n",
              "      <th>60752</th>\n",
              "      <td>2019-11-27 04:00:00+01:00</td>\n",
              "      <td>4.810</td>\n",
              "      <td>3.585</td>\n",
              "      <td>3.635</td>\n",
              "      <td>6.333333</td>\n",
              "      <td>10.150000</td>\n",
              "      <td>1.133333</td>\n",
              "      <td>951.600000</td>\n",
              "      <td>6.233333</td>\n",
              "      <td>99.333333</td>\n",
              "      <td>405.948333</td>\n",
              "      <td>0.0</td>\n",
              "      <td>0.0</td>\n",
              "      <td>40.911</td>\n",
              "      <td>73.292</td>\n",
              "      <td>-0.000012</td>\n",
              "    </tr>\n",
              "    <tr>\n",
              "      <th>60753</th>\n",
              "      <td>2019-11-27 05:00:00+01:00</td>\n",
              "      <td>4.770</td>\n",
              "      <td>3.565</td>\n",
              "      <td>3.580</td>\n",
              "      <td>6.500000</td>\n",
              "      <td>10.100000</td>\n",
              "      <td>1.800000</td>\n",
              "      <td>952.433333</td>\n",
              "      <td>6.350000</td>\n",
              "      <td>99.000000</td>\n",
              "      <td>405.950000</td>\n",
              "      <td>0.0</td>\n",
              "      <td>0.0</td>\n",
              "      <td>40.732</td>\n",
              "      <td>73.503</td>\n",
              "      <td>0.000004</td>\n",
              "    </tr>\n",
              "  </tbody>\n",
              "</table>\n",
              "<p>60754 rows × 16 columns</p>\n",
              "</div>"
            ],
            "text/plain": [
              "                        datetime  suction_tension (20cm)  \\\n",
              "0      2012-01-01 01:00:00+01:00                   0.500   \n",
              "1      2012-01-01 02:00:00+01:00                   0.600   \n",
              "2      2012-01-01 03:00:00+01:00                   0.700   \n",
              "3      2012-01-01 04:00:00+01:00                   0.800   \n",
              "4      2012-01-01 05:00:00+01:00                   1.000   \n",
              "...                          ...                     ...   \n",
              "60749  2019-11-27 01:00:00+01:00                   4.780   \n",
              "60750  2019-11-27 02:00:00+01:00                   3.405   \n",
              "60751  2019-11-27 03:00:00+01:00                   4.730   \n",
              "60752  2019-11-27 04:00:00+01:00                   4.810   \n",
              "60753  2019-11-27 05:00:00+01:00                   4.770   \n",
              "\n",
              "       suction_tension (40cm)  suction_tension (70cm)  air_temperature  \\\n",
              "0                       0.600                   1.000         7.516667   \n",
              "1                       0.700                   1.000         7.333333   \n",
              "2                       0.800                   1.200         9.116667   \n",
              "3                       0.800                   1.200         9.716667   \n",
              "4                       0.900                   1.300         9.966667   \n",
              "...                       ...                     ...              ...   \n",
              "60749                   3.565                   3.720         5.800000   \n",
              "60750                   2.760                   4.530         5.850000   \n",
              "60751                   3.540                   3.695         6.116667   \n",
              "60752                   3.585                   3.635         6.333333   \n",
              "60753                   3.565                   3.580         6.500000   \n",
              "\n",
              "       water_temperature  wind_speed (m/s)  barometric_pressure_qfe  \\\n",
              "0               5.900000          2.516667               972.333333   \n",
              "1               5.900000          3.266667               972.550000   \n",
              "2               5.900000          2.650000               972.616667   \n",
              "3               5.900000          2.900000               972.183333   \n",
              "4               5.900000          3.366667               972.216667   \n",
              "...                  ...               ...                      ...   \n",
              "60749          10.166667          2.700000               953.483333   \n",
              "60750          10.100000          1.683333               953.100000   \n",
              "60751          10.183333          0.900000               952.466667   \n",
              "60752          10.150000          1.133333               951.600000   \n",
              "60753          10.100000          1.800000               952.433333   \n",
              "\n",
              "       dew_point    humidity  water_level  precipitation (mm)  \\\n",
              "0       6.833333   93.833333   405.893333                 0.1   \n",
              "1       6.400000   94.333333   405.900000                 0.0   \n",
              "2       7.250000   88.166667   405.901667                 0.0   \n",
              "3       7.483333   86.000000   405.908333                 0.0   \n",
              "4       7.366667   83.833333   405.910000                 0.0   \n",
              "...          ...         ...          ...                 ...   \n",
              "60749   5.683333   99.166667   405.950000                 0.0   \n",
              "60750   5.816667  100.000000   405.946667                 0.0   \n",
              "60751   6.050000   99.000000   405.953333                 0.0   \n",
              "60752   6.233333   99.333333   405.948333                 0.0   \n",
              "60753   6.350000   99.000000   405.950000                 0.0   \n",
              "\n",
              "       global_radiation  inflow_linth (m3/s)  outflow_limmat (m3/s)  \\\n",
              "0                   0.0               29.328                134.098   \n",
              "1                   1.0               29.543                143.515   \n",
              "2                   9.0               29.741                158.646   \n",
              "3                   8.0               30.058                165.654   \n",
              "4                   2.0               30.277                163.086   \n",
              "...                 ...                  ...                    ...   \n",
              "60749               0.0               41.555                 73.187   \n",
              "60750               0.0               41.411                 73.130   \n",
              "60751               0.0               41.214                 73.402   \n",
              "60752               0.0               40.911                 73.292   \n",
              "60753               0.0               40.732                 73.503   \n",
              "\n",
              "       change_rate  \n",
              "0              NaN  \n",
              "1         0.000016  \n",
              "2         0.000004  \n",
              "3         0.000016  \n",
              "4         0.000004  \n",
              "...            ...  \n",
              "60749     0.000000  \n",
              "60750    -0.000008  \n",
              "60751     0.000016  \n",
              "60752    -0.000012  \n",
              "60753     0.000004  \n",
              "\n",
              "[60754 rows x 16 columns]"
            ]
          },
          "execution_count": 56,
          "metadata": {},
          "output_type": "execute_result"
        }
      ],
      "source": [
        "df"
      ]
    },
    {
      "cell_type": "code",
      "execution_count": 57,
      "metadata": {
        "id": "D1B0IxpZVBuP"
      },
      "outputs": [],
      "source": [
        "# rename column and merge the two dataframes\n",
        "RA.rename(columns={\"Irradiance (W/m2)\": \"extraterrestial_radiation\"}, inplace=True)\n",
        "df_RA = pd.merge(df, RA, how=\"inner\", on=\"datetime\")"
      ]
    },
    {
      "cell_type": "code",
      "execution_count": 58,
      "metadata": {
        "colab": {
          "base_uri": "https://localhost:8080/"
        },
        "id": "HlU_b9FwVejs",
        "outputId": "d120daa0-5423-42b7-a242-92cd6821f74f"
      },
      "outputs": [
        {
          "data": {
            "text/plain": [
              "array([False])"
            ]
          },
          "execution_count": 58,
          "metadata": {},
          "output_type": "execute_result"
        }
      ],
      "source": [
        "# check if there are any missing values after the merge\n",
        "df_RA[\"extraterrestial_radiation\"].isna().unique()"
      ]
    },
    {
      "cell_type": "code",
      "execution_count": 59,
      "metadata": {
        "colab": {
          "base_uri": "https://localhost:8080/"
        },
        "id": "0_5jbxa6WisX",
        "outputId": "eec39ad3-8f3b-47a9-cc5e-ee4b0a4cef80"
      },
      "outputs": [
        {
          "name": "stdout",
          "output_type": "stream",
          "text": [
            "<class 'pandas.core.frame.DataFrame'>\n",
            "Int64Index: 60754 entries, 0 to 60753\n",
            "Data columns (total 17 columns):\n",
            " #   Column                     Non-Null Count  Dtype  \n",
            "---  ------                     --------------  -----  \n",
            " 0   datetime                   60754 non-null  object \n",
            " 1   suction_tension (20cm)     60754 non-null  float64\n",
            " 2   suction_tension (40cm)     60754 non-null  float64\n",
            " 3   suction_tension (70cm)     60754 non-null  float64\n",
            " 4   air_temperature            60754 non-null  float64\n",
            " 5   water_temperature          60754 non-null  float64\n",
            " 6   wind_speed (m/s)           60754 non-null  float64\n",
            " 7   barometric_pressure_qfe    60754 non-null  float64\n",
            " 8   dew_point                  60754 non-null  float64\n",
            " 9   humidity                   60754 non-null  float64\n",
            " 10  water_level                60754 non-null  float64\n",
            " 11  precipitation (mm)         60754 non-null  float64\n",
            " 12  global_radiation           60754 non-null  float64\n",
            " 13  inflow_linth (m3/s)        60754 non-null  float64\n",
            " 14  outflow_limmat (m3/s)      60754 non-null  float64\n",
            " 15  change_rate                60753 non-null  float64\n",
            " 16  extraterrestial_radiation  60754 non-null  float64\n",
            "dtypes: float64(16), object(1)\n",
            "memory usage: 8.3+ MB\n"
          ]
        }
      ],
      "source": [
        "df_RA.info()"
      ]
    },
    {
      "cell_type": "code",
      "execution_count": 60,
      "metadata": {
        "id": "fLtpt0oDkpSM"
      },
      "outputs": [],
      "source": [
        "# this is the simplified version of the penman equation to compute evaporation based on global radiation (RS), air teperature (T), extraterrestial radiation (RA), \n",
        "# humidity (RH), and wind speed (U)\n",
        " \n",
        "def evaporation(RS,T,RA,RH,U, alpha=0.08, au=0.5):\n",
        "  Epen = (0.051*(1-alpha)*RS*np.sqrt(T+9.5))-(2.4*(RS/RA)**2)+(0.052*(T+20)*(1-(RH/100))*(au-0.38+0.54*U))\n",
        "  return Epen"
      ]
    },
    {
      "cell_type": "code",
      "execution_count": 61,
      "metadata": {
        "colab": {
          "base_uri": "https://localhost:8080/"
        },
        "id": "K2cbWj_q3lUE",
        "outputId": "f73696f6-0a4a-4163-c67c-79e4d3361c7a"
      },
      "outputs": [
        {
          "name": "stderr",
          "output_type": "stream",
          "text": [
            "c:\\Users\\lucal\\miniconda3\\envs\\dsf\\lib\\site-packages\\pandas\\core\\arraylike.py:402: RuntimeWarning: invalid value encountered in sqrt\n",
            "  result = getattr(ufunc, method)(*inputs, **kwargs)\n"
          ]
        }
      ],
      "source": [
        "# create new variable evaporation by applying the evaporation function\n",
        "df_RA[\"evaporation\"] = evaporation(df_RA[\"global_radiation\"], df_RA[\"air_temperature\"], df_RA[\"extraterrestial_radiation\"], df_RA[\"humidity\"], df_RA[\"wind_speed (m/s)\"])"
      ]
    },
    {
      "cell_type": "code",
      "execution_count": 69,
      "metadata": {},
      "outputs": [],
      "source": [
        "df_RA.set_index(\"datetime\", inplace=True)"
      ]
    },
    {
      "cell_type": "code",
      "execution_count": 73,
      "metadata": {},
      "outputs": [],
      "source": [
        "# For the missing values of the evaporation we are using the KNNImputer to fill in the missing values.\n",
        "# we use the KNN imputer because it fills in the value based of the mean values of observations with variable values most similar to the observation\n",
        "# with the missing value. \n",
        "# The NaNs occure for observations with a very low (ca. below -9 degrees Celsius) temperature because then the argument in the square root\n",
        "# turn negative. Because of this we often have missing values for many consecutive observations in a row and because we have all other values\n",
        "# for of one observation the KNN imputer makes more sense than interpolation \n",
        "\n",
        "# We are standardizing the values before we apply the KNN imputer and destandardize them afterwards again. That way we circumvent biases for the\n",
        "# imputed values\n",
        "# source: Htoon, K. S. (2020).  A Guide To KNN Imputation. retrieved from: \n",
        "# https://medium.com/@kyawsawhtoon/a-guide-to-knn-imputation-95e2dc496e\n",
        "\n",
        "# import KNN imputer\n",
        "from sklearn.impute import KNNImputer\n",
        "# import MinMaxScaler \n",
        "from sklearn.preprocessing import MinMaxScaler\n",
        "scaler = MinMaxScaler()\n",
        "# standardize data\n",
        "data_scaled = pd.DataFrame(scaler.fit_transform(df_RA), columns = df_RA.columns)\n",
        "\n",
        "imputer = KNNImputer()\n",
        "# impute missing values with KNN imputer and convert them to floats\n",
        "data_imputed = pd.DataFrame(imputer.fit_transform(data_scaled), columns=df_RA.columns, index = df_RA.index).astype(float)\n",
        "# de standardize the imputed dataframe to get original unit of measurement\n",
        "data_imputed = pd.DataFrame(scaler.inverse_transform(data_imputed), columns = df_RA.columns, index = df_RA.index)\n"
      ]
    },
    {
      "cell_type": "code",
      "execution_count": 76,
      "metadata": {},
      "outputs": [
        {
          "name": "stdout",
          "output_type": "stream",
          "text": [
            "<class 'pandas.core.frame.DataFrame'>\n",
            "Index: 60754 entries, 2012-01-01 01:00:00+01:00 to 2019-11-27 05:00:00+01:00\n",
            "Data columns (total 17 columns):\n",
            " #   Column                     Non-Null Count  Dtype  \n",
            "---  ------                     --------------  -----  \n",
            " 0   suction_tension (20cm)     60754 non-null  float64\n",
            " 1   suction_tension (40cm)     60754 non-null  float64\n",
            " 2   suction_tension (70cm)     60754 non-null  float64\n",
            " 3   air_temperature            60754 non-null  float64\n",
            " 4   water_temperature          60754 non-null  float64\n",
            " 5   wind_speed (m/s)           60754 non-null  float64\n",
            " 6   barometric_pressure_qfe    60754 non-null  float64\n",
            " 7   dew_point                  60754 non-null  float64\n",
            " 8   humidity                   60754 non-null  float64\n",
            " 9   water_level                60754 non-null  float64\n",
            " 10  precipitation (mm)         60754 non-null  float64\n",
            " 11  global_radiation           60754 non-null  float64\n",
            " 12  inflow_linth (m3/s)        60754 non-null  float64\n",
            " 13  outflow_limmat (m3/s)      60754 non-null  float64\n",
            " 14  change_rate                60754 non-null  float64\n",
            " 15  extraterrestial_radiation  60754 non-null  float64\n",
            " 16  evaporation                60754 non-null  float64\n",
            "dtypes: float64(17)\n",
            "memory usage: 8.3+ MB\n"
          ]
        }
      ],
      "source": [
        "data_imputed.info()"
      ]
    },
    {
      "cell_type": "code",
      "execution_count": 77,
      "metadata": {},
      "outputs": [],
      "source": [
        "# safe dataframe as csv\n",
        "data_imputed.to_csv(\"../data/data_all_variables.csv\", index=True)"
      ]
    },
    {
      "cell_type": "code",
      "execution_count": 80,
      "metadata": {
        "colab": {
          "base_uri": "https://localhost:8080/",
          "height": 329
        },
        "id": "FOaO2Kv-coC2",
        "outputId": "77a06796-dd62-408d-9cc5-2c79c637cf07"
      },
      "outputs": [],
      "source": [
        "# drop variables that are included in the evaporation\n",
        "df_reduced = data_imputed.drop(columns=[\"air_temperature\", \"wind_speed (m/s)\", \"global_radiation\", \"humidity\", \"extraterrestial_radiation\"])\n"
      ]
    },
    {
      "cell_type": "code",
      "execution_count": 83,
      "metadata": {
        "colab": {
          "base_uri": "https://localhost:8080/",
          "height": 679
        },
        "id": "jvbB420XqLa0",
        "outputId": "531f3e41-a7b2-4ad2-a790-1dff408d00b9"
      },
      "outputs": [],
      "source": [
        "# safe dataframe as csv\n",
        "df_reduced.to_csv(\"../data/data_reduced_variables.csv\", index=False)"
      ]
    },
    {
      "cell_type": "code",
      "execution_count": null,
      "metadata": {},
      "outputs": [],
      "source": []
    }
  ],
  "metadata": {
    "colab": {
      "provenance": []
    },
    "kernelspec": {
      "display_name": "Python 3.10.6 ('dsf')",
      "language": "python",
      "name": "python3"
    },
    "language_info": {
      "codemirror_mode": {
        "name": "ipython",
        "version": 3
      },
      "file_extension": ".py",
      "mimetype": "text/x-python",
      "name": "python",
      "nbconvert_exporter": "python",
      "pygments_lexer": "ipython3",
      "version": "3.10.6"
    },
    "vscode": {
      "interpreter": {
        "hash": "33dbeeb1e0acb46a7865d1331f999416a9ee3844dbf7752d63c1fb0c04927faa"
      }
    }
  },
  "nbformat": 4,
  "nbformat_minor": 0
}
