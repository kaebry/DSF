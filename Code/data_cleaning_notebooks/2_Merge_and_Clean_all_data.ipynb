{
  "cells": [
    {
      "cell_type": "code",
      "execution_count": 24,
      "metadata": {
        "id": "b3u6wn7yOakj"
      },
      "outputs": [],
      "source": [
        "import pandas as pd\n",
        "import numpy as np"
      ]
    },
    {
      "cell_type": "markdown",
      "metadata": {},
      "source": [
        "# Merge and Clean the Water, Soil, Radiation and Weather Data "
      ]
    },
    {
      "cell_type": "code",
      "execution_count": 25,
      "metadata": {},
      "outputs": [],
      "source": [
        "# read in files\n",
        "weather = pd.read_csv(\"../../Data/raw_data/mythenquai_agg.csv\")\n",
        "soil = pd.read_csv(\"../../Data/raw_data/saugspannung_agg.csv\")\n",
        "water = pd.read_csv(\"../../Data/raw_data/waterdata_agg.csv\")"
      ]
    },
    {
      "cell_type": "code",
      "execution_count": 26,
      "metadata": {},
      "outputs": [
        {
          "data": {
            "text/html": [
              "<div>\n",
              "<style scoped>\n",
              "    .dataframe tbody tr th:only-of-type {\n",
              "        vertical-align: middle;\n",
              "    }\n",
              "\n",
              "    .dataframe tbody tr th {\n",
              "        vertical-align: top;\n",
              "    }\n",
              "\n",
              "    .dataframe thead th {\n",
              "        text-align: right;\n",
              "    }\n",
              "</style>\n",
              "<table border=\"1\" class=\"dataframe\">\n",
              "  <thead>\n",
              "    <tr style=\"text-align: right;\">\n",
              "      <th></th>\n",
              "      <th>datetime</th>\n",
              "      <th>air_temperature</th>\n",
              "      <th>water_temperature</th>\n",
              "      <th>wind_gust_max_10min</th>\n",
              "      <th>wind_speed_avg_10min</th>\n",
              "      <th>wind_force_avg_10min</th>\n",
              "      <th>wind_direction</th>\n",
              "      <th>windchill</th>\n",
              "      <th>barometric_pressure_qfe</th>\n",
              "      <th>dew_point</th>\n",
              "      <th>...</th>\n",
              "      <th>Wädenswil (20cm)</th>\n",
              "      <th>Wädenswil (40cm)</th>\n",
              "      <th>Wädenswil (70cm)</th>\n",
              "      <th>Pegel Zurichsee</th>\n",
              "      <th>Pegel Obersee</th>\n",
              "      <th>Abfluss Linth</th>\n",
              "      <th>Pegel Linth</th>\n",
              "      <th>Wasser_temp Linth</th>\n",
              "      <th>Abfluss Limmat</th>\n",
              "      <th>Pegel Limmat</th>\n",
              "    </tr>\n",
              "  </thead>\n",
              "  <tbody>\n",
              "    <tr>\n",
              "      <th>0</th>\n",
              "      <td>2007-04-22 21:00:00+02:00</td>\n",
              "      <td>18.075000</td>\n",
              "      <td>15.200000</td>\n",
              "      <td>1.100000</td>\n",
              "      <td>0.450000</td>\n",
              "      <td>0.450000</td>\n",
              "      <td>226.500000</td>\n",
              "      <td>18.075000</td>\n",
              "      <td>973.675000</td>\n",
              "      <td>5.000000</td>\n",
              "      <td>...</td>\n",
              "      <td>NaN</td>\n",
              "      <td>NaN</td>\n",
              "      <td>NaN</td>\n",
              "      <td>405.914</td>\n",
              "      <td>NaN</td>\n",
              "      <td>50.832</td>\n",
              "      <td>418.692</td>\n",
              "      <td>11.51</td>\n",
              "      <td>69.654</td>\n",
              "      <td>400.143</td>\n",
              "    </tr>\n",
              "    <tr>\n",
              "      <th>1</th>\n",
              "      <td>2007-04-22 22:00:00+02:00</td>\n",
              "      <td>16.850000</td>\n",
              "      <td>15.333333</td>\n",
              "      <td>1.350000</td>\n",
              "      <td>0.916667</td>\n",
              "      <td>0.916667</td>\n",
              "      <td>159.000000</td>\n",
              "      <td>16.850000</td>\n",
              "      <td>974.083333</td>\n",
              "      <td>6.716667</td>\n",
              "      <td>...</td>\n",
              "      <td>NaN</td>\n",
              "      <td>NaN</td>\n",
              "      <td>NaN</td>\n",
              "      <td>405.914</td>\n",
              "      <td>NaN</td>\n",
              "      <td>50.826</td>\n",
              "      <td>418.692</td>\n",
              "      <td>11.52</td>\n",
              "      <td>69.603</td>\n",
              "      <td>400.142</td>\n",
              "    </tr>\n",
              "    <tr>\n",
              "      <th>2</th>\n",
              "      <td>2007-04-22 23:00:00+02:00</td>\n",
              "      <td>15.250000</td>\n",
              "      <td>15.216667</td>\n",
              "      <td>1.266667</td>\n",
              "      <td>0.633333</td>\n",
              "      <td>0.633333</td>\n",
              "      <td>171.166667</td>\n",
              "      <td>15.250000</td>\n",
              "      <td>974.533333</td>\n",
              "      <td>7.733333</td>\n",
              "      <td>...</td>\n",
              "      <td>NaN</td>\n",
              "      <td>NaN</td>\n",
              "      <td>NaN</td>\n",
              "      <td>405.914</td>\n",
              "      <td>NaN</td>\n",
              "      <td>50.854</td>\n",
              "      <td>418.693</td>\n",
              "      <td>11.54</td>\n",
              "      <td>69.620</td>\n",
              "      <td>400.142</td>\n",
              "    </tr>\n",
              "    <tr>\n",
              "      <th>3</th>\n",
              "      <td>2007-04-23 00:00:00+02:00</td>\n",
              "      <td>14.383333</td>\n",
              "      <td>15.233333</td>\n",
              "      <td>1.616667</td>\n",
              "      <td>1.100000</td>\n",
              "      <td>1.100000</td>\n",
              "      <td>174.000000</td>\n",
              "      <td>14.383333</td>\n",
              "      <td>975.066667</td>\n",
              "      <td>8.250000</td>\n",
              "      <td>...</td>\n",
              "      <td>NaN</td>\n",
              "      <td>NaN</td>\n",
              "      <td>NaN</td>\n",
              "      <td>405.914</td>\n",
              "      <td>NaN</td>\n",
              "      <td>50.891</td>\n",
              "      <td>418.694</td>\n",
              "      <td>11.55</td>\n",
              "      <td>69.705</td>\n",
              "      <td>400.143</td>\n",
              "    </tr>\n",
              "    <tr>\n",
              "      <th>4</th>\n",
              "      <td>2007-04-23 01:00:00+02:00</td>\n",
              "      <td>13.666667</td>\n",
              "      <td>15.183333</td>\n",
              "      <td>1.616667</td>\n",
              "      <td>1.183333</td>\n",
              "      <td>1.183333</td>\n",
              "      <td>165.000000</td>\n",
              "      <td>13.666667</td>\n",
              "      <td>975.316667</td>\n",
              "      <td>7.833333</td>\n",
              "      <td>...</td>\n",
              "      <td>NaN</td>\n",
              "      <td>NaN</td>\n",
              "      <td>NaN</td>\n",
              "      <td>405.914</td>\n",
              "      <td>NaN</td>\n",
              "      <td>50.861</td>\n",
              "      <td>418.693</td>\n",
              "      <td>11.51</td>\n",
              "      <td>69.773</td>\n",
              "      <td>400.144</td>\n",
              "    </tr>\n",
              "    <tr>\n",
              "      <th>...</th>\n",
              "      <td>...</td>\n",
              "      <td>...</td>\n",
              "      <td>...</td>\n",
              "      <td>...</td>\n",
              "      <td>...</td>\n",
              "      <td>...</td>\n",
              "      <td>...</td>\n",
              "      <td>...</td>\n",
              "      <td>...</td>\n",
              "      <td>...</td>\n",
              "      <td>...</td>\n",
              "      <td>...</td>\n",
              "      <td>...</td>\n",
              "      <td>...</td>\n",
              "      <td>...</td>\n",
              "      <td>...</td>\n",
              "      <td>...</td>\n",
              "      <td>...</td>\n",
              "      <td>...</td>\n",
              "      <td>...</td>\n",
              "      <td>...</td>\n",
              "    </tr>\n",
              "    <tr>\n",
              "      <th>128808</th>\n",
              "      <td>2021-12-31 20:00:00+01:00</td>\n",
              "      <td>7.400000</td>\n",
              "      <td>NaN</td>\n",
              "      <td>4.266667</td>\n",
              "      <td>3.383333</td>\n",
              "      <td>2.666667</td>\n",
              "      <td>153.333333</td>\n",
              "      <td>4.450000</td>\n",
              "      <td>1027.750000</td>\n",
              "      <td>6.200000</td>\n",
              "      <td>...</td>\n",
              "      <td>NaN</td>\n",
              "      <td>NaN</td>\n",
              "      <td>NaN</td>\n",
              "      <td>405.941</td>\n",
              "      <td>405.914</td>\n",
              "      <td>57.792</td>\n",
              "      <td>418.841</td>\n",
              "      <td>6.97</td>\n",
              "      <td>132.843</td>\n",
              "      <td>400.628</td>\n",
              "    </tr>\n",
              "    <tr>\n",
              "      <th>128809</th>\n",
              "      <td>2021-12-31 21:00:00+01:00</td>\n",
              "      <td>6.733333</td>\n",
              "      <td>NaN</td>\n",
              "      <td>2.883333</td>\n",
              "      <td>2.116667</td>\n",
              "      <td>2.000000</td>\n",
              "      <td>165.333333</td>\n",
              "      <td>5.633333</td>\n",
              "      <td>1027.916667</td>\n",
              "      <td>5.933333</td>\n",
              "      <td>...</td>\n",
              "      <td>NaN</td>\n",
              "      <td>NaN</td>\n",
              "      <td>NaN</td>\n",
              "      <td>405.942</td>\n",
              "      <td>405.911</td>\n",
              "      <td>58.003</td>\n",
              "      <td>418.845</td>\n",
              "      <td>6.96</td>\n",
              "      <td>132.320</td>\n",
              "      <td>400.624</td>\n",
              "    </tr>\n",
              "    <tr>\n",
              "      <th>128810</th>\n",
              "      <td>2021-12-31 22:00:00+01:00</td>\n",
              "      <td>6.666667</td>\n",
              "      <td>NaN</td>\n",
              "      <td>2.150000</td>\n",
              "      <td>1.283333</td>\n",
              "      <td>1.166667</td>\n",
              "      <td>134.166667</td>\n",
              "      <td>6.483333</td>\n",
              "      <td>1028.416667</td>\n",
              "      <td>5.866667</td>\n",
              "      <td>...</td>\n",
              "      <td>NaN</td>\n",
              "      <td>NaN</td>\n",
              "      <td>NaN</td>\n",
              "      <td>405.940</td>\n",
              "      <td>405.911</td>\n",
              "      <td>58.362</td>\n",
              "      <td>418.852</td>\n",
              "      <td>6.94</td>\n",
              "      <td>132.169</td>\n",
              "      <td>400.623</td>\n",
              "    </tr>\n",
              "    <tr>\n",
              "      <th>128811</th>\n",
              "      <td>2021-12-31 23:00:00+01:00</td>\n",
              "      <td>6.233333</td>\n",
              "      <td>NaN</td>\n",
              "      <td>1.616667</td>\n",
              "      <td>0.766667</td>\n",
              "      <td>0.833333</td>\n",
              "      <td>148.166667</td>\n",
              "      <td>6.216667</td>\n",
              "      <td>1028.983333</td>\n",
              "      <td>5.533333</td>\n",
              "      <td>...</td>\n",
              "      <td>NaN</td>\n",
              "      <td>NaN</td>\n",
              "      <td>NaN</td>\n",
              "      <td>405.939</td>\n",
              "      <td>405.909</td>\n",
              "      <td>58.543</td>\n",
              "      <td>418.855</td>\n",
              "      <td>6.94</td>\n",
              "      <td>131.393</td>\n",
              "      <td>400.618</td>\n",
              "    </tr>\n",
              "    <tr>\n",
              "      <th>128812</th>\n",
              "      <td>2022-01-01 00:00:00+01:00</td>\n",
              "      <td>5.900000</td>\n",
              "      <td>NaN</td>\n",
              "      <td>1.600000</td>\n",
              "      <td>1.100000</td>\n",
              "      <td>1.000000</td>\n",
              "      <td>145.000000</td>\n",
              "      <td>5.900000</td>\n",
              "      <td>1029.100000</td>\n",
              "      <td>5.300000</td>\n",
              "      <td>...</td>\n",
              "      <td>NaN</td>\n",
              "      <td>NaN</td>\n",
              "      <td>NaN</td>\n",
              "      <td>405.937</td>\n",
              "      <td>405.909</td>\n",
              "      <td>58.671</td>\n",
              "      <td>418.857</td>\n",
              "      <td>6.93</td>\n",
              "      <td>130.137</td>\n",
              "      <td>400.609</td>\n",
              "    </tr>\n",
              "  </tbody>\n",
              "</table>\n",
              "<p>128813 rows × 25 columns</p>\n",
              "</div>"
            ],
            "text/plain": [
              "                         datetime  air_temperature  water_temperature  \\\n",
              "0       2007-04-22 21:00:00+02:00        18.075000          15.200000   \n",
              "1       2007-04-22 22:00:00+02:00        16.850000          15.333333   \n",
              "2       2007-04-22 23:00:00+02:00        15.250000          15.216667   \n",
              "3       2007-04-23 00:00:00+02:00        14.383333          15.233333   \n",
              "4       2007-04-23 01:00:00+02:00        13.666667          15.183333   \n",
              "...                           ...              ...                ...   \n",
              "128808  2021-12-31 20:00:00+01:00         7.400000                NaN   \n",
              "128809  2021-12-31 21:00:00+01:00         6.733333                NaN   \n",
              "128810  2021-12-31 22:00:00+01:00         6.666667                NaN   \n",
              "128811  2021-12-31 23:00:00+01:00         6.233333                NaN   \n",
              "128812  2022-01-01 00:00:00+01:00         5.900000                NaN   \n",
              "\n",
              "        wind_gust_max_10min  wind_speed_avg_10min  wind_force_avg_10min  \\\n",
              "0                  1.100000              0.450000              0.450000   \n",
              "1                  1.350000              0.916667              0.916667   \n",
              "2                  1.266667              0.633333              0.633333   \n",
              "3                  1.616667              1.100000              1.100000   \n",
              "4                  1.616667              1.183333              1.183333   \n",
              "...                     ...                   ...                   ...   \n",
              "128808             4.266667              3.383333              2.666667   \n",
              "128809             2.883333              2.116667              2.000000   \n",
              "128810             2.150000              1.283333              1.166667   \n",
              "128811             1.616667              0.766667              0.833333   \n",
              "128812             1.600000              1.100000              1.000000   \n",
              "\n",
              "        wind_direction  windchill  barometric_pressure_qfe  dew_point  ...  \\\n",
              "0           226.500000  18.075000               973.675000   5.000000  ...   \n",
              "1           159.000000  16.850000               974.083333   6.716667  ...   \n",
              "2           171.166667  15.250000               974.533333   7.733333  ...   \n",
              "3           174.000000  14.383333               975.066667   8.250000  ...   \n",
              "4           165.000000  13.666667               975.316667   7.833333  ...   \n",
              "...                ...        ...                      ...        ...  ...   \n",
              "128808      153.333333   4.450000              1027.750000   6.200000  ...   \n",
              "128809      165.333333   5.633333              1027.916667   5.933333  ...   \n",
              "128810      134.166667   6.483333              1028.416667   5.866667  ...   \n",
              "128811      148.166667   6.216667              1028.983333   5.533333  ...   \n",
              "128812      145.000000   5.900000              1029.100000   5.300000  ...   \n",
              "\n",
              "        Wädenswil (20cm)  Wädenswil (40cm)  Wädenswil (70cm)  Pegel Zurichsee  \\\n",
              "0                    NaN               NaN               NaN          405.914   \n",
              "1                    NaN               NaN               NaN          405.914   \n",
              "2                    NaN               NaN               NaN          405.914   \n",
              "3                    NaN               NaN               NaN          405.914   \n",
              "4                    NaN               NaN               NaN          405.914   \n",
              "...                  ...               ...               ...              ...   \n",
              "128808               NaN               NaN               NaN          405.941   \n",
              "128809               NaN               NaN               NaN          405.942   \n",
              "128810               NaN               NaN               NaN          405.940   \n",
              "128811               NaN               NaN               NaN          405.939   \n",
              "128812               NaN               NaN               NaN          405.937   \n",
              "\n",
              "        Pegel Obersee  Abfluss Linth  Pegel Linth  Wasser_temp Linth  \\\n",
              "0                 NaN         50.832      418.692              11.51   \n",
              "1                 NaN         50.826      418.692              11.52   \n",
              "2                 NaN         50.854      418.693              11.54   \n",
              "3                 NaN         50.891      418.694              11.55   \n",
              "4                 NaN         50.861      418.693              11.51   \n",
              "...               ...            ...          ...                ...   \n",
              "128808        405.914         57.792      418.841               6.97   \n",
              "128809        405.911         58.003      418.845               6.96   \n",
              "128810        405.911         58.362      418.852               6.94   \n",
              "128811        405.909         58.543      418.855               6.94   \n",
              "128812        405.909         58.671      418.857               6.93   \n",
              "\n",
              "        Abfluss Limmat  Pegel Limmat  \n",
              "0               69.654       400.143  \n",
              "1               69.603       400.142  \n",
              "2               69.620       400.142  \n",
              "3               69.705       400.143  \n",
              "4               69.773       400.144  \n",
              "...                ...           ...  \n",
              "128808         132.843       400.628  \n",
              "128809         132.320       400.624  \n",
              "128810         132.169       400.623  \n",
              "128811         131.393       400.618  \n",
              "128812         130.137       400.609  \n",
              "\n",
              "[128813 rows x 25 columns]"
            ]
          },
          "execution_count": 26,
          "metadata": {},
          "output_type": "execute_result"
        }
      ],
      "source": [
        "# Merge the three datasets\n",
        "df_merged = pd.merge(pd.merge(weather,soil, how=\"left\", on=\"datetime\"), water, how=\"left\", on=\"datetime\")\n",
        "df_merged"
      ]
    },
    {
      "cell_type": "code",
      "execution_count": 27,
      "metadata": {},
      "outputs": [
        {
          "name": "stdout",
          "output_type": "stream",
          "text": [
            "<class 'pandas.core.frame.DataFrame'>\n",
            "Int64Index: 128813 entries, 0 to 128812\n",
            "Data columns (total 25 columns):\n",
            " #   Column                   Non-Null Count   Dtype  \n",
            "---  ------                   --------------   -----  \n",
            " 0   datetime                 128813 non-null  object \n",
            " 1   air_temperature          126659 non-null  float64\n",
            " 2   water_temperature        109907 non-null  float64\n",
            " 3   wind_gust_max_10min      126659 non-null  float64\n",
            " 4   wind_speed_avg_10min     126659 non-null  float64\n",
            " 5   wind_force_avg_10min     126659 non-null  float64\n",
            " 6   wind_direction           126659 non-null  float64\n",
            " 7   windchill                126659 non-null  float64\n",
            " 8   barometric_pressure_qfe  125870 non-null  float64\n",
            " 9   dew_point                126659 non-null  float64\n",
            " 10  humidity                 126659 non-null  float64\n",
            " 11  water_level              109907 non-null  float64\n",
            " 12  precipitation            128813 non-null  float64\n",
            " 13  global_radiation         128813 non-null  float64\n",
            " 14  change_rate              128812 non-null  float64\n",
            " 15  Wädenswil (20cm)         73622 non-null   float64\n",
            " 16  Wädenswil (40cm)         73737 non-null   float64\n",
            " 17  Wädenswil (70cm)         73454 non-null   float64\n",
            " 18  Pegel Zurichsee          128812 non-null  float64\n",
            " 19  Pegel Obersee            122735 non-null  float64\n",
            " 20  Abfluss Linth            128812 non-null  float64\n",
            " 21  Pegel Linth              128812 non-null  float64\n",
            " 22  Wasser_temp Linth        128810 non-null  float64\n",
            " 23  Abfluss Limmat           128811 non-null  float64\n",
            " 24  Pegel Limmat             128811 non-null  float64\n",
            "dtypes: float64(24), object(1)\n",
            "memory usage: 25.6+ MB\n"
          ]
        }
      ],
      "source": [
        "df_merged.info()"
      ]
    },
    {
      "cell_type": "code",
      "execution_count": 28,
      "metadata": {
        "id": "S-dDHvFfLNZK"
      },
      "outputs": [
        {
          "name": "stderr",
          "output_type": "stream",
          "text": [
            "C:\\Users\\lucal\\AppData\\Local\\Temp\\ipykernel_30752\\3592757826.py:4: SettingWithCopyWarning: \n",
            "A value is trying to be set on a copy of a slice from a DataFrame\n",
            "\n",
            "See the caveats in the documentation: https://pandas.pydata.org/pandas-docs/stable/user_guide/indexing.html#returning-a-view-versus-a-copy\n",
            "  df.drop(columns=[\"wind_direction\", \"wind_gust_max_10min\", \"wind_force_avg_10min\", \"windchill\", \"Pegel Zurichsee\", \"Pegel Obersee\", \"Pegel Zurichsee\", \"Pegel Linth\", \"Pegel Limmat\", \"Wasser_temp Linth\"], inplace=True)\n",
            "C:\\Users\\lucal\\AppData\\Local\\Temp\\ipykernel_30752\\3592757826.py:7: SettingWithCopyWarning: \n",
            "A value is trying to be set on a copy of a slice from a DataFrame\n",
            "\n",
            "See the caveats in the documentation: https://pandas.pydata.org/pandas-docs/stable/user_guide/indexing.html#returning-a-view-versus-a-copy\n",
            "  df.rename(columns={\"Wädenswil (20cm)\": \"suction_tension (20cm)\", \"Wädenswil (40cm)\": \"suction_tension (40cm)\", \"Wädenswil (70cm)\": \"suction_tension (70cm)\",\n"
          ]
        }
      ],
      "source": [
        "# select all observation until the end of 2019, from 2020 onwards there are no water level and water temperature data anymore furthermore we only have solar radiation Data\n",
        "# until the end of 2019 (we will read in that dataset further down) \n",
        "df = df_merged.loc[df_merged[\"datetime\"]<\"2019-12-31 23:00:00+01:00\"]\n",
        "df.drop(columns=[\"wind_direction\", \"wind_gust_max_10min\", \"wind_force_avg_10min\", \"windchill\", \"Pegel Zurichsee\", \"Pegel Obersee\", \"Pegel Zurichsee\", \"Pegel Linth\", \"Pegel Limmat\", \"Wasser_temp Linth\"], inplace=True)\n",
        "\n",
        "# rename the columns\n",
        "df.rename(columns={\"Wädenswil (20cm)\": \"suction_tension (20cm)\", \"Wädenswil (40cm)\": \"suction_tension (40cm)\", \"Wädenswil (70cm)\": \"suction_tension (70cm)\",\n",
        " \"wind_speed_avg_10min\": \"wind_speed (m/s)\", \"precipitation\": \"precipitation (mm)\",\"Abfluss Linth\": \"inflow_linth (m3/s)\",\n",
        "                   \"Abfluss Limmat\": \"outflow_limmat (m3/s)\"}, inplace=True)\n"
      ]
    },
    {
      "cell_type": "code",
      "execution_count": 29,
      "metadata": {},
      "outputs": [
        {
          "name": "stderr",
          "output_type": "stream",
          "text": [
            "C:\\Users\\lucal\\AppData\\Local\\Temp\\ipykernel_30752\\3484846742.py:6: SettingWithCopyWarning: \n",
            "A value is trying to be set on a copy of a slice from a DataFrame.\n",
            "Try using .loc[row_indexer,col_indexer] = value instead\n",
            "\n",
            "See the caveats in the documentation: https://pandas.pydata.org/pandas-docs/stable/user_guide/indexing.html#returning-a-view-versus-a-copy\n",
            "  df[[\"suction_tension (20cm)\", \"suction_tension (40cm)\", \"suction_tension (70cm)\", \"air_temperature\", \"water_temperature\", \"wind_speed (m/s)\",\n"
          ]
        }
      ],
      "source": [
        "\n",
        "# impute the missing values of the dataset using spline interpolate imputation. We are taking the mean of the two values before and after the \n",
        "# observation with the missing value to get the best possible approximation. The interpolate imputation is the best method to impute \n",
        "# and we chose the spline method because that way we can smooth the estimations since we don´t have linear data\n",
        "# source: https://www.section.io/engineering-education/missing-values-in-time-series/ \n",
        "\n",
        "df[[\"suction_tension (20cm)\", \"suction_tension (40cm)\", \"suction_tension (70cm)\", \"air_temperature\", \"water_temperature\", \"wind_speed (m/s)\", \n",
        "\"barometric_pressure_qfe\", \"dew_point\", \"humidity\",\"water_level\", \"inflow_linth (m3/s)\",\"outflow_limmat (m3/s)\"]]= df[[\"suction_tension (20cm)\", \n",
        "\"suction_tension (40cm)\", \"suction_tension (70cm)\", \"air_temperature\", \"water_temperature\", \"wind_speed (m/s)\", \"barometric_pressure_qfe\", \n",
        "\"dew_point\", \"humidity\",\"water_level\", \"inflow_linth (m3/s)\",\"outflow_limmat (m3/s)\"]].interpolate(option='spline')\n"
      ]
    },
    {
      "cell_type": "code",
      "execution_count": 30,
      "metadata": {},
      "outputs": [
        {
          "name": "stderr",
          "output_type": "stream",
          "text": [
            "C:\\Users\\lucal\\AppData\\Local\\Temp\\ipykernel_30752\\132330667.py:2: SettingWithCopyWarning: \n",
            "A value is trying to be set on a copy of a slice from a DataFrame.\n",
            "Try using .loc[row_indexer,col_indexer] = value instead\n",
            "\n",
            "See the caveats in the documentation: https://pandas.pydata.org/pandas-docs/stable/user_guide/indexing.html#returning-a-view-versus-a-copy\n",
            "  df[\"change_rate\"] = df[\"water_level\"].pct_change()\n"
          ]
        }
      ],
      "source": [
        "# update the change rate variable after imputing the water level variable\n",
        "df[\"change_rate\"] = df[\"water_level\"].pct_change()"
      ]
    },
    {
      "cell_type": "code",
      "execution_count": 33,
      "metadata": {},
      "outputs": [
        {
          "name": "stdout",
          "output_type": "stream",
          "text": [
            "<class 'pandas.core.frame.DataFrame'>\n",
            "Int64Index: 111267 entries, 0 to 111266\n",
            "Data columns (total 16 columns):\n",
            " #   Column                   Non-Null Count   Dtype  \n",
            "---  ------                   --------------   -----  \n",
            " 0   datetime                 111267 non-null  object \n",
            " 1   air_temperature          111267 non-null  float64\n",
            " 2   water_temperature        111267 non-null  float64\n",
            " 3   wind_speed (m/s)         111267 non-null  float64\n",
            " 4   barometric_pressure_qfe  111267 non-null  float64\n",
            " 5   dew_point                111267 non-null  float64\n",
            " 6   humidity                 111267 non-null  float64\n",
            " 7   water_level              111267 non-null  float64\n",
            " 8   precipitation (mm)       111267 non-null  float64\n",
            " 9   global_radiation         111267 non-null  float64\n",
            " 10  change_rate              111266 non-null  float64\n",
            " 11  suction_tension (20cm)   70126 non-null   float64\n",
            " 12  suction_tension (40cm)   70126 non-null   float64\n",
            " 13  suction_tension (70cm)   70126 non-null   float64\n",
            " 14  inflow_linth (m3/s)      111267 non-null  float64\n",
            " 15  outflow_limmat (m3/s)    111267 non-null  float64\n",
            "dtypes: float64(15), object(1)\n",
            "memory usage: 14.4+ MB\n"
          ]
        }
      ],
      "source": [
        "# right now we still have data from 2007 onwards but when merging later in this notebook with the radiation data we will only have data from 2012 onwards because our \n",
        "# suction tension data only starts in 2012 \n",
        "\n",
        "df.info()"
      ]
    },
    {
      "cell_type": "markdown",
      "metadata": {},
      "source": [
        "# Clean radiation dataset and merge with the other dataset"
      ]
    },
    {
      "cell_type": "code",
      "execution_count": 34,
      "metadata": {},
      "outputs": [],
      "source": [
        "# read in dataset\n",
        "RA = pd.read_csv(\"../../Data/raw_data/extrater_radiation_agg.csv\")"
      ]
    },
    {
      "cell_type": "code",
      "execution_count": 35,
      "metadata": {
        "id": "D1B0IxpZVBuP"
      },
      "outputs": [],
      "source": [
        "# rename column \n",
        "RA.rename(columns={\"Irradiance (W/m2)\": \"extraterrestial_radiation\"}, inplace=True)\n",
        "#  merge the two dataframes\n",
        "df_RA = pd.merge(df, RA, how=\"inner\", on=\"datetime\")"
      ]
    },
    {
      "cell_type": "code",
      "execution_count": 36,
      "metadata": {
        "colab": {
          "base_uri": "https://localhost:8080/"
        },
        "id": "HlU_b9FwVejs",
        "outputId": "d120daa0-5423-42b7-a242-92cd6821f74f"
      },
      "outputs": [
        {
          "data": {
            "text/plain": [
              "array([False])"
            ]
          },
          "execution_count": 36,
          "metadata": {},
          "output_type": "execute_result"
        }
      ],
      "source": [
        "# check if there are any missing values after the merge\n",
        "df_RA[\"extraterrestial_radiation\"].isna().unique()"
      ]
    },
    {
      "cell_type": "code",
      "execution_count": 39,
      "metadata": {
        "colab": {
          "base_uri": "https://localhost:8080/"
        },
        "id": "0_5jbxa6WisX",
        "outputId": "eec39ad3-8f3b-47a9-cc5e-ee4b0a4cef80"
      },
      "outputs": [
        {
          "name": "stdout",
          "output_type": "stream",
          "text": [
            "<class 'pandas.core.frame.DataFrame'>\n",
            "Int64Index: 69361 entries, 0 to 69360\n",
            "Data columns (total 17 columns):\n",
            " #   Column                     Non-Null Count  Dtype  \n",
            "---  ------                     --------------  -----  \n",
            " 0   datetime                   69361 non-null  object \n",
            " 1   air_temperature            69361 non-null  float64\n",
            " 2   water_temperature          69361 non-null  float64\n",
            " 3   wind_speed (m/s)           69361 non-null  float64\n",
            " 4   barometric_pressure_qfe    69361 non-null  float64\n",
            " 5   dew_point                  69361 non-null  float64\n",
            " 6   humidity                   69361 non-null  float64\n",
            " 7   water_level                69361 non-null  float64\n",
            " 8   precipitation (mm)         69361 non-null  float64\n",
            " 9   global_radiation           69361 non-null  float64\n",
            " 10  change_rate                69361 non-null  float64\n",
            " 11  suction_tension (20cm)     69361 non-null  float64\n",
            " 12  suction_tension (40cm)     69361 non-null  float64\n",
            " 13  suction_tension (70cm)     69361 non-null  float64\n",
            " 14  inflow_linth (m3/s)        69361 non-null  float64\n",
            " 15  outflow_limmat (m3/s)      69361 non-null  float64\n",
            " 16  extraterrestial_radiation  69361 non-null  float64\n",
            "dtypes: float64(16), object(1)\n",
            "memory usage: 9.5+ MB\n"
          ]
        }
      ],
      "source": [
        "df_RA.info()"
      ]
    },
    {
      "cell_type": "code",
      "execution_count": 14,
      "metadata": {
        "id": "fLtpt0oDkpSM"
      },
      "outputs": [],
      "source": [
        "# this is the simplified version of the penman equation to compute evaporation based on global radiation (RS), air teperature (T), extraterrestial radiation (RA), \n",
        "# humidity (RH), and wind speed (U)\n",
        "# we derived this formula from the following source: Valiantzas, J.D. (2006). Simplified versions for the Penman evaporation equation using routine weather data, \n",
        "# Journal of Hydrology, 331(3–4), 690-702. https://doi.org/10.1016/j.jhydrol.2006.06.012.\n",
        " \n",
        "def evaporation(RS,T,RA,RH,U, alpha=0.08, au=0.5):\n",
        "  Epen = (0.051*(1-alpha)*RS*np.sqrt(T+9.5))-(2.4*(RS/RA)**2)+(0.052*(T+20)*(1-(RH/100))*(au-0.38+0.54*U))\n",
        "  return Epen"
      ]
    },
    {
      "cell_type": "code",
      "execution_count": 15,
      "metadata": {
        "colab": {
          "base_uri": "https://localhost:8080/"
        },
        "id": "K2cbWj_q3lUE",
        "outputId": "f73696f6-0a4a-4163-c67c-79e4d3361c7a"
      },
      "outputs": [
        {
          "name": "stderr",
          "output_type": "stream",
          "text": [
            "c:\\Users\\lucal\\miniconda3\\envs\\dsf\\lib\\site-packages\\pandas\\core\\arraylike.py:402: RuntimeWarning: invalid value encountered in sqrt\n",
            "  result = getattr(ufunc, method)(*inputs, **kwargs)\n"
          ]
        }
      ],
      "source": [
        "# create new variable evaporation by applying the evaporation function\n",
        "df_RA[\"evaporation\"] = evaporation(df_RA[\"global_radiation\"], df_RA[\"air_temperature\"], df_RA[\"extraterrestial_radiation\"], df_RA[\"humidity\"], df_RA[\"wind_speed (m/s)\"])"
      ]
    },
    {
      "cell_type": "code",
      "execution_count": 16,
      "metadata": {},
      "outputs": [],
      "source": [
        "# set datetime as index\n",
        "df_RA.set_index(\"datetime\", inplace=True)"
      ]
    },
    {
      "cell_type": "code",
      "execution_count": 17,
      "metadata": {},
      "outputs": [],
      "source": [
        "# For the missing values of the evaporation we are using the KNNImputer to fill in the missing values.\n",
        "# we use the KNN imputer because it fills in the value based of the mean values of observations with variable values most similar to the observation\n",
        "# with the missing value. \n",
        "# The NaNs occure for observations with a very low (ca. below -9 degrees Celsius) temperature because then the argument in the square root\n",
        "# turn negative. Because of this we often have missing values for many consecutive observations in a row and because we have all other values\n",
        "# for of one observation the KNN imputer makes more sense than interpolation \n",
        "\n",
        "# We are standardizing the values before we apply the KNN imputer and destandardize them afterwards again. That way we circumvent biases for the\n",
        "# imputed values\n",
        "# source: Htoon, K. S. (2020).  A Guide To KNN Imputation. retrieved from: \n",
        "# https://medium.com/@kyawsawhtoon/a-guide-to-knn-imputation-95e2dc496e\n",
        "\n",
        "# import KNN imputer\n",
        "from sklearn.impute import KNNImputer\n",
        "# import MinMaxScaler \n",
        "from sklearn.preprocessing import MinMaxScaler\n",
        "scaler = MinMaxScaler()\n",
        "# standardize data\n",
        "data_scaled = pd.DataFrame(scaler.fit_transform(df_RA), columns = df_RA.columns)\n",
        "\n",
        "imputer = KNNImputer()\n",
        "# impute missing values with KNN imputer and convert them to floats\n",
        "data_imputed = pd.DataFrame(imputer.fit_transform(data_scaled), columns=df_RA.columns, index = df_RA.index).astype(float)\n",
        "# de standardize the imputed dataframe to get original unit of measurement\n",
        "data_imputed = pd.DataFrame(scaler.inverse_transform(data_imputed), columns = df_RA.columns, index = df_RA.index)\n"
      ]
    },
    {
      "cell_type": "code",
      "execution_count": 18,
      "metadata": {},
      "outputs": [
        {
          "name": "stdout",
          "output_type": "stream",
          "text": [
            "<class 'pandas.core.frame.DataFrame'>\n",
            "Index: 69361 entries, 2012-01-01 01:00:00+01:00 to 2019-11-30 01:00:00+01:00\n",
            "Data columns (total 17 columns):\n",
            " #   Column                     Non-Null Count  Dtype  \n",
            "---  ------                     --------------  -----  \n",
            " 0   air_temperature            69361 non-null  float64\n",
            " 1   water_temperature          69361 non-null  float64\n",
            " 2   wind_speed (m/s)           69361 non-null  float64\n",
            " 3   barometric_pressure_qfe    69361 non-null  float64\n",
            " 4   dew_point                  69361 non-null  float64\n",
            " 5   humidity                   69361 non-null  float64\n",
            " 6   water_level                69361 non-null  float64\n",
            " 7   precipitation (mm)         69361 non-null  float64\n",
            " 8   global_radiation           69361 non-null  float64\n",
            " 9   change_rate                69361 non-null  float64\n",
            " 10  suction_tension (20cm)     69361 non-null  float64\n",
            " 11  suction_tension (40cm)     69361 non-null  float64\n",
            " 12  suction_tension (70cm)     69361 non-null  float64\n",
            " 13  inflow_linth (m3/s)        69361 non-null  float64\n",
            " 14  outflow_limmat (m3/s)      69361 non-null  float64\n",
            " 15  extraterrestial_radiation  69361 non-null  float64\n",
            " 16  evaporation                69361 non-null  float64\n",
            "dtypes: float64(17)\n",
            "memory usage: 9.5+ MB\n"
          ]
        }
      ],
      "source": [
        "data_imputed.info()"
      ]
    },
    {
      "cell_type": "code",
      "execution_count": 19,
      "metadata": {},
      "outputs": [],
      "source": [
        "# safe dataframe with all variables as csv\n",
        "data_imputed.to_csv(\"../../Data/clean_data/data_hourly_all_variables.csv\", index=True)"
      ]
    },
    {
      "cell_type": "code",
      "execution_count": 20,
      "metadata": {
        "colab": {
          "base_uri": "https://localhost:8080/",
          "height": 329
        },
        "id": "FOaO2Kv-coC2",
        "outputId": "77a06796-dd62-408d-9cc5-2c79c637cf07"
      },
      "outputs": [],
      "source": [
        "# drop variables that are included in the evaporation\n",
        "df_reduced = data_imputed.drop(columns=[\"air_temperature\", \"wind_speed (m/s)\", \"global_radiation\", \"humidity\", \"extraterrestial_radiation\"])\n"
      ]
    },
    {
      "cell_type": "code",
      "execution_count": 23,
      "metadata": {
        "colab": {
          "base_uri": "https://localhost:8080/",
          "height": 679
        },
        "id": "jvbB420XqLa0",
        "outputId": "531f3e41-a7b2-4ad2-a790-1dff408d00b9"
      },
      "outputs": [],
      "source": [
        "# safe dataframe with reduced variabels as csv\n",
        "df_reduced.to_csv(\"../../Data/clean_data/data_hourly_reduced_variables.csv\", index=True)"
      ]
    },
    {
      "cell_type": "code",
      "execution_count": null,
      "metadata": {},
      "outputs": [],
      "source": []
    },
    {
      "cell_type": "code",
      "execution_count": null,
      "metadata": {},
      "outputs": [],
      "source": []
    }
  ],
  "metadata": {
    "colab": {
      "provenance": []
    },
    "kernelspec": {
      "display_name": "Python 3.10.6 ('dsf')",
      "language": "python",
      "name": "python3"
    },
    "language_info": {
      "codemirror_mode": {
        "name": "ipython",
        "version": 3
      },
      "file_extension": ".py",
      "mimetype": "text/x-python",
      "name": "python",
      "nbconvert_exporter": "python",
      "pygments_lexer": "ipython3",
      "version": "3.10.6"
    },
    "vscode": {
      "interpreter": {
        "hash": "33dbeeb1e0acb46a7865d1331f999416a9ee3844dbf7752d63c1fb0c04927faa"
      }
    }
  },
  "nbformat": 4,
  "nbformat_minor": 0
}
