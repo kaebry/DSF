{
 "cells": [
  {
   "cell_type": "code",
   "execution_count": 1,
   "metadata": {},
   "outputs": [],
   "source": [
    "import pandas as pd\n",
    "from datetime import datetime\n",
    "path = \"C:/Users/lucal/Documents/HSG/7._Semester/DSF/Project/13560_3922_2022-11-14_13-23-31 (1) - Copia/\""
   ]
  },
  {
   "cell_type": "code",
   "execution_count": 2,
   "metadata": {},
   "outputs": [],
   "source": [
    "############################################################\n",
    "# Obersee\n",
    "############################################################\n",
    "\n",
    "# Merge Datasets for Obersee (Station 2014)\n",
    "Obersee1 = pd.read_csv(path + \"2014_Pegel_Stundenmittel_2008-01-01_2018-12-31.csv\", encoding='latin1', skiprows = 8, sep=\";\").loc[:,[\"Zeitstempel\",\"Wert\"]]\n",
    "Obersee1[\"datetime\"] = pd.to_datetime(Obersee1[\"Zeitstempel\"])\n",
    "Obersee1.drop(columns=\"Zeitstempel\", inplace=True)\n",
    "Obersee2 = pd.read_csv(path + \"2014_Pegel_Stundenmittel_2019-01-01_2022-11-13.csv\", encoding='latin1', skiprows = 8, sep=\";\").loc[:,[\"Zeitstempel\",\"Wert\"]]\n",
    "Obersee2[\"datetime\"] = pd.to_datetime(Obersee2[\"Zeitstempel\"])\n",
    "Obersee2.drop(columns=\"Zeitstempel\", inplace=True)\n",
    "dfs = [Obersee1, Obersee2]\n",
    "obersee = pd.concat(dfs)\n",
    "obersee = obersee.rename(columns={\"Wert\": \"Pegel Obersee\"})"
   ]
  },
  {
   "cell_type": "code",
   "execution_count": 3,
   "metadata": {},
   "outputs": [],
   "source": [
    "############################################################\n",
    "# Limmat\n",
    "############################################################\n",
    "\n",
    "# Merge Datasets for Limmat Abfluss (Station 2099)\n",
    "Lim_Ab1 = pd.read_csv(path + \"2099_Abfluss_Stundenmittel_2000-01-01_2018-12-31.csv\", encoding='latin1', skiprows = 8, sep=\";\").loc[:,[\"Zeitstempel\",\"Wert\"]]\n",
    "Lim_Ab1[\"datetime\"] = pd.to_datetime(Lim_Ab1[\"Zeitstempel\"])\n",
    "Lim_Ab1.drop(columns=\"Zeitstempel\", inplace=True)\n",
    "Lim_Ab2 = pd.read_csv(path + \"2099_Abfluss_Stundenmittel_2019-01-01_2022-11-13.csv\", encoding='latin1', skiprows = 8, sep=\";\").loc[:,[\"Zeitstempel\",\"Wert\"]]\n",
    "Lim_Ab2[\"datetime\"] = pd.to_datetime(Lim_Ab2[\"Zeitstempel\"])\n",
    "Lim_Ab2.drop(columns=\"Zeitstempel\", inplace=True)\n",
    "lim = [Lim_Ab1, Lim_Ab2]\n",
    "lim_abfluss = pd.concat(lim)\n",
    "\n",
    "# Merge Datasets for Limmat Pegel (Station 2099)\n",
    "Lim_peg1 = pd.read_csv(path + \"2099_Pegel_Stundenmittel_2000-01-01_2018-12-31.csv\", encoding='latin1', skiprows = 8, sep=\";\").loc[:,[\"Zeitstempel\",\"Wert\"]]\n",
    "Lim_peg1[\"datetime\"] = pd.to_datetime(Lim_peg1[\"Zeitstempel\"])\n",
    "Lim_peg1.drop(columns=\"Zeitstempel\", inplace=True)\n",
    "Lim_peg2 = pd.read_csv(path + \"2099_Pegel_Stundenmittel_2019-01-01_2022-11-13.csv\", encoding='latin1', skiprows = 8, sep=\";\").loc[:,[\"Zeitstempel\",\"Wert\"]]\n",
    "Lim_peg2[\"datetime\"] = pd.to_datetime(Lim_peg2[\"Zeitstempel\"])\n",
    "Lim_peg2.drop(columns=\"Zeitstempel\", inplace=True)\n",
    "limp = [Lim_peg1, Lim_peg2]\n",
    "lim_pegel = pd.concat(limp)\n",
    "\n",
    "# merge limmat datasets\n",
    "limmat = pd.DataFrame.merge(lim_abfluss, lim_pegel, how=\"left\", on=\"datetime\")\n",
    "limmat = limmat.rename(columns={\"Wert_x\": \"Abfluss Limmat\", \"Wert_y\": \"Pegel Limmat\"})"
   ]
  },
  {
   "cell_type": "code",
   "execution_count": 4,
   "metadata": {},
   "outputs": [],
   "source": [
    "############################################################\n",
    "# Linth\n",
    "############################################################\n",
    "\n",
    "# Merge Datasets for Linth Abfluss (Station 2104)\n",
    "linth_ab1 = pd.read_csv(path + \"2104_Abfluss_Stundenmittel_2000-01-01_2018-12-31.csv\", encoding='latin1', skiprows = 8, sep=\";\").loc[:,[\"Zeitstempel\",\"Wert\"]]\n",
    "linth_ab1[\"datetime\"] = pd.to_datetime(linth_ab1[\"Zeitstempel\"])\n",
    "linth_ab1.drop(columns=\"Zeitstempel\", inplace=True)\n",
    "linth_ab2 = pd.read_csv(path + \"2104_Abfluss_Stundenmittel_2019-01-01_2022-11-13.csv\", encoding='latin1', skiprows = 8, sep=\";\").loc[:,[\"Zeitstempel\",\"Wert\"]]\n",
    "linth_ab2[\"datetime\"] = pd.to_datetime(linth_ab2[\"Zeitstempel\"])\n",
    "linth_ab2.drop(columns=\"Zeitstempel\", inplace=True)\n",
    "lin = [linth_ab1, linth_ab2]\n",
    "linth_abfluss = pd.concat(lin)\n",
    "\n",
    "# Merge Datasets for Linth Pegel (Station 2104)\n",
    "linth_peg1 = pd.read_csv(path + \"2104_Pegel_Stundenmittel_2000-01-01_2018-12-31.csv\", encoding='latin1', skiprows = 8, sep=\";\").loc[:,[\"Zeitstempel\",\"Wert\"]]\n",
    "linth_peg1[\"datetime\"] = pd.to_datetime(linth_peg1[\"Zeitstempel\"])\n",
    "linth_peg1.drop(columns=\"Zeitstempel\", inplace=True)\n",
    "linth_peg2 = pd.read_csv(path + \"2104_Pegel_Stundenmittel_2019-01-01_2022-11-13.csv\", encoding='latin1', skiprows = 8, sep=\";\").loc[:,[\"Zeitstempel\",\"Wert\"]]\n",
    "linth_peg2[\"datetime\"] = pd.to_datetime(linth_peg2[\"Zeitstempel\"])\n",
    "linth_peg2.drop(columns=\"Zeitstempel\", inplace=True)\n",
    "lin1 = [linth_peg1, linth_peg2]\n",
    "linth_pegel = pd.concat(lin1)\n",
    "\n",
    "# Merge Datasets for Linth Wassertemperatur (Station 2104)\n",
    "linth_temp1 = pd.read_csv(path + \"2104_Wassertemperatur_Stundenmittel_2000-01-01_2018-12-31.csv\", encoding='latin1', skiprows = 8, sep=\";\").loc[:,[\"Zeitstempel\",\"Wert\"]]\n",
    "linth_temp1[\"datetime\"] = pd.to_datetime(linth_temp1[\"Zeitstempel\"])\n",
    "linth_temp1.drop(columns=\"Zeitstempel\", inplace=True)\n",
    "linth_temp2 = pd.read_csv(path + \"2104_Wassertemperatur_Stundenmittel_2019-01-01_2022-11-13.csv\", encoding='latin1', skiprows = 8, sep=\";\").loc[:,[\"Zeitstempel\",\"Wert\"]]\n",
    "linth_temp2[\"datetime\"] = pd.to_datetime(linth_temp2[\"Zeitstempel\"])\n",
    "linth_temp2.drop(columns=\"Zeitstempel\", inplace=True)\n",
    "lin2 = [linth_temp1, linth_temp2]\n",
    "linth_temp = pd.concat(lin2)\n",
    "\n",
    "\n",
    "# merge linth datasets\n",
    "linth = pd.merge(pd.merge(linth_abfluss, linth_pegel, how=\"left\", on=\"datetime\"), linth_temp, how=\"left\", on=\"datetime\")\n",
    "linth = linth.rename(columns={\"Wert_x\": \"Abfluss Linth\", \"Wert_y\": \"Pegel Linth\", \"Wert\": \"Wasser_temp Linth\"})\n"
   ]
  },
  {
   "cell_type": "code",
   "execution_count": 5,
   "metadata": {},
   "outputs": [],
   "source": [
    "\n",
    "############################################################\n",
    "# Zürichsee\n",
    "############################################################\n",
    "\n",
    "\n",
    "# Merge Datasets for Zürichsee (Station 2209)\n",
    "see1 = pd.read_csv(path + \"2209_Pegel_Stundenmittel_2000-01-01_2018-12-31.csv\", encoding='latin1', skiprows = 8, sep=\";\").loc[:,[\"Zeitstempel\",\"Wert\"]]\n",
    "see1[\"datetime\"] = pd.to_datetime(see1[\"Zeitstempel\"])\n",
    "see1.drop(columns=\"Zeitstempel\", inplace=True)\n",
    "see2 = pd.read_csv(path + \"2209_Pegel_Stundenmittel_2019-01-01_2022-11-13.csv\", encoding='latin1', skiprows = 8, sep=\";\").loc[:,[\"Zeitstempel\",\"Wert\"]]\n",
    "see2[\"datetime\"] = pd.to_datetime(see2[\"Zeitstempel\"])\n",
    "see2.drop(columns=\"Zeitstempel\", inplace=True)\n",
    "seez = [see1,see2]\n",
    "zurichsee = pd.concat(seez)\n",
    "zurichsee= zurichsee.rename(columns={\"Wert\": \"Pegel Zurichsee\"})\n"
   ]
  },
  {
   "cell_type": "code",
   "execution_count": 6,
   "metadata": {},
   "outputs": [],
   "source": [
    "# merge all datasets and chagne order of columns\n",
    "wasser_agg = pd.merge(pd.merge(pd.merge(zurichsee, obersee, how=\"left\", on=\"datetime\"), linth, how=\"left\", on=\"datetime\"), limmat, how=\"left\", on=\"datetime\")\n",
    "wasser_agg = wasser_agg.iloc[:,[1,0,2,3,4,5,6,7]]"
   ]
  },
  {
   "cell_type": "code",
   "execution_count": 7,
   "metadata": {},
   "outputs": [],
   "source": [
    "# import pytz package for handling timezones\n",
    "import pytz\n",
    "# convert DateTime column into datetime format\n",
    "wasser_agg[\"datetime\"] = pd.to_datetime(wasser_agg['datetime'])\n",
    "# function that converts datetime column into CET timezone and accounts for Daylight saving\n",
    "def add_timezone(df):\n",
    "    timeZone = pytz.timezone(\"CET\")\n",
    "    df['datetime'] = df['datetime'].dt.tz_localize('UTC')\n",
    "    df['datetime'] = df['datetime'].dt.tz_convert(timeZone)\n",
    "    return df\n",
    "\n",
    "add_timezone(wasser_agg)\n",
    "\n",
    "# set DateTime as index\n",
    "wasser_agg.set_index(\"datetime\", inplace=True)"
   ]
  },
  {
   "cell_type": "code",
   "execution_count": 8,
   "metadata": {},
   "outputs": [],
   "source": [
    "wasser_agg.to_csv(\"waterdata_agg.csv\", index=True)"
   ]
  },
  {
   "cell_type": "code",
   "execution_count": 17,
   "metadata": {},
   "outputs": [
    {
     "name": "stdout",
     "output_type": "stream",
     "text": [
      "<class 'pandas.core.frame.DataFrame'>\n",
      "DatetimeIndex: 200471 entries, 2000-01-01 01:00:00+01:00 to 2022-11-14 00:00:00+01:00\n",
      "Data columns (total 7 columns):\n",
      " #   Column             Non-Null Count   Dtype  \n",
      "---  ------             --------------   -----  \n",
      " 0   Pegel Zurichsee    200471 non-null  float64\n",
      " 1   Pegel Obersee      130343 non-null  float64\n",
      " 2   Abfluss Linth      200471 non-null  float64\n",
      " 3   Pegel Linth        200471 non-null  float64\n",
      " 4   Wasser_temp Linth  200469 non-null  float64\n",
      " 5   Abfluss Limmat     200470 non-null  float64\n",
      " 6   Pegel Limmat       200470 non-null  float64\n",
      "dtypes: float64(7)\n",
      "memory usage: 12.2 MB\n"
     ]
    }
   ],
   "source": [
    "wasser_agg.info()"
   ]
  },
  {
   "cell_type": "code",
   "execution_count": null,
   "metadata": {},
   "outputs": [],
   "source": []
  }
 ],
 "metadata": {
  "kernelspec": {
   "display_name": "Python 3.10.7 64-bit",
   "language": "python",
   "name": "python3"
  },
  "language_info": {
   "codemirror_mode": {
    "name": "ipython",
    "version": 3
   },
   "file_extension": ".py",
   "mimetype": "text/x-python",
   "name": "python",
   "nbconvert_exporter": "python",
   "pygments_lexer": "ipython3",
   "version": "3.10.7"
  },
  "orig_nbformat": 4,
  "vscode": {
   "interpreter": {
    "hash": "e7246493e8e053d12de9fef8c1b7921da243343686ec644d29fa49dad6994531"
   }
  }
 },
 "nbformat": 4,
 "nbformat_minor": 2
}
