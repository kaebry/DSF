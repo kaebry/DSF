{
 "cells": [
  {
   "cell_type": "markdown",
   "metadata": {},
   "source": [
    "## Convert Daily Extraterrestial Solar Radiation to Daily Values "
   ]
  },
  {
   "cell_type": "code",
   "execution_count": 20,
   "metadata": {},
   "outputs": [],
   "source": [
    "import pandas as pd"
   ]
  },
  {
   "cell_type": "code",
   "execution_count": 21,
   "metadata": {},
   "outputs": [],
   "source": [
    "# read in the file and rename column\n",
    "RA = pd.read_csv(\"C:/Users\\lucal/Downloads/SoDa_E0-and-ToA_lat47.367_lon8.550_2012-01-01_2019-11-30_1943904722.csv\",skiprows=14, sep=\";\")\n",
    "RA= RA.rename(columns={\"# Year\": \"Year\"})"
   ]
  },
  {
   "cell_type": "code",
   "execution_count": 22,
   "metadata": {},
   "outputs": [],
   "source": [
    "# keep only date and extraterrestial radiation columns\n",
    "cols = [3,4,6,7]\n",
    "RA.drop(RA.columns[cols], axis=1, inplace=True)"
   ]
  },
  {
   "cell_type": "code",
   "execution_count": 23,
   "metadata": {},
   "outputs": [],
   "source": [
    "# create datetime variable and drop old columns with Year, Month and Day values\n",
    "RA[\"datetime\"] = pd.to_datetime(RA[['Year', 'Month', 'Day']])\n",
    "RA.drop(RA.columns[[0,1,2]], axis=1, inplace=True)\n"
   ]
  },
  {
   "cell_type": "code",
   "execution_count": 6,
   "metadata": {},
   "outputs": [],
   "source": [
    "# import pytz package for handling timezones\n",
    "import pytz\n",
    "# function that converts datetime column into CET timezone and accounts for Daylight saving\n",
    "def add_timezone(df):\n",
    "    timeZone = pytz.timezone(\"CET\")\n",
    "    df['datetime'] = df['datetime'].dt.tz_localize('UTC')\n",
    "    df['datetime'] = df['datetime'].dt.tz_convert(timeZone)\n",
    "    return df\n",
    "\n",
    "add_timezone(RA)\n",
    "# set datetime variable as index\n",
    "RA.set_index(\"datetime\", inplace=True)"
   ]
  },
  {
   "cell_type": "code",
   "execution_count": 7,
   "metadata": {},
   "outputs": [],
   "source": [
    "# upsample daily values to hourly values using the resample method and fill hourly NaNs with daily values of the respective day \n",
    "RA = RA.resample('H').ffill()"
   ]
  },
  {
   "cell_type": "code",
   "execution_count": 8,
   "metadata": {},
   "outputs": [],
   "source": [
    "# divide all values in the radiation column by 24 to have hourly values \n",
    "RA = RA[[\"Irradiance (W/m2)\"]]/24\n"
   ]
  },
  {
   "cell_type": "code",
   "execution_count": 19,
   "metadata": {},
   "outputs": [],
   "source": [
    "RA.to_csv(\"../Data/extrater_radiation\", index=True)"
   ]
  },
  {
   "cell_type": "code",
   "execution_count": null,
   "metadata": {},
   "outputs": [],
   "source": []
  }
 ],
 "metadata": {
  "kernelspec": {
   "display_name": "Python 3.10.7 64-bit",
   "language": "python",
   "name": "python3"
  },
  "language_info": {
   "codemirror_mode": {
    "name": "ipython",
    "version": 3
   },
   "file_extension": ".py",
   "mimetype": "text/x-python",
   "name": "python",
   "nbconvert_exporter": "python",
   "pygments_lexer": "ipython3",
   "version": "3.10.7"
  },
  "orig_nbformat": 4,
  "vscode": {
   "interpreter": {
    "hash": "e7246493e8e053d12de9fef8c1b7921da243343686ec644d29fa49dad6994531"
   }
  }
 },
 "nbformat": 4,
 "nbformat_minor": 2
}
